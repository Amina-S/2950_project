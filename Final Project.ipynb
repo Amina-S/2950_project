{
 "cells": [
  {
   "cell_type": "markdown",
   "metadata": {},
   "source": [
    "# Student Opinions on Courses in Relation with Piazza.com Engagement\n",
    "## INFO 2950 Final Project\n",
    "#### Amina Shikhalieva, Gauri Pidatala"
   ]
  },
  {
   "cell_type": "markdown",
   "metadata": {},
   "source": [
    "## Introduction\n",
    "\n",
    "The purpose of this report is to utilize data publicly available on [piazza.com](https://piazza.com/) and [ratemyprofessors.com](https://www.ratemyprofessors.com/) to answer the question: \"What makes a class good?\". We use ratings for professors as a general indicator of how positive or negative the average student's experience was with the professor for a particular course for a particular semester, and look for patterns between good ratings and other observations in our data. Variables like class size (reflected by the Piazza enrollment), average percentage of the class engaging on Piazza, course level, and average instructor response time on Piazza are all analyzed. \n",
    "Maximizing learning and improving the student experience in a class should always be a prioritiy of instructors. If this investigation shows that behaviors like encouraging student engagement on piazza.com, responding to piazza questions in a timely manner, and limiting class sizes significantly correlates with higher student ratings of a class, this information can be used to improve student satisfaction and learning for a large range of courses both at Cornell and elsewhere. Especially now in the shift to online learning, resources such as piazza.com are becoming one of the only ways some students have of getting help in and engaging in a course, so it is only more important now to understand the its impact in learning.\n",
    "\n",
    "[] insert findings summary []"
   ]
  },
  {
   "cell_type": "markdown",
   "metadata": {},
   "source": [
    "## Data Description\n",
    "\n",
    "\n",
    "#### Dataset description\n",
    "- all_data:\n",
    "    - observances: each row represents one review on [ratemyprofessors.com](https://www.ratemyprofessors.com/)\n",
    "    - attributes:\n",
    "        - instructor: string, full name of the instructor who the review is about\n",
    "        - quality: int, 1-5, rating quality of the professor\n",
    "        - difficulty: int, 1-5, rating difficulty of professor's teaching style\n",
    "        - take_again: string, whether or not the reviewer would retake the course given their experience in it\t\n",
    "        - timestamp: string, date of when review was posted\n",
    "        - course_number: int, number portion of course name\n",
    "        - department: string, abbreviation of course department, from course name\n",
    "        - course_name: string, full course name (department + number)\n",
    "        - avg_quality: float, average quality rating of instructor who the review is about\n",
    "        - avg_difficulty: float, average difficulty rating of instructor who the review is about\t\n",
    "        - questions: int, total questions asked on piazza for the course taught by the professor for the course and professor the review is about\n",
    "        - %response: float, percentage of piazza questions that got a response for the course taught by the professor for the course and professor the review is about\n",
    "        - contributions: int, total number of piazza contributions for the course taught by the professor for the course and professor the review is about\n",
    "        - avg_response_time: int, number of minutes the average piazza question had been waiting for an answer for the course taught by the professor for the course and professor the review is about\t\n",
    "        - enrolled: int, total number of students signed into the piazza for the course taught by the professor for the course and professor the review is about\n",
    "        - %instructor_response: float, percentage of piazza questions answered by instructors for the course taught by the professor for the course and professor the review is about\n",
    "        - %active: float, percentage of students enrolled who contributed on piazza at least once, for the course taught by the professor for the course and professor the review is about\n",
    "        - semester: string, the semester a piazza course was taken (not necessarily the same semester as the review for the course)\n",
    "      \n",
    "\n",
    "#### Data acquisition\n",
    "*see [web scraping code appendix](Appendix2.ipynb)*\n",
    "##### **piazza.com** \n",
    "* See [piazza_data_collect.ipynb](piazza_data_collect.ipynb) \n",
    "* Every course on Piazza has a stats report accessible to anyone enrolled in the class (under the statistics tab). A few courses do not have this report because there was not enough piazza activity. \n",
    "* We compiled a list of courses (with no duplicates) from various departments taught in various semesters that used piazza.com as an interactive platform. For each of these courses, we recorded the URL for its stats page in the file \"piazza_stats.txt\". Here we also manually added the semester corresponding to each stats report. We then iterated through each of the URLs in the file and recorded in \"piazza .csv\" various attributes for each course\n",
    "* As of now, some of our piazza stats course names are irregular. Because there is only a small number of these irregularities and they don't follow any particular pattern, we chose to manually fix each one\n",
    "* We also need to get rid of the '%' following the values in columns \"% response\" and \"instructor_response\"\n",
    "* We also want to be able to group our courses by departments\n",
    "\n",
    "##### **ratemyprofessors.com** \n",
    "* See [data_collect.ipynb](data_collect.ipynb)\n",
    "* We manually associate each course element of our piazza.csv database with the name of the professor who taught it that semester. We then manually aqcuire the URLs of the associated ratemyprofessors.com page of each of these professors and record them in the file \"Rate_my_prof.txt\". We then iterate through each URL in this file and scrape the necessary attributes for each review for the course we are looking for.\n",
    "* Because a review page for a professor includes many \n",
    "* Some ratemyprofessors.com reviews are void because when they were scraped the ads on the page corrupted some of the observations\n",
    "    - So we need to remove these observations. Every review is guaranteed to have a quality rating\n",
    "    - Because the course names are listed as a single string, we need to split the department name and course number and delete reviews with typos in the course name\n",
    "    - We also need to convert columns that hold number values from string to int (eg, Difficulty)\n",
    "    \n",
    " \n",
    "\n",
    "#### Preprocessing and cleaning\n",
    "See [Data collection and cleaning appendix](Appendix.ipynb)\n",
    "* Piazza data:\n",
    "    * Some of our course names had irregularities when we scraped directly from the stats pages(eg, having the semester included in the name). Because we had relatively few of these cases in our ~50 courses, we manually adjusted these names to be of the form DEPT####.\n",
    "    * We went through the columns that were supposed to hold numerical values and converted them from strings to ints or floats, as appropriate, and removed preceding \"%\" signs as needed\n",
    "    * Because we were interested in data such as the course level and department, we created two more columns by splitting the course name into its numerical and departmental values, eg) \"CS3110\" -> \"CS\", 3110\n",
    "    \n",
    "* Ratemyprofessors data:\n",
    "    * Some entries had only the instructor name and null values for all fields. This was caused by ads on the page being picked up by our scraping code. So we deleted all entries that did not have the \"quality\" field because every review was required to have a value for the quality rating.\n",
    "    * Many reviews had typos in the course names (eg, \"CS111\" instead of \"CS1110\"). Also, there were some courses whos instructor had very few reviews. We resolved both of these issues at once my only including a review if at least 4 other reviews had the same course name. So, reviews for courses with 4 or fewer reviews were not included (to get a larger data sample and more accurate analysis) and reviews with misspelled course names were not included to minimize ambiguity (because there were far too many reviews to manually correct typos for).\n",
    "    * We went through the columns that were supposed to hold numerical values and converted them from strings to ints or floats, as appropriate\n",
    "    \n",
    " * Merging into all_data:\n",
    "     * To easily cross analyze our two sets of data, we did an inner merge of our ratings and piazza data on both the name of the instructor and the name of the course taught. We then did a little column renaming and dropping to tidy up redundencies and inconsistencies. \n",
    "\n",
    "#### Raw data\n",
    "\n",
    "* Manually entered: \n",
    "    - [piazza_links.txt](piazza_links.txt)\n",
    "    - [Rate_my_prof.txt](Rate_my_prof.txt)\n",
    "* Automatically compiled / scraped using above input:\n",
    "    - [piazza_data.csv](piazza_data.csv)\n",
    "    - [rmp.csv](rmp.csv)\n",
    "* Final dataset used in analysis:\n",
    "    - [all_data](all_data.csv)\n",
    "\n",
    "#### Potential drawbacks and limitations\n",
    "* While we did manage to get data corresponding to a wide variety of courses, including Econ, CS, and Physics, we did not have many of each kind of course. Particularly, we do not have enough to be able to look at potential trends across departments like we had hoped.\n",
    "* A couple classes had two instructors. Because we did not know how to logically deal with this, we chose the instructor who taught the most lectures, determined by asking the students who took such classes. \n",
    "\n"
   ]
  },
  {
   "cell_type": "markdown",
   "metadata": {},
   "source": [
    "## Preregistration Statement\n",
    "\n",
    "#### Analyses:\n",
    "\n",
    "- Use multi-variable linear regression to try to predict the rating of the professor teaching the course (with training values gathered from ratemyprofessors.com)\n",
    "    - Predicting variables:\n",
    "        - class size (approximated by Piazza enrollment)\n",
    "        - department (use dummy values for each group)\n",
    "        - Piazza activity (as a percent)\n",
    "    - The results will help us understand if there is a strong linear relationship between the combination of these three variables with the ratings of students' experiences with the professor teaching the class, which we will interpret as strongly correlated with the quality of the students' experience in the class \n",
    "    \n",
    "- Use k-means clustering to plot class size by professor rating, color coded by clusters\n",
    "    - Clusters: departments\n",
    "    - This may show us if certain departments correspond with larger class sizes or higher ratings\n",
    "    - The results may be useful if there is in fact such a relationship, so if we see some deparments consistently have lower ratings than others, then leaders at the heads of those departments could see if a change in class sizes or Piazza engagement may help students have a better learning experience in their department.\n",
    "    \n",
    "- Use linear regression and correlation coefficient to determine if there is a correlation between the variables class size and piazza activity for a course.\n",
    "    - A strong correlation here may suggest that students feel more confident asking questions in smaller classes than bigger classes and vice versa. \n",
    "    \n",
    "- Use linear regression and correlation coefficient to determine if there is a correlation between the variables instructor response time and piazza activity for a course.\n",
    "    - This may help us determine whether classes with higher instructer involvement result in higher student involvement for a course.\n"
   ]
  },
  {
   "cell_type": "markdown",
   "metadata": {},
   "source": [
    "## Data Analysis"
   ]
  },
  {
   "cell_type": "code",
   "execution_count": 12,
   "metadata": {},
   "outputs": [],
   "source": [
    "import numpy as np\n",
    "import pandas as pd\n",
    "from matplotlib import pyplot as plt\n",
    "from mpl_toolkits.mplot3d import Axes3D\n",
    "from sklearn.linear_model import LinearRegression\n",
    "from scipy import stats\n",
    "import seaborn as seabornInstance \n",
    "import plotly.express as px\n",
    "from sklearn.cluster import KMeans\n",
    "\n",
    "\n",
    "piazza_data = pd.read_csv('piazza.csv')\n",
    "ratings_data = pd.read_csv('rmp.csv')\n",
    "all_data = pd.read_csv('all_data.csv')"
   ]
  },
  {
   "cell_type": "markdown",
   "metadata": {},
   "source": [
    "#### Use multi-variable linear regression to try to predict the rating of the professor teaching the course (with training values gathered from ratemyprofessors.com)\n",
    "    - Predicting variables:\n",
    "        - class size (approximated by Piazza enrollment)\n",
    "        - department (use dummy values for each group)       \n",
    "        - Piazza activity (as a percent)\n"
   ]
  },
  {
   "cell_type": "code",
   "execution_count": 7,
   "metadata": {},
   "outputs": [
    {
     "name": "stdout",
     "output_type": "stream",
     "text": [
      "enrolled coefficient: 0.00\n",
      "%active coefficient: 0.01\n",
      "%response coefficient: -0.04\n"
     ]
    },
    {
     "data": {
      "text/plain": [
       "array([[ 0.00159514,  0.00824933, -0.03797179]])"
      ]
     },
     "execution_count": 7,
     "metadata": {},
     "output_type": "execute_result"
    }
   ],
   "source": [
    "l = LinearRegression()\n",
    "\n",
    "# dummy values for department\n",
    "# all_data['department'] = all_data['department'].str.strip()\n",
    "# dept_map = {\"CS\": 1, \"CHEM\": 2, \"PHYS\": 3, \"AEP\": 4, \"MATH\": 5, 'INFO': 6, 'ECE': 7, 'MAE': 8, 'ENGRI': 9, 'ORIE':10}\n",
    "# all_data['dept_map'] = all_data['department'].replace(dept_map)\n",
    "\n",
    "model = l.fit(all_data[['enrolled',  '%active', '%response']], all_data[['avg_quality']])\n",
    "predict = model.predict(all_data[['enrolled',  '%active', '%response']])\n",
    "r = model.score(all_data[['enrolled',  '%active', '%response']], all_data[['avg_quality']])\n",
    "print('enrolled coefficient: {:.2f}'.format(model.coef_[0][0]))\n",
    "# print('department coefficient: {:.2f}'.format(model.coef_[0][1]))\n",
    "print('%active coefficient: {:.2f}'.format(model.coef_[0][1]))\n",
    "print('%response coefficient: {:.2f}'.format(model.coef_[0][2]))\n",
    "model.coef_"
   ]
  },
  {
   "cell_type": "markdown",
   "metadata": {},
   "source": [
    "\n",
    "  * We can also try the multivariable regression again with difficulty ratings. Since we saw that quality and difficulty ratings had very little correlation, we'd like to verify that these factors have no real correlation with difficulty ratings either:"
   ]
  },
  {
   "cell_type": "code",
   "execution_count": 8,
   "metadata": {},
   "outputs": [
    {
     "name": "stdout",
     "output_type": "stream",
     "text": [
      "enrolled coefficient: -0.00\n",
      "%active coefficient: 0.01\n",
      "%response coefficient: -0.06\n"
     ]
    },
    {
     "data": {
      "text/plain": [
       "array([[-0.00017411,  0.0077663 , -0.06494488]])"
      ]
     },
     "execution_count": 8,
     "metadata": {},
     "output_type": "execute_result"
    }
   ],
   "source": [
    "model = l.fit(all_data[['enrolled', '%active', '%response']], all_data[['avg_difficulty']])\n",
    "predict = model.predict(all_data[['enrolled', '%active', '%response']])\n",
    "r = model.score(all_data[['enrolled',  '%active', '%response']], all_data[['avg_difficulty']])\n",
    "print('enrolled coefficient: {:.2f}'.format(model.coef_[0][0]))\n",
    "print('%active coefficient: {:.2f}'.format(model.coef_[0][1]))\n",
    "print('%response coefficient: {:.2f}'.format(model.coef_[0][2]))\n",
    "model.coef_"
   ]
  },
  {
   "cell_type": "code",
   "execution_count": 9,
   "metadata": {},
   "outputs": [
    {
     "name": "stdout",
     "output_type": "stream",
     "text": [
      "Intercept: \n",
      " 2.8125599413159987\n",
      "Coefficients: \n",
      " [0.00116449 0.00536463]\n",
      "R2 value: \n",
      " 0.025244109479385046\n"
     ]
    },
    {
     "data": {
      "image/png": "[encoded data removed]",
      "text/plain": [
       "<Figure size 432x288 with 1 Axes>"
      ]
     },
     "metadata": {
      "needs_background": "light"
     },
     "output_type": "display_data"
    }
   ],
   "source": [
    "Y = all_data['quality']\n",
    "X = all_data[['enrolled', '%active']]\n",
    "regr = LinearRegression()\n",
    "model = regr.fit(X, Y)\n",
    "response = model.predict(X)\n",
    "print('Intercept: \\n', regr.intercept_)\n",
    "print('Coefficients: \\n', regr.coef_)\n",
    "print('R2 value: \\n', regr.score(X, Y))\n",
    "\n",
    "fig = plt.figure()\n",
    "ax = fig.add_subplot(111, projection='3d')\n",
    "ax.scatter3D(X.iloc[:,0],X.iloc[:,1], response , c=response, cmap='viridis')\n",
    "ax.set_xlabel('Enrolled', fontsize=14)\n",
    "ax.set_ylabel('%active', fontsize=14)\n",
    "ax.set_zlabel('Ratings of thr professor', fontsize=14)\n",
    "fig.tight_layout()"
   ]
  },
  {
   "cell_type": "code",
   "execution_count": 11,
   "metadata": {},
   "outputs": [
    {
     "data": {
      "application/vnd.plotly.v1+json": {
       "config": {
        "plotlyServerURL": "https://plot.ly"
       },
       "data": [
        {
         "hovertemplate": "department= CS<br>%response=%{x}<br>%active=%{y}<br>quality=%{z}<extra></extra>",
         "legendgroup": " CS",
         "marker": {
          "color": "#636efa",
          "symbol": "circle"
         },
         "mode": "markers",
         "name": " CS",
         "scene": "scene",
         "showlegend": true,
         "type": "scatter3d",
         "x": [
          99,
          99,
          99,
          99,
          99,
          99,
          99,
          99,
          99,
          99,
          99,
          100,
          100,
          100,
          100,
          100,
          100,
          100,
          100,
          100,
          100,
          100,
          100,
          100,
          100,
          100,
          100,
          100,
          100,
          100,
          100,
          100,
          100,
          100,
          100,
          100,
          100,
          100,
          100,
          100,
          100,
          100,
          100,
          100,
          100,
          100,
          100,
          100,
          100,
          100,
          100,
          100,
          100,
          100,
          100,
          100,
          100,
          100,
          100,
          100,
          100,
          100,
          100,
          100,
          100,
          100,
          100,
          100,
          100,
          100,
          100,
          100,
          100,
          100,
          100,
          100,
          100,
          100,
          100,
          100,
          100,
          100,
          100,
          100,
          100,
          100,
          100,
          100,
          100,
          100,
          100,
          100,
          100,
          100,
          100,
          100,
          100,
          100,
          100,
          100,
          100,
          100,
          100,
          100,
          100,
          100,
          100,
          100,
          100,
          100,
          100,
          100,
          100,
          100,
          100,
          100,
          100,
          100,
          100,
          100,
          100,
          100,
          100,
          100,
          100,
          100,
          100,
          100,
          100,
          100,
          100,
          100,
          100,
          100,
          100,
          100,
          100,
          100,
          100,
          100,
          100,
          100,
          100,
          100,
          100,
          100,
          100,
          100,
          100,
          100,
          100,
          100,
          100,
          100,
          100,
          100,
          100,
          97,
          96,
          96,
          100,
          97,
          96,
          96,
          100,
          97,
          96,
          96,
          100,
          97,
          96,
          96,
          100,
          97,
          96,
          96,
          100,
          97,
          96,
          96,
          100,
          97,
          96,
          96,
          100,
          97,
          96,
          96,
          100,
          97,
          96,
          96,
          100,
          97,
          96,
          96,
          100,
          97,
          96,
          96,
          100,
          97,
          96,
          96,
          100,
          97,
          96,
          96,
          100,
          97,
          96,
          96,
          100,
          97,
          96,
          96,
          100,
          97,
          96,
          96,
          100,
          97,
          96,
          96,
          100,
          97,
          96,
          96,
          100,
          97,
          96,
          96,
          100,
          100,
          100,
          100,
          100,
          100,
          100,
          100,
          100,
          100,
          100,
          100,
          100,
          100,
          100,
          100,
          100,
          100,
          100,
          100,
          100,
          100
         ],
         "y": [
          55,
          55,
          55,
          55,
          55,
          55,
          55,
          55,
          55,
          55,
          55,
          69,
          69,
          73,
          69,
          69,
          73,
          69,
          69,
          73,
          69,
          69,
          73,
          69,
          69,
          73,
          69,
          69,
          73,
          69,
          69,
          73,
          69,
          69,
          73,
          69,
          69,
          73,
          69,
          69,
          73,
          69,
          69,
          73,
          69,
          69,
          73,
          69,
          69,
          73,
          69,
          69,
          73,
          69,
          69,
          73,
          69,
          69,
          73,
          69,
          69,
          73,
          69,
          69,
          73,
          69,
          69,
          73,
          58,
          57,
          69,
          61,
          58,
          57,
          69,
          61,
          58,
          57,
          69,
          61,
          58,
          57,
          69,
          61,
          58,
          57,
          69,
          61,
          58,
          57,
          69,
          61,
          58,
          57,
          69,
          61,
          58,
          57,
          69,
          61,
          58,
          57,
          69,
          61,
          58,
          57,
          69,
          61,
          58,
          57,
          69,
          61,
          58,
          57,
          69,
          61,
          58,
          57,
          69,
          61,
          58,
          57,
          69,
          61,
          58,
          57,
          69,
          61,
          58,
          57,
          69,
          61,
          58,
          57,
          69,
          61,
          58,
          57,
          69,
          61,
          58,
          57,
          69,
          61,
          58,
          57,
          69,
          61,
          87,
          87,
          87,
          87,
          87,
          87,
          87,
          87,
          87,
          60,
          72,
          66,
          63,
          60,
          72,
          66,
          63,
          60,
          72,
          66,
          63,
          60,
          72,
          66,
          63,
          60,
          72,
          66,
          63,
          60,
          72,
          66,
          63,
          60,
          72,
          66,
          63,
          60,
          72,
          66,
          63,
          60,
          72,
          66,
          63,
          60,
          72,
          66,
          63,
          60,
          72,
          66,
          63,
          60,
          72,
          66,
          63,
          60,
          72,
          66,
          63,
          60,
          72,
          66,
          63,
          60,
          72,
          66,
          63,
          60,
          72,
          66,
          63,
          60,
          72,
          66,
          63,
          60,
          72,
          66,
          63,
          60,
          72,
          66,
          63,
          43,
          43,
          43,
          43,
          89,
          89,
          89,
          89,
          89,
          89,
          89,
          90,
          90,
          90,
          90,
          90,
          90,
          90,
          90,
          90,
          90
         ],
         "z": [
          4,
          4,
          4,
          1,
          1,
          5,
          1,
          4,
          1,
          5,
          5,
          5,
          5,
          5,
          5,
          5,
          5,
          5,
          5,
          5,
          4,
          4,
          4,
          5,
          5,
          5,
          5,
          5,
          5,
          5,
          5,
          5,
          4,
          4,
          4,
          5,
          5,
          5,
          5,
          5,
          5,
          5,
          5,
          5,
          4,
          4,
          4,
          5,
          5,
          5,
          5,
          5,
          5,
          5,
          5,
          5,
          5,
          5,
          5,
          5,
          5,
          5,
          4,
          4,
          4,
          3,
          3,
          3,
          5,
          5,
          5,
          5,
          5,
          5,
          5,
          5,
          5,
          5,
          5,
          5,
          1,
          1,
          1,
          1,
          4,
          4,
          4,
          4,
          1,
          1,
          1,
          1,
          4,
          4,
          4,
          4,
          5,
          5,
          5,
          5,
          4,
          4,
          4,
          4,
          3,
          3,
          3,
          3,
          1,
          1,
          1,
          1,
          5,
          5,
          5,
          5,
          4,
          4,
          4,
          4,
          5,
          5,
          5,
          5,
          3,
          3,
          3,
          3,
          4,
          4,
          4,
          4,
          1,
          1,
          1,
          1,
          5,
          5,
          5,
          5,
          5,
          5,
          5,
          5,
          5,
          5,
          5,
          5,
          5,
          1,
          5,
          5,
          5,
          5,
          5,
          5,
          5,
          1,
          1,
          1,
          1,
          4,
          4,
          4,
          4,
          4,
          4,
          4,
          4,
          5,
          5,
          5,
          5,
          1,
          1,
          1,
          1,
          4,
          4,
          4,
          4,
          1,
          1,
          1,
          1,
          1,
          1,
          1,
          1,
          4,
          4,
          4,
          4,
          3,
          3,
          3,
          3,
          3,
          3,
          3,
          3,
          2,
          2,
          2,
          2,
          5,
          5,
          5,
          5,
          5,
          5,
          5,
          5,
          4,
          4,
          4,
          4,
          5,
          5,
          5,
          5,
          1,
          1,
          1,
          1,
          5,
          5,
          5,
          5,
          1,
          1,
          1,
          1,
          5,
          5,
          5,
          5,
          5,
          5,
          5,
          4,
          5,
          4,
          4,
          1,
          3,
          1,
          1,
          3,
          2,
          4,
          1,
          1,
          4
         ]
        },
        {
         "hovertemplate": "department= PHYS<br>%response=%{x}<br>%active=%{y}<br>quality=%{z}<extra></extra>",
         "legendgroup": " PHYS",
         "marker": {
          "color": "#EF553B",
          "symbol": "circle"
         },
         "mode": "markers",
         "name": " PHYS",
         "scene": "scene",
         "showlegend": true,
         "type": "scatter3d",
         "x": [
          100,
          100,
          100,
          100,
          100,
          100,
          100,
          100,
          99,
          99,
          99,
          99,
          99,
          99,
          99,
          99,
          99,
          83,
          83,
          83,
          83,
          83,
          83
         ],
         "y": [
          47,
          57,
          47,
          57,
          47,
          57,
          47,
          57,
          75,
          75,
          75,
          75,
          75,
          75,
          75,
          75,
          75,
          32,
          32,
          32,
          32,
          32,
          32
         ],
         "z": [
          3,
          3,
          4,
          4,
          4,
          4,
          5,
          5,
          2,
          2,
          1,
          1,
          1,
          5,
          3,
          1,
          4,
          5,
          5,
          5,
          5,
          5,
          4
         ]
        },
        {
         "hovertemplate": "department= MATH<br>%response=%{x}<br>%active=%{y}<br>quality=%{z}<extra></extra>",
         "legendgroup": " MATH",
         "marker": {
          "color": "#00cc96",
          "symbol": "circle"
         },
         "mode": "markers",
         "name": " MATH",
         "scene": "scene",
         "showlegend": true,
         "type": "scatter3d",
         "x": [
          99,
          98,
          99,
          98,
          99,
          98,
          99,
          98,
          99,
          98,
          99,
          98,
          99,
          98,
          100,
          100,
          100,
          100,
          100,
          100,
          100,
          100,
          100,
          97,
          97,
          97,
          97,
          98,
          98,
          98,
          98,
          98,
          98,
          98,
          98,
          98,
          98,
          97,
          97,
          97,
          97,
          97,
          97,
          99
         ],
         "y": [
          43,
          89,
          43,
          89,
          43,
          89,
          43,
          89,
          43,
          89,
          43,
          89,
          43,
          89,
          31,
          31,
          31,
          31,
          31,
          31,
          31,
          31,
          31,
          47,
          47,
          47,
          47,
          54,
          54,
          54,
          54,
          54,
          54,
          54,
          54,
          54,
          54,
          53,
          53,
          53,
          53,
          43,
          43,
          47
         ],
         "z": [
          5,
          5,
          5,
          5,
          4,
          4,
          1,
          1,
          5,
          5,
          4,
          4,
          3,
          3,
          5,
          1,
          4,
          3,
          4,
          4,
          4,
          2,
          4,
          3,
          5,
          5,
          1,
          5,
          5,
          5,
          2,
          5,
          5,
          5,
          5,
          1,
          1,
          1,
          2,
          3,
          3,
          1,
          3,
          2
         ]
        },
        {
         "hovertemplate": "department= ECE<br>%response=%{x}<br>%active=%{y}<br>quality=%{z}<extra></extra>",
         "legendgroup": " ECE",
         "marker": {
          "color": "#ab63fa",
          "symbol": "circle"
         },
         "mode": "markers",
         "name": " ECE",
         "scene": "scene",
         "showlegend": true,
         "type": "scatter3d",
         "x": [
          97,
          97,
          97,
          97,
          97
         ],
         "y": [
          59,
          59,
          59,
          59,
          59
         ],
         "z": [
          3,
          4,
          4,
          5,
          5
         ]
        },
        {
         "hovertemplate": "department= INFO<br>%response=%{x}<br>%active=%{y}<br>quality=%{z}<extra></extra>",
         "legendgroup": " INFO",
         "marker": {
          "color": "#FFA15A",
          "symbol": "circle"
         },
         "mode": "markers",
         "name": " INFO",
         "scene": "scene",
         "showlegend": true,
         "type": "scatter3d",
         "x": [
          100,
          100,
          100,
          100,
          100
         ],
         "y": [
          68,
          68,
          68,
          68,
          68
         ],
         "z": [
          4,
          5,
          2,
          5,
          4
         ]
        },
        {
         "hovertemplate": "department= CHEM<br>%response=%{x}<br>%active=%{y}<br>quality=%{z}<extra></extra>",
         "legendgroup": " CHEM",
         "marker": {
          "color": "#19d3f3",
          "symbol": "circle"
         },
         "mode": "markers",
         "name": " CHEM",
         "scene": "scene",
         "showlegend": true,
         "type": "scatter3d",
         "x": [
          99,
          99,
          99,
          99,
          99
         ],
         "y": [
          42,
          42,
          42,
          42,
          42
         ],
         "z": [
          5,
          3,
          1,
          1,
          2
         ]
        }
       ],
       "layout": {
        "legend": {
         "title": {
          "text": "department"
         },
         "tracegroupgap": 0
        },
        "margin": {
         "t": 60
        },
        "scene": {
         "domain": {
          "x": [
           0,
           1
          ],
          "y": [
           0,
           1
          ]
         },
         "xaxis": {
          "title": {
           "text": "%response"
          }
         },
         "yaxis": {
          "title": {
           "text": "%active"
          }
         },
         "zaxis": {
          "title": {
           "text": "quality"
          }
         }
        },
        "template": {
         "data": {
          "bar": [
           {
            "error_x": {
             "color": "#2a3f5f"
            },
            "error_y": {
             "color": "#2a3f5f"
            },
            "marker": {
             "line": {
              "color": "#E5ECF6",
              "width": 0.5
             }
            },
            "type": "bar"
           }
          ],
          "barpolar": [
           {
            "marker": {
             "line": {
              "color": "#E5ECF6",
              "width": 0.5
             }
            },
            "type": "barpolar"
           }
          ],
          "carpet": [
           {
            "aaxis": {
             "endlinecolor": "#2a3f5f",
             "gridcolor": "white",
             "linecolor": "white",
             "minorgridcolor": "white",
             "startlinecolor": "#2a3f5f"
            },
            "baxis": {
             "endlinecolor": "#2a3f5f",
             "gridcolor": "white",
             "linecolor": "white",
             "minorgridcolor": "white",
             "startlinecolor": "#2a3f5f"
            },
            "type": "carpet"
           }
          ],
          "choropleth": [
           {
            "colorbar": {
             "outlinewidth": 0,
             "ticks": ""
            },
            "type": "choropleth"
           }
          ],
          "contour": [
           {
            "colorbar": {
             "outlinewidth": 0,
             "ticks": ""
            },
            "colorscale": [
             [
              0,
              "#0d0887"
             ],
             [
              0.1111111111111111,
              "#46039f"
             ],
             [
              0.2222222222222222,
              "#7201a8"
             ],
             [
              0.3333333333333333,
              "#9c179e"
             ],
             [
              0.4444444444444444,
              "#bd3786"
             ],
             [
              0.5555555555555556,
              "#d8576b"
             ],
             [
              0.6666666666666666,
              "#ed7953"
             ],
             [
              0.7777777777777778,
              "#fb9f3a"
             ],
             [
              0.8888888888888888,
              "#fdca26"
             ],
             [
              1,
              "#f0f921"
             ]
            ],
            "type": "contour"
           }
          ],
          "contourcarpet": [
           {
            "colorbar": {
             "outlinewidth": 0,
             "ticks": ""
            },
            "type": "contourcarpet"
           }
          ],
          "heatmap": [
           {
            "colorbar": {
             "outlinewidth": 0,
             "ticks": ""
            },
            "colorscale": [
             [
              0,
              "#0d0887"
             ],
             [
              0.1111111111111111,
              "#46039f"
             ],
             [
              0.2222222222222222,
              "#7201a8"
             ],
             [
              0.3333333333333333,
              "#9c179e"
             ],
             [
              0.4444444444444444,
              "#bd3786"
             ],
             [
              0.5555555555555556,
              "#d8576b"
             ],
             [
              0.6666666666666666,
              "#ed7953"
             ],
             [
              0.7777777777777778,
              "#fb9f3a"
             ],
             [
              0.8888888888888888,
              "#fdca26"
             ],
             [
              1,
              "#f0f921"
             ]
            ],
            "type": "heatmap"
           }
          ],
          "heatmapgl": [
           {
            "colorbar": {
             "outlinewidth": 0,
             "ticks": ""
            },
            "colorscale": [
             [
              0,
              "#0d0887"
             ],
             [
              0.1111111111111111,
              "#46039f"
             ],
             [
              0.2222222222222222,
              "#7201a8"
             ],
             [
              0.3333333333333333,
              "#9c179e"
             ],
             [
              0.4444444444444444,
              "#bd3786"
             ],
             [
              0.5555555555555556,
              "#d8576b"
             ],
             [
              0.6666666666666666,
              "#ed7953"
             ],
             [
              0.7777777777777778,
              "#fb9f3a"
             ],
             [
              0.8888888888888888,
              "#fdca26"
             ],
             [
              1,
              "#f0f921"
             ]
            ],
            "type": "heatmapgl"
           }
          ],
          "histogram": [
           {
            "marker": {
             "colorbar": {
              "outlinewidth": 0,
              "ticks": ""
             }
            },
            "type": "histogram"
           }
          ],
          "histogram2d": [
           {
            "colorbar": {
             "outlinewidth": 0,
             "ticks": ""
            },
            "colorscale": [
             [
              0,
              "#0d0887"
             ],
             [
              0.1111111111111111,
              "#46039f"
             ],
             [
              0.2222222222222222,
              "#7201a8"
             ],
             [
              0.3333333333333333,
              "#9c179e"
             ],
             [
              0.4444444444444444,
              "#bd3786"
             ],
             [
              0.5555555555555556,
              "#d8576b"
             ],
             [
              0.6666666666666666,
              "#ed7953"
             ],
             [
              0.7777777777777778,
              "#fb9f3a"
             ],
             [
              0.8888888888888888,
              "#fdca26"
             ],
             [
              1,
              "#f0f921"
             ]
            ],
            "type": "histogram2d"
           }
          ],
          "histogram2dcontour": [
           {
            "colorbar": {
             "outlinewidth": 0,
             "ticks": ""
            },
            "colorscale": [
             [
              0,
              "#0d0887"
             ],
             [
              0.1111111111111111,
              "#46039f"
             ],
             [
              0.2222222222222222,
              "#7201a8"
             ],
             [
              0.3333333333333333,
              "#9c179e"
             ],
             [
              0.4444444444444444,
              "#bd3786"
             ],
             [
              0.5555555555555556,
              "#d8576b"
             ],
             [
              0.6666666666666666,
              "#ed7953"
             ],
             [
              0.7777777777777778,
              "#fb9f3a"
             ],
             [
              0.8888888888888888,
              "#fdca26"
             ],
             [
              1,
              "#f0f921"
             ]
            ],
            "type": "histogram2dcontour"
           }
          ],
          "mesh3d": [
           {
            "colorbar": {
             "outlinewidth": 0,
             "ticks": ""
            },
            "type": "mesh3d"
           }
          ],
          "parcoords": [
           {
            "line": {
             "colorbar": {
              "outlinewidth": 0,
              "ticks": ""
             }
            },
            "type": "parcoords"
           }
          ],
          "pie": [
           {
            "automargin": true,
            "type": "pie"
           }
          ],
          "scatter": [
           {
            "marker": {
             "colorbar": {
              "outlinewidth": 0,
              "ticks": ""
             }
            },
            "type": "scatter"
           }
          ],
          "scatter3d": [
           {
            "line": {
             "colorbar": {
              "outlinewidth": 0,
              "ticks": ""
             }
            },
            "marker": {
             "colorbar": {
              "outlinewidth": 0,
              "ticks": ""
             }
            },
            "type": "scatter3d"
           }
          ],
          "scattercarpet": [
           {
            "marker": {
             "colorbar": {
              "outlinewidth": 0,
              "ticks": ""
             }
            },
            "type": "scattercarpet"
           }
          ],
          "scattergeo": [
           {
            "marker": {
             "colorbar": {
              "outlinewidth": 0,
              "ticks": ""
             }
            },
            "type": "scattergeo"
           }
          ],
          "scattergl": [
           {
            "marker": {
             "colorbar": {
              "outlinewidth": 0,
              "ticks": ""
             }
            },
            "type": "scattergl"
           }
          ],
          "scattermapbox": [
           {
            "marker": {
             "colorbar": {
              "outlinewidth": 0,
              "ticks": ""
             }
            },
            "type": "scattermapbox"
           }
          ],
          "scatterpolar": [
           {
            "marker": {
             "colorbar": {
              "outlinewidth": 0,
              "ticks": ""
             }
            },
            "type": "scatterpolar"
           }
          ],
          "scatterpolargl": [
           {
            "marker": {
             "colorbar": {
              "outlinewidth": 0,
              "ticks": ""
             }
            },
            "type": "scatterpolargl"
           }
          ],
          "scatterternary": [
           {
            "marker": {
             "colorbar": {
              "outlinewidth": 0,
              "ticks": ""
             }
            },
            "type": "scatterternary"
           }
          ],
          "surface": [
           {
            "colorbar": {
             "outlinewidth": 0,
             "ticks": ""
            },
            "colorscale": [
             [
              0,
              "#0d0887"
             ],
             [
              0.1111111111111111,
              "#46039f"
             ],
             [
              0.2222222222222222,
              "#7201a8"
             ],
             [
              0.3333333333333333,
              "#9c179e"
             ],
             [
              0.4444444444444444,
              "#bd3786"
             ],
             [
              0.5555555555555556,
              "#d8576b"
             ],
             [
              0.6666666666666666,
              "#ed7953"
             ],
             [
              0.7777777777777778,
              "#fb9f3a"
             ],
             [
              0.8888888888888888,
              "#fdca26"
             ],
             [
              1,
              "#f0f921"
             ]
            ],
            "type": "surface"
           }
          ],
          "table": [
           {
            "cells": {
             "fill": {
              "color": "#EBF0F8"
             },
             "line": {
              "color": "white"
             }
            },
            "header": {
             "fill": {
              "color": "#C8D4E3"
             },
             "line": {
              "color": "white"
             }
            },
            "type": "table"
           }
          ]
         },
         "layout": {
          "annotationdefaults": {
           "arrowcolor": "#2a3f5f",
           "arrowhead": 0,
           "arrowwidth": 1
          },
          "autotypenumbers": "strict",
          "coloraxis": {
           "colorbar": {
            "outlinewidth": 0,
            "ticks": ""
           }
          },
          "colorscale": {
           "diverging": [
            [
             0,
             "#8e0152"
            ],
            [
             0.1,
             "#c51b7d"
            ],
            [
             0.2,
             "#de77ae"
            ],
            [
             0.3,
             "#f1b6da"
            ],
            [
             0.4,
             "#fde0ef"
            ],
            [
             0.5,
             "#f7f7f7"
            ],
            [
             0.6,
             "#e6f5d0"
            ],
            [
             0.7,
             "#b8e186"
            ],
            [
             0.8,
             "#7fbc41"
            ],
            [
             0.9,
             "#4d9221"
            ],
            [
             1,
             "#276419"
            ]
           ],
           "sequential": [
            [
             0,
             "#0d0887"
            ],
            [
             0.1111111111111111,
             "#46039f"
            ],
            [
             0.2222222222222222,
             "#7201a8"
            ],
            [
             0.3333333333333333,
             "#9c179e"
            ],
            [
             0.4444444444444444,
             "#bd3786"
            ],
            [
             0.5555555555555556,
             "#d8576b"
            ],
            [
             0.6666666666666666,
             "#ed7953"
            ],
            [
             0.7777777777777778,
             "#fb9f3a"
            ],
            [
             0.8888888888888888,
             "#fdca26"
            ],
            [
             1,
             "#f0f921"
            ]
           ],
           "sequentialminus": [
            [
             0,
             "#0d0887"
            ],
            [
             0.1111111111111111,
             "#46039f"
            ],
            [
             0.2222222222222222,
             "#7201a8"
            ],
            [
             0.3333333333333333,
             "#9c179e"
            ],
            [
             0.4444444444444444,
             "#bd3786"
            ],
            [
             0.5555555555555556,
             "#d8576b"
            ],
            [
             0.6666666666666666,
             "#ed7953"
            ],
            [
             0.7777777777777778,
             "#fb9f3a"
            ],
            [
             0.8888888888888888,
             "#fdca26"
            ],
            [
             1,
             "#f0f921"
            ]
           ]
          },
          "colorway": [
           "#636efa",
           "#EF553B",
           "#00cc96",
           "#ab63fa",
           "#FFA15A",
           "#19d3f3",
           "#FF6692",
           "#B6E880",
           "#FF97FF",
           "#FECB52"
          ],
          "font": {
           "color": "#2a3f5f"
          },
          "geo": {
           "bgcolor": "white",
           "lakecolor": "white",
           "landcolor": "#E5ECF6",
           "showlakes": true,
           "showland": true,
           "subunitcolor": "white"
          },
          "hoverlabel": {
           "align": "left"
          },
          "hovermode": "closest",
          "mapbox": {
           "style": "light"
          },
          "paper_bgcolor": "white",
          "plot_bgcolor": "#E5ECF6",
          "polar": {
           "angularaxis": {
            "gridcolor": "white",
            "linecolor": "white",
            "ticks": ""
           },
           "bgcolor": "#E5ECF6",
           "radialaxis": {
            "gridcolor": "white",
            "linecolor": "white",
            "ticks": ""
           }
          },
          "scene": {
           "xaxis": {
            "backgroundcolor": "#E5ECF6",
            "gridcolor": "white",
            "gridwidth": 2,
            "linecolor": "white",
            "showbackground": true,
            "ticks": "",
            "zerolinecolor": "white"
           },
           "yaxis": {
            "backgroundcolor": "#E5ECF6",
            "gridcolor": "white",
            "gridwidth": 2,
            "linecolor": "white",
            "showbackground": true,
            "ticks": "",
            "zerolinecolor": "white"
           },
           "zaxis": {
            "backgroundcolor": "#E5ECF6",
            "gridcolor": "white",
            "gridwidth": 2,
            "linecolor": "white",
            "showbackground": true,
            "ticks": "",
            "zerolinecolor": "white"
           }
          },
          "shapedefaults": {
           "line": {
            "color": "#2a3f5f"
           }
          },
          "ternary": {
           "aaxis": {
            "gridcolor": "white",
            "linecolor": "white",
            "ticks": ""
           },
           "baxis": {
            "gridcolor": "white",
            "linecolor": "white",
            "ticks": ""
           },
           "bgcolor": "#E5ECF6",
           "caxis": {
            "gridcolor": "white",
            "linecolor": "white",
            "ticks": ""
           }
          },
          "title": {
           "x": 0.05
          },
          "xaxis": {
           "automargin": true,
           "gridcolor": "white",
           "linecolor": "white",
           "ticks": "",
           "title": {
            "standoff": 15
           },
           "zerolinecolor": "white",
           "zerolinewidth": 2
          },
          "yaxis": {
           "automargin": true,
           "gridcolor": "white",
           "linecolor": "white",
           "ticks": "",
           "title": {
            "standoff": 15
           },
           "zerolinecolor": "white",
           "zerolinewidth": 2
          }
         }
        }
       }
      },
      "text/html": [
       "<div>                            <div id=\"5693ffcc-f79e-4239-8eca-67ea0e2b5141\" class=\"plotly-graph-div\" style=\"height:525px; width:100%;\"></div>            <script type=\"text/javascript\">                require([\"plotly\"], function(Plotly) {                    window.PLOTLYENV=window.PLOTLYENV || {};                                    if (document.getElementById(\"5693ffcc-f79e-4239-8eca-67ea0e2b5141\")) {                    Plotly.newPlot(                        \"5693ffcc-f79e-4239-8eca-67ea0e2b5141\",                        [{\"hovertemplate\": \"department= CS<br>%response=%{x}<br>%active=%{y}<br>quality=%{z}<extra></extra>\", \"legendgroup\": \" CS\", \"marker\": {\"color\": \"#636efa\", \"symbol\": \"circle\"}, \"mode\": \"markers\", \"name\": \" CS\", \"scene\": \"scene\", \"showlegend\": true, \"type\": \"scatter3d\", \"x\": [99, 99, 99, 99, 99, 99, 99, 99, 99, 99, 99, 100, 100, 100, 100, 100, 100, 100, 100, 100, 100, 100, 100, 100, 100, 100, 100, 100, 100, 100, 100, 100, 100, 100, 100, 100, 100, 100, 100, 100, 100, 100, 100, 100, 100, 100, 100, 100, 100, 100, 100, 100, 100, 100, 100, 100, 100, 100, 100, 100, 100, 100, 100, 100, 100, 100, 100, 100, 100, 100, 100, 100, 100, 100, 100, 100, 100, 100, 100, 100, 100, 100, 100, 100, 100, 100, 100, 100, 100, 100, 100, 100, 100, 100, 100, 100, 100, 100, 100, 100, 100, 100, 100, 100, 100, 100, 100, 100, 100, 100, 100, 100, 100, 100, 100, 100, 100, 100, 100, 100, 100, 100, 100, 100, 100, 100, 100, 100, 100, 100, 100, 100, 100, 100, 100, 100, 100, 100, 100, 100, 100, 100, 100, 100, 100, 100, 100, 100, 100, 100, 100, 100, 100, 100, 100, 100, 100, 97, 96, 96, 100, 97, 96, 96, 100, 97, 96, 96, 100, 97, 96, 96, 100, 97, 96, 96, 100, 97, 96, 96, 100, 97, 96, 96, 100, 97, 96, 96, 100, 97, 96, 96, 100, 97, 96, 96, 100, 97, 96, 96, 100, 97, 96, 96, 100, 97, 96, 96, 100, 97, 96, 96, 100, 97, 96, 96, 100, 97, 96, 96, 100, 97, 96, 96, 100, 97, 96, 96, 100, 97, 96, 96, 100, 100, 100, 100, 100, 100, 100, 100, 100, 100, 100, 100, 100, 100, 100, 100, 100, 100, 100, 100, 100, 100], \"y\": [55, 55, 55, 55, 55, 55, 55, 55, 55, 55, 55, 69, 69, 73, 69, 69, 73, 69, 69, 73, 69, 69, 73, 69, 69, 73, 69, 69, 73, 69, 69, 73, 69, 69, 73, 69, 69, 73, 69, 69, 73, 69, 69, 73, 69, 69, 73, 69, 69, 73, 69, 69, 73, 69, 69, 73, 69, 69, 73, 69, 69, 73, 69, 69, 73, 69, 69, 73, 58, 57, 69, 61, 58, 57, 69, 61, 58, 57, 69, 61, 58, 57, 69, 61, 58, 57, 69, 61, 58, 57, 69, 61, 58, 57, 69, 61, 58, 57, 69, 61, 58, 57, 69, 61, 58, 57, 69, 61, 58, 57, 69, 61, 58, 57, 69, 61, 58, 57, 69, 61, 58, 57, 69, 61, 58, 57, 69, 61, 58, 57, 69, 61, 58, 57, 69, 61, 58, 57, 69, 61, 58, 57, 69, 61, 58, 57, 69, 61, 87, 87, 87, 87, 87, 87, 87, 87, 87, 60, 72, 66, 63, 60, 72, 66, 63, 60, 72, 66, 63, 60, 72, 66, 63, 60, 72, 66, 63, 60, 72, 66, 63, 60, 72, 66, 63, 60, 72, 66, 63, 60, 72, 66, 63, 60, 72, 66, 63, 60, 72, 66, 63, 60, 72, 66, 63, 60, 72, 66, 63, 60, 72, 66, 63, 60, 72, 66, 63, 60, 72, 66, 63, 60, 72, 66, 63, 60, 72, 66, 63, 60, 72, 66, 63, 43, 43, 43, 43, 89, 89, 89, 89, 89, 89, 89, 90, 90, 90, 90, 90, 90, 90, 90, 90, 90], \"z\": [4, 4, 4, 1, 1, 5, 1, 4, 1, 5, 5, 5, 5, 5, 5, 5, 5, 5, 5, 5, 4, 4, 4, 5, 5, 5, 5, 5, 5, 5, 5, 5, 4, 4, 4, 5, 5, 5, 5, 5, 5, 5, 5, 5, 4, 4, 4, 5, 5, 5, 5, 5, 5, 5, 5, 5, 5, 5, 5, 5, 5, 5, 4, 4, 4, 3, 3, 3, 5, 5, 5, 5, 5, 5, 5, 5, 5, 5, 5, 5, 1, 1, 1, 1, 4, 4, 4, 4, 1, 1, 1, 1, 4, 4, 4, 4, 5, 5, 5, 5, 4, 4, 4, 4, 3, 3, 3, 3, 1, 1, 1, 1, 5, 5, 5, 5, 4, 4, 4, 4, 5, 5, 5, 5, 3, 3, 3, 3, 4, 4, 4, 4, 1, 1, 1, 1, 5, 5, 5, 5, 5, 5, 5, 5, 5, 5, 5, 5, 5, 1, 5, 5, 5, 5, 5, 5, 5, 1, 1, 1, 1, 4, 4, 4, 4, 4, 4, 4, 4, 5, 5, 5, 5, 1, 1, 1, 1, 4, 4, 4, 4, 1, 1, 1, 1, 1, 1, 1, 1, 4, 4, 4, 4, 3, 3, 3, 3, 3, 3, 3, 3, 2, 2, 2, 2, 5, 5, 5, 5, 5, 5, 5, 5, 4, 4, 4, 4, 5, 5, 5, 5, 1, 1, 1, 1, 5, 5, 5, 5, 1, 1, 1, 1, 5, 5, 5, 5, 5, 5, 5, 4, 5, 4, 4, 1, 3, 1, 1, 3, 2, 4, 1, 1, 4]}, {\"hovertemplate\": \"department= PHYS<br>%response=%{x}<br>%active=%{y}<br>quality=%{z}<extra></extra>\", \"legendgroup\": \" PHYS\", \"marker\": {\"color\": \"#EF553B\", \"symbol\": \"circle\"}, \"mode\": \"markers\", \"name\": \" PHYS\", \"scene\": \"scene\", \"showlegend\": true, \"type\": \"scatter3d\", \"x\": [100, 100, 100, 100, 100, 100, 100, 100, 99, 99, 99, 99, 99, 99, 99, 99, 99, 83, 83, 83, 83, 83, 83], \"y\": [47, 57, 47, 57, 47, 57, 47, 57, 75, 75, 75, 75, 75, 75, 75, 75, 75, 32, 32, 32, 32, 32, 32], \"z\": [3, 3, 4, 4, 4, 4, 5, 5, 2, 2, 1, 1, 1, 5, 3, 1, 4, 5, 5, 5, 5, 5, 4]}, {\"hovertemplate\": \"department= MATH<br>%response=%{x}<br>%active=%{y}<br>quality=%{z}<extra></extra>\", \"legendgroup\": \" MATH\", \"marker\": {\"color\": \"#00cc96\", \"symbol\": \"circle\"}, \"mode\": \"markers\", \"name\": \" MATH\", \"scene\": \"scene\", \"showlegend\": true, \"type\": \"scatter3d\", \"x\": [99, 98, 99, 98, 99, 98, 99, 98, 99, 98, 99, 98, 99, 98, 100, 100, 100, 100, 100, 100, 100, 100, 100, 97, 97, 97, 97, 98, 98, 98, 98, 98, 98, 98, 98, 98, 98, 97, 97, 97, 97, 97, 97, 99], \"y\": [43, 89, 43, 89, 43, 89, 43, 89, 43, 89, 43, 89, 43, 89, 31, 31, 31, 31, 31, 31, 31, 31, 31, 47, 47, 47, 47, 54, 54, 54, 54, 54, 54, 54, 54, 54, 54, 53, 53, 53, 53, 43, 43, 47], \"z\": [5, 5, 5, 5, 4, 4, 1, 1, 5, 5, 4, 4, 3, 3, 5, 1, 4, 3, 4, 4, 4, 2, 4, 3, 5, 5, 1, 5, 5, 5, 2, 5, 5, 5, 5, 1, 1, 1, 2, 3, 3, 1, 3, 2]}, {\"hovertemplate\": \"department= ECE<br>%response=%{x}<br>%active=%{y}<br>quality=%{z}<extra></extra>\", \"legendgroup\": \" ECE\", \"marker\": {\"color\": \"#ab63fa\", \"symbol\": \"circle\"}, \"mode\": \"markers\", \"name\": \" ECE\", \"scene\": \"scene\", \"showlegend\": true, \"type\": \"scatter3d\", \"x\": [97, 97, 97, 97, 97], \"y\": [59, 59, 59, 59, 59], \"z\": [3, 4, 4, 5, 5]}, {\"hovertemplate\": \"department= INFO<br>%response=%{x}<br>%active=%{y}<br>quality=%{z}<extra></extra>\", \"legendgroup\": \" INFO\", \"marker\": {\"color\": \"#FFA15A\", \"symbol\": \"circle\"}, \"mode\": \"markers\", \"name\": \" INFO\", \"scene\": \"scene\", \"showlegend\": true, \"type\": \"scatter3d\", \"x\": [100, 100, 100, 100, 100], \"y\": [68, 68, 68, 68, 68], \"z\": [4, 5, 2, 5, 4]}, {\"hovertemplate\": \"department= CHEM<br>%response=%{x}<br>%active=%{y}<br>quality=%{z}<extra></extra>\", \"legendgroup\": \" CHEM\", \"marker\": {\"color\": \"#19d3f3\", \"symbol\": \"circle\"}, \"mode\": \"markers\", \"name\": \" CHEM\", \"scene\": \"scene\", \"showlegend\": true, \"type\": \"scatter3d\", \"x\": [99, 99, 99, 99, 99], \"y\": [42, 42, 42, 42, 42], \"z\": [5, 3, 1, 1, 2]}],                        {\"legend\": {\"title\": {\"text\": \"department\"}, \"tracegroupgap\": 0}, \"margin\": {\"t\": 60}, \"scene\": {\"domain\": {\"x\": [0.0, 1.0], \"y\": [0.0, 1.0]}, \"xaxis\": {\"title\": {\"text\": \"%response\"}}, \"yaxis\": {\"title\": {\"text\": \"%active\"}}, \"zaxis\": {\"title\": {\"text\": \"quality\"}}}, \"template\": {\"data\": {\"bar\": [{\"error_x\": {\"color\": \"#2a3f5f\"}, \"error_y\": {\"color\": \"#2a3f5f\"}, \"marker\": {\"line\": {\"color\": \"#E5ECF6\", \"width\": 0.5}}, \"type\": \"bar\"}], \"barpolar\": [{\"marker\": {\"line\": {\"color\": \"#E5ECF6\", \"width\": 0.5}}, \"type\": \"barpolar\"}], \"carpet\": [{\"aaxis\": {\"endlinecolor\": \"#2a3f5f\", \"gridcolor\": \"white\", \"linecolor\": \"white\", \"minorgridcolor\": \"white\", \"startlinecolor\": \"#2a3f5f\"}, \"baxis\": {\"endlinecolor\": \"#2a3f5f\", \"gridcolor\": \"white\", \"linecolor\": \"white\", \"minorgridcolor\": \"white\", \"startlinecolor\": \"#2a3f5f\"}, \"type\": \"carpet\"}], \"choropleth\": [{\"colorbar\": {\"outlinewidth\": 0, \"ticks\": \"\"}, \"type\": \"choropleth\"}], \"contour\": [{\"colorbar\": {\"outlinewidth\": 0, \"ticks\": \"\"}, \"colorscale\": [[0.0, \"#0d0887\"], [0.1111111111111111, \"#46039f\"], [0.2222222222222222, \"#7201a8\"], [0.3333333333333333, \"#9c179e\"], [0.4444444444444444, \"#bd3786\"], [0.5555555555555556, \"#d8576b\"], [0.6666666666666666, \"#ed7953\"], [0.7777777777777778, \"#fb9f3a\"], [0.8888888888888888, \"#fdca26\"], [1.0, \"#f0f921\"]], \"type\": \"contour\"}], \"contourcarpet\": [{\"colorbar\": {\"outlinewidth\": 0, \"ticks\": \"\"}, \"type\": \"contourcarpet\"}], \"heatmap\": [{\"colorbar\": {\"outlinewidth\": 0, \"ticks\": \"\"}, \"colorscale\": [[0.0, \"#0d0887\"], [0.1111111111111111, \"#46039f\"], [0.2222222222222222, \"#7201a8\"], [0.3333333333333333, \"#9c179e\"], [0.4444444444444444, \"#bd3786\"], [0.5555555555555556, \"#d8576b\"], [0.6666666666666666, \"#ed7953\"], [0.7777777777777778, \"#fb9f3a\"], [0.8888888888888888, \"#fdca26\"], [1.0, \"#f0f921\"]], \"type\": \"heatmap\"}], \"heatmapgl\": [{\"colorbar\": {\"outlinewidth\": 0, \"ticks\": \"\"}, \"colorscale\": [[0.0, \"#0d0887\"], [0.1111111111111111, \"#46039f\"], [0.2222222222222222, \"#7201a8\"], [0.3333333333333333, \"#9c179e\"], [0.4444444444444444, \"#bd3786\"], [0.5555555555555556, \"#d8576b\"], [0.6666666666666666, \"#ed7953\"], [0.7777777777777778, \"#fb9f3a\"], [0.8888888888888888, \"#fdca26\"], [1.0, \"#f0f921\"]], \"type\": \"heatmapgl\"}], \"histogram\": [{\"marker\": {\"colorbar\": {\"outlinewidth\": 0, \"ticks\": \"\"}}, \"type\": \"histogram\"}], \"histogram2d\": [{\"colorbar\": {\"outlinewidth\": 0, \"ticks\": \"\"}, \"colorscale\": [[0.0, \"#0d0887\"], [0.1111111111111111, \"#46039f\"], [0.2222222222222222, \"#7201a8\"], [0.3333333333333333, \"#9c179e\"], [0.4444444444444444, \"#bd3786\"], [0.5555555555555556, \"#d8576b\"], [0.6666666666666666, \"#ed7953\"], [0.7777777777777778, \"#fb9f3a\"], [0.8888888888888888, \"#fdca26\"], [1.0, \"#f0f921\"]], \"type\": \"histogram2d\"}], \"histogram2dcontour\": [{\"colorbar\": {\"outlinewidth\": 0, \"ticks\": \"\"}, \"colorscale\": [[0.0, \"#0d0887\"], [0.1111111111111111, \"#46039f\"], [0.2222222222222222, \"#7201a8\"], [0.3333333333333333, \"#9c179e\"], [0.4444444444444444, \"#bd3786\"], [0.5555555555555556, \"#d8576b\"], [0.6666666666666666, \"#ed7953\"], [0.7777777777777778, \"#fb9f3a\"], [0.8888888888888888, \"#fdca26\"], [1.0, \"#f0f921\"]], \"type\": \"histogram2dcontour\"}], \"mesh3d\": [{\"colorbar\": {\"outlinewidth\": 0, \"ticks\": \"\"}, \"type\": \"mesh3d\"}], \"parcoords\": [{\"line\": {\"colorbar\": {\"outlinewidth\": 0, \"ticks\": \"\"}}, \"type\": \"parcoords\"}], \"pie\": [{\"automargin\": true, \"type\": \"pie\"}], \"scatter\": [{\"marker\": {\"colorbar\": {\"outlinewidth\": 0, \"ticks\": \"\"}}, \"type\": \"scatter\"}], \"scatter3d\": [{\"line\": {\"colorbar\": {\"outlinewidth\": 0, \"ticks\": \"\"}}, \"marker\": {\"colorbar\": {\"outlinewidth\": 0, \"ticks\": \"\"}}, \"type\": \"scatter3d\"}], \"scattercarpet\": [{\"marker\": {\"colorbar\": {\"outlinewidth\": 0, \"ticks\": \"\"}}, \"type\": \"scattercarpet\"}], \"scattergeo\": [{\"marker\": {\"colorbar\": {\"outlinewidth\": 0, \"ticks\": \"\"}}, \"type\": \"scattergeo\"}], \"scattergl\": [{\"marker\": {\"colorbar\": {\"outlinewidth\": 0, \"ticks\": \"\"}}, \"type\": \"scattergl\"}], \"scattermapbox\": [{\"marker\": {\"colorbar\": {\"outlinewidth\": 0, \"ticks\": \"\"}}, \"type\": \"scattermapbox\"}], \"scatterpolar\": [{\"marker\": {\"colorbar\": {\"outlinewidth\": 0, \"ticks\": \"\"}}, \"type\": \"scatterpolar\"}], \"scatterpolargl\": [{\"marker\": {\"colorbar\": {\"outlinewidth\": 0, \"ticks\": \"\"}}, \"type\": \"scatterpolargl\"}], \"scatterternary\": [{\"marker\": {\"colorbar\": {\"outlinewidth\": 0, \"ticks\": \"\"}}, \"type\": \"scatterternary\"}], \"surface\": [{\"colorbar\": {\"outlinewidth\": 0, \"ticks\": \"\"}, \"colorscale\": [[0.0, \"#0d0887\"], [0.1111111111111111, \"#46039f\"], [0.2222222222222222, \"#7201a8\"], [0.3333333333333333, \"#9c179e\"], [0.4444444444444444, \"#bd3786\"], [0.5555555555555556, \"#d8576b\"], [0.6666666666666666, \"#ed7953\"], [0.7777777777777778, \"#fb9f3a\"], [0.8888888888888888, \"#fdca26\"], [1.0, \"#f0f921\"]], \"type\": \"surface\"}], \"table\": [{\"cells\": {\"fill\": {\"color\": \"#EBF0F8\"}, \"line\": {\"color\": \"white\"}}, \"header\": {\"fill\": {\"color\": \"#C8D4E3\"}, \"line\": {\"color\": \"white\"}}, \"type\": \"table\"}]}, \"layout\": {\"annotationdefaults\": {\"arrowcolor\": \"#2a3f5f\", \"arrowhead\": 0, \"arrowwidth\": 1}, \"autotypenumbers\": \"strict\", \"coloraxis\": {\"colorbar\": {\"outlinewidth\": 0, \"ticks\": \"\"}}, \"colorscale\": {\"diverging\": [[0, \"#8e0152\"], [0.1, \"#c51b7d\"], [0.2, \"#de77ae\"], [0.3, \"#f1b6da\"], [0.4, \"#fde0ef\"], [0.5, \"#f7f7f7\"], [0.6, \"#e6f5d0\"], [0.7, \"#b8e186\"], [0.8, \"#7fbc41\"], [0.9, \"#4d9221\"], [1, \"#276419\"]], \"sequential\": [[0.0, \"#0d0887\"], [0.1111111111111111, \"#46039f\"], [0.2222222222222222, \"#7201a8\"], [0.3333333333333333, \"#9c179e\"], [0.4444444444444444, \"#bd3786\"], [0.5555555555555556, \"#d8576b\"], [0.6666666666666666, \"#ed7953\"], [0.7777777777777778, \"#fb9f3a\"], [0.8888888888888888, \"#fdca26\"], [1.0, \"#f0f921\"]], \"sequentialminus\": [[0.0, \"#0d0887\"], [0.1111111111111111, \"#46039f\"], [0.2222222222222222, \"#7201a8\"], [0.3333333333333333, \"#9c179e\"], [0.4444444444444444, \"#bd3786\"], [0.5555555555555556, \"#d8576b\"], [0.6666666666666666, \"#ed7953\"], [0.7777777777777778, \"#fb9f3a\"], [0.8888888888888888, \"#fdca26\"], [1.0, \"#f0f921\"]]}, \"colorway\": [\"#636efa\", \"#EF553B\", \"#00cc96\", \"#ab63fa\", \"#FFA15A\", \"#19d3f3\", \"#FF6692\", \"#B6E880\", \"#FF97FF\", \"#FECB52\"], \"font\": {\"color\": \"#2a3f5f\"}, \"geo\": {\"bgcolor\": \"white\", \"lakecolor\": \"white\", \"landcolor\": \"#E5ECF6\", \"showlakes\": true, \"showland\": true, \"subunitcolor\": \"white\"}, \"hoverlabel\": {\"align\": \"left\"}, \"hovermode\": \"closest\", \"mapbox\": {\"style\": \"light\"}, \"paper_bgcolor\": \"white\", \"plot_bgcolor\": \"#E5ECF6\", \"polar\": {\"angularaxis\": {\"gridcolor\": \"white\", \"linecolor\": \"white\", \"ticks\": \"\"}, \"bgcolor\": \"#E5ECF6\", \"radialaxis\": {\"gridcolor\": \"white\", \"linecolor\": \"white\", \"ticks\": \"\"}}, \"scene\": {\"xaxis\": {\"backgroundcolor\": \"#E5ECF6\", \"gridcolor\": \"white\", \"gridwidth\": 2, \"linecolor\": \"white\", \"showbackground\": true, \"ticks\": \"\", \"zerolinecolor\": \"white\"}, \"yaxis\": {\"backgroundcolor\": \"#E5ECF6\", \"gridcolor\": \"white\", \"gridwidth\": 2, \"linecolor\": \"white\", \"showbackground\": true, \"ticks\": \"\", \"zerolinecolor\": \"white\"}, \"zaxis\": {\"backgroundcolor\": \"#E5ECF6\", \"gridcolor\": \"white\", \"gridwidth\": 2, \"linecolor\": \"white\", \"showbackground\": true, \"ticks\": \"\", \"zerolinecolor\": \"white\"}}, \"shapedefaults\": {\"line\": {\"color\": \"#2a3f5f\"}}, \"ternary\": {\"aaxis\": {\"gridcolor\": \"white\", \"linecolor\": \"white\", \"ticks\": \"\"}, \"baxis\": {\"gridcolor\": \"white\", \"linecolor\": \"white\", \"ticks\": \"\"}, \"bgcolor\": \"#E5ECF6\", \"caxis\": {\"gridcolor\": \"white\", \"linecolor\": \"white\", \"ticks\": \"\"}}, \"title\": {\"x\": 0.05}, \"xaxis\": {\"automargin\": true, \"gridcolor\": \"white\", \"linecolor\": \"white\", \"ticks\": \"\", \"title\": {\"standoff\": 15}, \"zerolinecolor\": \"white\", \"zerolinewidth\": 2}, \"yaxis\": {\"automargin\": true, \"gridcolor\": \"white\", \"linecolor\": \"white\", \"ticks\": \"\", \"title\": {\"standoff\": 15}, \"zerolinecolor\": \"white\", \"zerolinewidth\": 2}}}},                        {\"responsive\": true}                    ).then(function(){\n",
       "                            \n",
       "var gd = document.getElementById('5693ffcc-f79e-4239-8eca-67ea0e2b5141');\n",
       "var x = new MutationObserver(function (mutations, observer) {{\n",
       "        var display = window.getComputedStyle(gd).display;\n",
       "        if (!display || display === 'none') {{\n",
       "            console.log([gd, 'removed!']);\n",
       "            Plotly.purge(gd);\n",
       "            observer.disconnect();\n",
       "        }}\n",
       "}});\n",
       "\n",
       "// Listen for the removal of the full notebook cells\n",
       "var notebookContainer = gd.closest('#notebook-container');\n",
       "if (notebookContainer) {{\n",
       "    x.observe(notebookContainer, {childList: true});\n",
       "}}\n",
       "\n",
       "// Listen for the clearing of the current output cell\n",
       "var outputEl = gd.closest('.output');\n",
       "if (outputEl) {{\n",
       "    x.observe(outputEl, {childList: true});\n",
       "}}\n",
       "\n",
       "                        })                };                });            </script>        </div>"
      ]
     },
     "metadata": {},
     "output_type": "display_data"
    }
   ],
   "source": [
    "#3d scatter plot against enrolled, %active and quality\n",
    "fig = px.scatter()\n",
    "fig = px.scatter_3d(all_data, x = '%response', y = '%active', z = 'quality', color = 'department')\n",
    "fig.show()"
   ]
  },
  {
   "cell_type": "markdown",
   "metadata": {},
   "source": [
    "#### Use k-means clustering to plot class size by professor rating, color coded by clusters\n",
    "    - Clusters: departments"
   ]
  },
  {
   "cell_type": "code",
   "execution_count": 22,
   "metadata": {},
   "outputs": [
    {
     "name": "stdout",
     "output_type": "stream",
     "text": [
      "[3 3 3 3 3 3 3 3 3 3 3 1 1 4 1 1 4 1 1 4 1 1 4 1 1 4 1 1 4 1 1 4 1 1 4 1 1\n",
      " 4 1 1 4 1 1 4 1 1 4 1 1 4 1 1 4 1 1 4 1 1 4 1 1 4 1 1 4 1 1 4 1 4 1 1 1 4\n",
      " 1 1 1 4 1 1 1 4 1 1 1 4 1 1 1 4 1 1 1 4 1 1 1 4 1 1 1 4 1 1 1 4 1 1 1 4 1\n",
      " 1 1 4 1 1 1 4 1 1 1 4 1 1 1 4 1 1 1 4 1 1 1 4 1 1 1 4 1 1 1 4 1 1 1 4 1 1\n",
      " 3 3 3 3 3 3 3 3 3 0 0 0 0 0 0 0 0 0 0 0 0 0 0 0 0 0 0 0 0 0 0 0 0 0 0 0 0\n",
      " 0 0 0 0 0 0 0 0 0 0 0 0 0 0 0 0 0 0 0 0 0 0 0 0 0 0 0 0 0 0 0 0 0 0 0 0 0\n",
      " 0 0 0 0 0 0 0 0 0 0 0 3 3 3 3 3 3 3 3 0 2 0 2 0 2 0 2 0 2 0 2 0 2 4 4 4 4\n",
      " 4 4 4 4 4 0 2 2 2 2 2 2 2 2 2 0 0 0 0 0 0 0 0 0 0 0 0 0 0 0 0 0 2 2 2 2 2\n",
      " 2 2 2 2 2 2 2 2 0 0 0 0 0 0 2 2 2 2 2 0 3 3 3 3 3 3 3 3 3 3 3 3 3 3 3 0 0\n",
      " 0 0 0]\n"
     ]
    },
    {
     "data": {
      "image/png": "[encoded data removed]",
      "text/plain": [
       "<Figure size 432x288 with 1 Axes>"
      ]
     },
     "metadata": {
      "needs_background": "light"
     },
     "output_type": "display_data"
    }
   ],
   "source": [
    "x = all_data.iloc[:, [2, 15]].values\n",
    "kmeans5 = KMeans(n_clusters=5)\n",
    "y_kmeans5 = kmeans5.fit_predict(x)\n",
    "print(y_kmeans5)\n",
    "kmeans5.cluster_centers_\n",
    "Error = []\n",
    "for i in range(1, 11):\n",
    "    kmeans = KMeans(n_clusters = i).fit(x)\n",
    "    kmeans.fit(x)\n",
    "    Error.append(kmeans.inertia_)\n",
    "\n",
    "plt.plot(range(1, 11), Error)\n",
    "plt.title('Elbow method')\n",
    "plt.xlabel('# of clusters')\n",
    "plt.ylabel('error')\n",
    "plt.show()"
   ]
  },
  {
   "cell_type": "code",
   "execution_count": 25,
   "metadata": {},
   "outputs": [
    {
     "name": "stdout",
     "output_type": "stream",
     "text": [
      "[2 2 2 2 2 2 2 2 2 2 2 1 1 1 1 1 1 1 1 1 1 1 1 1 1 1 1 1 1 1 1 1 1 1 1 1 1\n",
      " 1 1 1 1 1 1 1 1 1 1 1 1 1 1 1 1 1 1 1 1 1 1 1 1 1 1 1 1 1 1 1 1 1 1 1 1 1\n",
      " 1 1 1 1 1 1 1 1 1 1 1 1 1 1 1 1 1 1 1 1 1 1 1 1 1 1 1 1 1 1 1 1 1 1 1 1 1\n",
      " 1 1 1 1 1 1 1 1 1 1 1 1 1 1 1 1 1 1 1 1 1 1 1 1 1 1 1 1 1 1 1 1 1 1 1 1 1\n",
      " 2 2 2 2 2 2 2 2 2 0 0 0 0 0 0 0 0 0 0 0 0 0 0 0 0 0 0 0 0 0 0 0 0 0 0 0 0\n",
      " 0 0 0 0 0 0 0 0 0 0 0 0 0 0 0 0 0 0 0 0 0 0 0 0 0 0 0 0 0 0 0 0 0 0 0 0 0\n",
      " 0 0 0 0 0 0 0 0 0 0 0 2 2 2 2 2 2 2 2 0 2 0 2 0 2 0 2 0 2 0 2 0 2 1 1 1 1\n",
      " 1 1 1 1 1 0 2 2 2 2 2 2 2 2 2 0 0 0 0 0 0 0 0 0 0 0 0 0 0 0 0 0 2 2 2 2 2\n",
      " 2 2 2 2 2 2 2 2 0 0 0 0 0 0 2 2 2 2 2 0 2 2 2 2 2 2 2 2 2 2 2 2 2 2 2 0 0\n",
      " 0 0 0]\n"
     ]
    },
    {
     "data": {
      "text/plain": [
       "<matplotlib.collections.PathCollection at 0x7fccfa160670>"
      ]
     },
     "execution_count": 25,
     "metadata": {},
     "output_type": "execute_result"
    },
    {
     "data": {
      "image/png": "[encoded data removed]",
      "text/plain": [
       "<Figure size 432x288 with 1 Axes>"
      ]
     },
     "metadata": {
      "needs_background": "light"
     },
     "output_type": "display_data"
    }
   ],
   "source": [
    "kmeans3 = KMeans(n_clusters=3)\n",
    "y_kmeans3 = kmeans3.fit_predict(x)\n",
    "print(y_kmeans3)\n",
    "plt.scatter(x[:, 0],x[:, 1], c=y_kmeans3, cmap='rainbow' )"
   ]
  },
  {
   "cell_type": "markdown",
   "metadata": {},
   "source": [
    "- **Analysis**: \n"
   ]
  },
  {
   "cell_type": "markdown",
   "metadata": {},
   "source": [
    "#### Use linear regression and correlation coefficient to determine if there is a correlation between the variables class size and piazza activity for a course."
   ]
  },
  {
   "cell_type": "code",
   "execution_count": null,
   "metadata": {},
   "outputs": [],
   "source": [
    "plt.scatter(all_data['enrolled'], all_data['%active'])\n",
    "plt.xlabel('Avg. Response Time (minutes)')\n",
    "plt.ylabel('% of Enrolled students active')\n",
    "\n",
    "l = LinearRegression()\n",
    "model = l.fit(np.array(all_data[['enrolled']]).reshape(-1,1), all_data[['%active']])\n",
    "predictions = model.predict(all_data[['enrolled']])\n",
    "r = model.score(all_data[['enrolled']],all_data['%active'])\n",
    "print(\"Lin reg slope: {:.2f}\".format(l.coef_[0][0]))\n",
    "print('r^2', r)"
   ]
  },
  {
   "cell_type": "markdown",
   "metadata": {},
   "source": [
    "- **Analysis**: \n"
   ]
  },
  {
   "cell_type": "markdown",
   "metadata": {},
   "source": [
    "#### Use linear regression and correlation coefficient to determine if there is a correlation between the variables instructor response time and piazza activity for a course."
   ]
  },
  {
   "cell_type": "code",
   "execution_count": null,
   "metadata": {},
   "outputs": [],
   "source": [
    "#plot\n",
    "plt.scatter(all_data['avg_response_time'], all_data['%active'])\n",
    "plt.xlabel('Avg. Response Time (minutes)')\n",
    "plt.ylabel('% of Enrolled students active')\n",
    "\n",
    "#model\n",
    "l = LinearRegression()\n",
    "model = l.fit(np.array(all_data[['avg_response_time']]).reshape(-1,1), all_data[['%active']])\n",
    "predictions = model.predict(all_data[['avg_response_time']])\n",
    "r = model.score(all_data[['avg_response_time']],all_data['%active'])\n",
    "print(\"Lin reg slope: {:.2f}\".format(l.coef_[0][0]))\n",
    "print('r^2', r)"
   ]
  },
  {
   "cell_type": "markdown",
   "metadata": {},
   "source": [
    "    - We can see by the plot that there is an outlier where the average response time is over 80 minutes, let's see if removing it gives us a better idea of the trend in the data."
   ]
  },
  {
   "cell_type": "code",
   "execution_count": null,
   "metadata": {},
   "outputs": [],
   "source": [
    "#new copy of all_data with outlier removed\n",
    "all_data_copy = all_data.copy()\n",
    "all_data_copy = all_data_copy[all_data_copy.avg_response_time < 80]\n",
    "\n",
    "#previous code the same, with new version of all_data\n",
    "plt.scatter(all_data_copy['avg_response_time'], all_data_copy['%active'])\n",
    "plt.xlabel('Avg. Response Time (minutes)')\n",
    "plt.ylabel('% of Enrolled students active')\n",
    "\n",
    "l = LinearRegression()\n",
    "model = l.fit(np.array(all_data_copy[['avg_response_time']]).reshape(-1,1), all_data_copy[['%active']])\n",
    "predictions = model.predict(all_data_copy[['avg_response_time']])\n",
    "r = model.score(all_data_copy[['avg_response_time']],all_data_copy['%active'])\n",
    "print(\"Lin reg slope: {:.2f}\".format(l.coef_[0][0]))\n",
    "print('r^2', r)"
   ]
  },
  {
   "cell_type": "markdown",
   "metadata": {},
   "source": [
    "- **Analysis**: \n"
   ]
  },
  {
   "cell_type": "code",
   "execution_count": null,
   "metadata": {},
   "outputs": [],
   "source": [
    "#extra analysis\n",
    "#plot\n",
    "print(all_data)\n",
    "plt.scatter(all_data['avg_response_time'], all_data['avg_difficulty'])\n",
    "plt.xlabel('Avg. Response Time (minutes)')\n",
    "plt.ylabel('% of Enrolled students active')\n",
    "\n",
    "#model\n",
    "l = LinearRegression()\n",
    "model = l.fit(np.array(all_data[['avg_response_time']]).reshape(-1,1), all_data[['avg_difficulty']])\n",
    "predictions = model.predict(all_data[['avg_response_time']])\n",
    "r = model.score(all_data[['avg_response_time']],all_data['avg_difficulty'])\n",
    "print(\"Lin reg slope: {:.2f}\".format(l.coef_[0][0]))\n",
    "print('r^2', r)"
   ]
  },
  {
   "cell_type": "markdown",
   "metadata": {},
   "source": [
    "## Evaluation of Significance"
   ]
  },
  {
   "cell_type": "markdown",
   "metadata": {},
   "source": [
    "- Repeat linear regression of piazza activity vs class size, but randomized, to see if we get similar results"
   ]
  },
  {
   "cell_type": "markdown",
   "metadata": {},
   "source": [
    "- Repeat linear regression of piazza activity vs instructor response time, but randomized, to see if we get similar results"
   ]
  },
  {
   "cell_type": "markdown",
   "metadata": {},
   "source": [
    "## Interpretation and Conclusions"
   ]
  },
  {
   "cell_type": "markdown",
   "metadata": {},
   "source": [
    "## Limitations\n",
    "\n",
    "* Besides the limitations of data collection we must also note the limitations of what we can infer from the data. Often times, people tend to leave online reviews about things they have particularly strong opinions about. Also, people often have wildly different opinions on the same instructor's teaching style, based on a variety of factors such as prior relevant experience, workload from other classes, learning style, etc. Thus we can reasonably expect a mixed bag of reviews for all instructors. \n",
    "* Piazza is generally only used for STEM and technical courses. Looking forward, if we continued this project, we would love to investigate how humanities and liberal arts courses involve online engagement and participation, if not with Piazza, especially in the times of remote learning."
   ]
  },
  {
   "cell_type": "markdown",
   "metadata": {},
   "source": [
    "## Source Code\n"
   ]
  },
  {
   "cell_type": "markdown",
   "metadata": {},
   "source": [
    "- All source code, raw data sets, and previous project phases are available publicly on the project's Github page:\n",
    "    - https://github.com/Amina-S/2950_project\n",
    "- Data collection and cleaning code: \n",
    "    - [Appendix](Appendix.ipynb)\n",
    "- Web Scraping code: \n",
    "    - [Appendix 2](Appendix2.ipynb)"
   ]
  },
  {
   "cell_type": "markdown",
   "metadata": {},
   "source": [
    "## Acknowledgements"
   ]
  },
  {
   "cell_type": "markdown",
   "metadata": {},
   "source": [
    "We would like to recognize ratemyprofs.com and piazza.com from which we gathered our raw data through web scraping."
   ]
  },
  {
   "cell_type": "markdown",
   "metadata": {},
   "source": [
    "\n",
    "We would also like to thank our peers who helped us gather our data by sending us the links to their past piazza.com courses:\n",
    "- Amulya Khurana\n",
    "- Anissa Dallmann\n",
    "- Dakota Thomas\n",
    "- Destiny Nwafor\n",
    "- Elena Peot\n",
    "- Enya Zimecka\n",
    "- Luis Enriquez\n",
    "- Rayshard Thompson\n",
    "- Rizo Rakhmanov\n",
    "- Sanjana Namreen"
   ]
  },
  {
   "cell_type": "markdown",
   "metadata": {},
   "source": [
    "We would also like to thank Prof. Mimno and the INFO 2950 course staff for helping this report come to fruition."
   ]
  }
 ],
 "metadata": {
  "kernelspec": {
   "display_name": "Python 3",
   "language": "python",
   "name": "python3"
  },
  "language_info": {
   "codemirror_mode": {
    "name": "ipython",
    "version": 3
   },
   "file_extension": ".py",
   "mimetype": "text/x-python",
   "name": "python",
   "nbconvert_exporter": "python",
   "pygments_lexer": "ipython3",
   "version": "3.8.5"
  }
 },
 "nbformat": 4,
 "nbformat_minor": 4
}
