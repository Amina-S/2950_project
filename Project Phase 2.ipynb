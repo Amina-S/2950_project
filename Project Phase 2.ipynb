{
 "cells": [
  {
   "cell_type": "markdown",
   "metadata": {},
   "source": [
    "# Project Phase 2\n",
    "#### Amina Shikhalieva (as2642), Gauri Pidatala (vp223)\n"
   ]
  },
  {
   "cell_type": "markdown",
   "metadata": {},
   "source": [
    "### Research Questions:\n"
   ]
  },
  {
   "cell_type": "markdown",
   "metadata": {},
   "source": [
    "##### What makes a class \"good\" ?\n",
    "* How do variables such as class size, course level, and Piazza activity correlate sentiment towards a course?"
   ]
  },
  {
   "cell_type": "markdown",
   "metadata": {},
   "source": [
    "### Data Collection and Cleaning\n"
   ]
  },
  {
   "cell_type": "markdown",
   "metadata": {},
   "source": [
    "We primarily use web scraping to acquire data and store it in two tables.\n",
    "\n",
    "**piazza.com** \n",
    "* Every course on Piazza has a stats report accessible to anyone enrolled in the class (under the statistics tab). A few courses do not have this report because there was not enough piazza activity. \n",
    "* We compiled a list of courses from various departments taught in various semesters that used piazza.com as an interactive platform. For each of these courses, we recorded the URL for its stats page in the file \"piazza_stats.txt\". We then iterated through each of the URLs in the file and recorded in [ piazza .csv ] various attributes for each course:\n",
    "\n",
    "**ratemyprofessors.com** \n",
    "* We manually associate each course element of our piazza.csv database with the name of the professor who taught it that semester. We then manually aqcuire the URLs of the associated ratemyprofessors.com page of each of these professors and record them in the file \"Rate_my_prof.txt\". We then iterate through each URL in this file and scrape the necessary attributes for each review for the course we are looking for.\n",
    "* Because a review page for a professor includes many \n",
    "    "
   ]
  },
  {
   "cell_type": "code",
   "execution_count": 1,
   "metadata": {},
   "outputs": [],
   "source": [
    "import numpy as np\n",
    "import pandas as pd\n",
    "import matplotlib.pyplot as plt\n",
    "# piazza_data = pd.read_csv('')\n",
    "ratings_data = pd.read_csv('rmp.csv')"
   ]
  },
  {
   "cell_type": "markdown",
   "metadata": {},
   "source": [
    "**cleaning**\n",
    "* As of now, some of our piazza stats include both names for crosslisted courses:"
   ]
  },
  {
   "cell_type": "code",
   "execution_count": null,
   "metadata": {},
   "outputs": [],
   "source": []
  },
  {
   "cell_type": "markdown",
   "metadata": {},
   "source": [
    "    * To clean them, we will only keep the department name, not the distribution requirement category:"
   ]
  },
  {
   "cell_type": "code",
   "execution_count": null,
   "metadata": {},
   "outputs": [],
   "source": []
  },
  {
   "cell_type": "markdown",
   "metadata": {},
   "source": [
    "* Because the piazza stats reports don't mention the semester of the course, we can use the recorded dates there to determing it ourselves (eg, 1/8/19 = FA19): "
   ]
  },
  {
   "cell_type": "code",
   "execution_count": null,
   "metadata": {},
   "outputs": [],
   "source": []
  },
  {
   "cell_type": "markdown",
   "metadata": {},
   "source": [
    "    * Now that we can identify a course by its number and the semester it was taught, we can remove duplicates:"
   ]
  },
  {
   "cell_type": "code",
   "execution_count": null,
   "metadata": {},
   "outputs": [],
   "source": []
  },
  {
   "cell_type": "markdown",
   "metadata": {},
   "source": [
    "* Some ratemyprofessors.com reviews are void because when they were scraped the ads on the page corrupted some of the observations (they weren't actual reviews) :"
   ]
  },
  {
   "cell_type": "code",
   "execution_count": 2,
   "metadata": {},
   "outputs": [
    {
     "name": "stdout",
     "output_type": "stream",
     "text": [
      "               Name Quality Difficulty Would Take Again            Date\n",
      "0       Haym Hirsh      4.0        3.0              Yes  May 11th, 2020\n",
      "1       Haym Hirsh      4.0        3.0              Yes   Apr 9th, 2020\n",
      "2       Haym Hirsh      1.0        2.0               No  Dec 14th, 2019\n",
      "3       Haym Hirsh      1.0        4.0               No  Nov 12th, 2019\n",
      "4       Haym Hirsh     None       None             None            None\n",
      "..              ...     ...        ...              ...             ...\n",
      "309  Alex Townsend      5.0        4.0              Yes  Apr 15th, 2018\n",
      "310  Alex Townsend     None       None             None            None\n",
      "311   David Muller      5.0        3.0             None  Dec 17th, 2012\n",
      "312   David Muller      4.5        1.0             None  Dec 13th, 2011\n",
      "313   David Muller      1.0        5.0             None   Apr 1st, 2006\n",
      "\n",
      "[314 rows x 5 columns]\n"
     ]
    }
   ],
   "source": [
    "print(ratings_data)"
   ]
  },
  {
   "cell_type": "markdown",
   "metadata": {},
   "source": [
    "    * So we need to remove these observations. Every review is guaranteed to have a quality rating, so:"
   ]
  },
  {
   "cell_type": "code",
   "execution_count": 3,
   "metadata": {},
   "outputs": [
    {
     "name": "stdout",
     "output_type": "stream",
     "text": [
      "               Name Quality Difficulty Would Take Again            Date\n",
      "0       Haym Hirsh      4.0        3.0              Yes  May 11th, 2020\n",
      "1       Haym Hirsh      4.0        3.0              Yes   Apr 9th, 2020\n",
      "2       Haym Hirsh      1.0        2.0               No  Dec 14th, 2019\n",
      "3       Haym Hirsh      1.0        4.0               No  Nov 12th, 2019\n",
      "5       Haym Hirsh      5.0        3.0              Yes  Jun 28th, 2019\n",
      "..              ...     ...        ...              ...             ...\n",
      "308  Alex Townsend      5.0        4.0              Yes  May 18th, 2018\n",
      "309  Alex Townsend      5.0        4.0              Yes  Apr 15th, 2018\n",
      "311   David Muller      5.0        3.0             None  Dec 17th, 2012\n",
      "312   David Muller      4.5        1.0             None  Dec 13th, 2011\n",
      "313   David Muller      1.0        5.0             None   Apr 1st, 2006\n",
      "\n",
      "[244 rows x 5 columns]\n"
     ]
    }
   ],
   "source": [
    "# ratings_data = ratings_data.drop(ratings_data['Difficulty'] == None)\n",
    "ratings_data = ratings_data.copy()[ratings_data.Quality != 'None']\n",
    "print(ratings_data)"
   ]
  },
  {
   "cell_type": "markdown",
   "metadata": {},
   "source": [
    "### Data Description \n"
   ]
  },
  {
   "cell_type": "markdown",
   "metadata": {},
   "source": [
    "### Data Limitations \n"
   ]
  },
  {
   "cell_type": "markdown",
   "metadata": {},
   "source": [
    "* As of now, we only have a relatively small sample of courses ...\n",
    "* Some professors on ratemyprofessors.com have only a few reviews ...\n",
    "    - We need to acknowledge that people usually only write reviews if they have a strong opinion (there's a name for htis kind of bias) \n",
    "* We need to make sure we are aware of the impacts of covid \n",
    "    - For instance Nate Foster got a ton of positive reviews after he made his course super accomodating when covid first struck"
   ]
  },
  {
   "cell_type": "markdown",
   "metadata": {},
   "source": [
    "### Exploratory Data Analysis"
   ]
  },
  {
   "cell_type": "markdown",
   "metadata": {},
   "source": [
    "### Piazza:"
   ]
  },
  {
   "cell_type": "markdown",
   "metadata": {},
   "source": [
    "* Compare percentage of active piazza users across departments: "
   ]
  },
  {
   "cell_type": "code",
   "execution_count": null,
   "metadata": {},
   "outputs": [],
   "source": []
  },
  {
   "cell_type": "markdown",
   "metadata": {},
   "source": [
    "    * So,"
   ]
  },
  {
   "cell_type": "markdown",
   "metadata": {},
   "source": [
    "* Relate intructor response time with percentage of active piazza users:"
   ]
  },
  {
   "cell_type": "code",
   "execution_count": null,
   "metadata": {},
   "outputs": [],
   "source": []
  },
  {
   "cell_type": "markdown",
   "metadata": {},
   "source": [
    "    * So,"
   ]
  },
  {
   "cell_type": "markdown",
   "metadata": {},
   "source": [
    "### Ratemyprofessors:"
   ]
  },
  {
   "cell_type": "markdown",
   "metadata": {},
   "source": [
    "* Compare difficulty ratings across departments:"
   ]
  },
  {
   "cell_type": "code",
   "execution_count": 4,
   "metadata": {},
   "outputs": [],
   "source": [
    "# diff_by_dept = ratings_data.groupby(by = 'Department')['']"
   ]
  },
  {
   "cell_type": "markdown",
   "metadata": {},
   "source": [
    "    * So, "
   ]
  },
  {
   "cell_type": "markdown",
   "metadata": {},
   "source": [
    "**Relate course difficulty with course rating per review:**"
   ]
  },
  {
   "cell_type": "code",
   "execution_count": 6,
   "metadata": {},
   "outputs": [
    {
     "data": {
      "text/plain": [
       "Text(0, 0.5, 'Difficulty Ratings')"
      ]
     },
     "execution_count": 6,
     "metadata": {},
     "output_type": "execute_result"
    },
    {
     "data": {
      "image/png": "[encoded data removed]",
      "text/plain": [
       "<Figure size 432x288 with 1 Axes>"
      ]
     },
     "metadata": {
      "needs_background": "light"
     },
     "output_type": "display_data"
    }
   ],
   "source": [
    "plt.scatter(ratings_data['Quality'], ratings_data['Difficulty'])\n",
    "plt.xlabel('Quality Ratings')\n",
    "plt.ylabel('Difficulty Ratings')"
   ]
  },
  {
   "cell_type": "markdown",
   "metadata": {},
   "source": [
    "    * Based on the above plot, there is no apparent correlation between the quality of a professor's teaching and the difficulty of the class they taught. This might be due to many factors, including that some students want to be challenged by a class while some want to get a higher grade with less effort, or possibly that students do not associate the teaching skills of a particular professor with the difficulty of the material they teach, as it could just be the nature of the course to be more material heavy or abstract/technical."
   ]
  },
  {
   "cell_type": "markdown",
   "metadata": {},
   "source": [
    "**Relate course difficulty with course level:**"
   ]
  },
  {
   "cell_type": "code",
   "execution_count": null,
   "metadata": {},
   "outputs": [],
   "source": []
  },
  {
   "cell_type": "markdown",
   "metadata": {},
   "source": [
    "    * So, "
   ]
  },
  {
   "cell_type": "markdown",
   "metadata": {},
   "source": [
    "#### Cross analysis:"
   ]
  },
  {
   "cell_type": "markdown",
   "metadata": {},
   "source": [
    "* Relate course rating with percentage of active users:"
   ]
  },
  {
   "cell_type": "code",
   "execution_count": null,
   "metadata": {},
   "outputs": [],
   "source": []
  },
  {
   "cell_type": "markdown",
   "metadata": {},
   "source": [
    "    * So, "
   ]
  },
  {
   "cell_type": "markdown",
   "metadata": {},
   "source": [
    "* Relate course difficulty with percentage of active users: "
   ]
  },
  {
   "cell_type": "code",
   "execution_count": null,
   "metadata": {},
   "outputs": [],
   "source": []
  },
  {
   "cell_type": "markdown",
   "metadata": {},
   "source": [
    "    * So, "
   ]
  },
  {
   "cell_type": "markdown",
   "metadata": {},
   "source": [
    "### Questions for reviewers"
   ]
  },
  {
   "cell_type": "markdown",
   "metadata": {},
   "source": [
    "* Do we have enough data to form significant data analysis with? Some of the professors we are looking at have relatively few reviews and we're not sure how much this says about a professor, if anything useful at all"
   ]
  },
  {
   "cell_type": "code",
   "execution_count": null,
   "metadata": {},
   "outputs": [],
   "source": []
  }
 ],
 "metadata": {
  "kernelspec": {
   "display_name": "Python 3",
   "language": "python",
   "name": "python3"
  },
  "language_info": {
   "codemirror_mode": {
    "name": "ipython",
    "version": 3
   },
   "file_extension": ".py",
   "mimetype": "text/x-python",
   "name": "python",
   "nbconvert_exporter": "python",
   "pygments_lexer": "ipython3",
   "version": "3.7.9"
  }
 },
 "nbformat": 4,
 "nbformat_minor": 4
}
