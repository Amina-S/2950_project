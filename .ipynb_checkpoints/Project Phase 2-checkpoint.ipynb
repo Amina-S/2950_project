{
 "cells": [
  {
   "cell_type": "markdown",
   "metadata": {},
   "source": [
    "# Project Phase 2\n",
    "#### Amina Shikhalieva (as2642), Gauri Pidatala (vp223)\n"
   ]
  },
  {
   "cell_type": "markdown",
   "metadata": {},
   "source": [
    "### Research Questions:\n"
   ]
  },
  {
   "cell_type": "markdown",
   "metadata": {},
   "source": [
    "##### What makes a class \"good\" ?\n",
    "* How do variables such as class size, course level, and Piazza activity correlate sentiment towards a course?"
   ]
  },
  {
   "cell_type": "markdown",
   "metadata": {},
   "source": [
    "### Data Collection and Cleaning\n"
   ]
  },
  {
   "cell_type": "markdown",
   "metadata": {},
   "source": [
    "We primarily use web scraping to acquire data and store it in two tables.\n",
    "\n",
    "**piazza.com** \n",
    "* Every course on Piazza has a stats report accessible to anyone enrolled in the class (under the statistics tab). A few courses do not have this report because there was not enough piazza activity. \n",
    "* We compiled a list of courses from various departments taught in various semesters that used piazza.com as an interactive platform. For each of these courses, we recorded the URL for its stats page in the file \"piazza_stats.txt\". We then iterated through each of the URLs in the file and recorded in [ piazza .csv ] various attributes for each course:\n",
    "\n",
    "**ratemyprofessors.com** \n",
    "* We manually associate each course element of our piazza.csv database with the name of the professor who taught it that semester. We then manually aqcuire the URLs of the associated ratemyprofessors.com page of each of these professors and record them in the file \"Rate_my_prof.txt\". We then iterate through each URL in this file and scrape the necessary attributes for each review for the course we are looking for.\n",
    "* Because a review page for a professor includes many \n",
    "    "
   ]
  },
  {
   "cell_type": "markdown",
   "metadata": {},
   "source": [
    "### Data Description \n"
   ]
  },
  {
   "cell_type": "markdown",
   "metadata": {},
   "source": [
    "### Data Limitations \n"
   ]
  },
  {
   "cell_type": "markdown",
   "metadata": {},
   "source": [
    "* As of now, we only have a relatively small sample of courses ...\n",
    "* Some professors on ratemyprofessors.com have only a few reviews ...\n",
    "    - We need to acknowledge that people usually only write reviews if they have a strong opinion (there's a name for htis kind of bias) \n",
    "* We need to make sure we are aware of the impacts of covid \n",
    "    - For instance Nate Foster got a ton of positive reviews after he made his course super accomodating when covid first struck"
   ]
  },
  {
   "cell_type": "markdown",
   "metadata": {},
   "source": [
    "### Exploratory Data Analysis"
   ]
  },
  {
   "cell_type": "code",
   "execution_count": 1,
   "metadata": {},
   "outputs": [],
   "source": [
    "#analysis on piazza\n",
    "\n",
    "#boxplots on %activity per class grouped by department (who uses piazza more)\n",
    "#histogram of %activity vs response time (does faster instructer responses encourage more kids to participate)\n",
    "\n",
    "#analysis on rmp\n",
    "\n",
    "#histogram of course difficulty vs course rating (do students prefer more or less difficult classes)\n",
    "#histogram of course level vs difficulty rating \n",
    "\n",
    "#cross analysis/\n",
    "\n",
    "# histograms of %activity on piazza vs course rating (explain holes in data, assumptions)"
   ]
  },
  {
   "cell_type": "markdown",
   "metadata": {},
   "source": [
    "### Questions for reviewers"
   ]
  },
  {
   "cell_type": "markdown",
   "metadata": {},
   "source": [
    "* Do we have enough data to form significant data analysis with? Some of the professors we are looking at have very few reviews and we're not sure how much this says about a professor, if anything useful at all"
   ]
  },
  {
   "cell_type": "code",
   "execution_count": null,
   "metadata": {},
   "outputs": [],
   "source": []
  }
 ],
 "metadata": {
  "kernelspec": {
   "display_name": "Python 3",
   "language": "python",
   "name": "python3"
  },
  "language_info": {
   "codemirror_mode": {
    "name": "ipython",
    "version": 3
   },
   "file_extension": ".py",
   "mimetype": "text/x-python",
   "name": "python",
   "nbconvert_exporter": "python",
   "pygments_lexer": "ipython3",
   "version": "3.7.9"
  }
 },
 "nbformat": 4,
 "nbformat_minor": 4
}
