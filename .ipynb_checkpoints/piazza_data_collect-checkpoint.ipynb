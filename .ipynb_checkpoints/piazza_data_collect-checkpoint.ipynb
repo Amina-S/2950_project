{
 "cells": [
  {
   "cell_type": "code",
<<<<<<< Updated upstream
   "execution_count": 5,
   "metadata": {},
   "outputs": [
    {
     "name": "stdout",
     "output_type": "stream",
     "text": [
      "https://piazza.com/stats/report/jpsr26zgbrg5jr\n",
      "https://piazza.com/stats/report/k5cl9xriyay7aj\n",
      "https://piazza.com/stats/report/jkxicfekmfi2em\n",
      "https://piazza.com/stats/report/jzvdbdbddq53q7\n",
      "https://piazza.com/stats/report/jr6syijk26k70m\n",
      "https://piazza.com/stats/report/jzwt141w6cg1z\n",
      "https://piazza.com/stats/report/jqh8v8nenii15c\n",
      "https://piazza.com/stats/report/jkicpptazff3e6\n",
      "https://piazza.com/stats/report/jz0itlyfrva503\n",
      "https://piazza.com/stats/report/jh80xv01kf01r8\n",
      "https://piazza.com/stats/report/jr8439yglym3md\n",
      "https://piazza.com/stats/report/jw5fogy7st54ts\n",
      "https://piazza.com/stats/report/k4d6qy5ybin2f4\n",
      "https://piazza.com/stats/report/jq52a4bel0r5ec\n",
      "https://piazza.com/stats/report/joq1huj6i3m5oe\n",
      "https://piazza.com/stats/report/jk01z84hqzs2y0\n",
      "https://piazza.com/stats/report/k5dfdqflysq1fp\n",
      "https://piazza.com/stats/report/k7ywn9eyz7z70e\n",
      "https://piazza.com/stats/report/jk01z84hqzs2y0\n",
      "https://piazza.com/stats/report/jwgv9dnbjii6ju\n",
      "https://piazza.com/stats/report/jw5fogy7st54ts\n",
      "https://piazza.com/stats/report/jzd8jvv6nsg3sy\n",
      "https://piazza.com/stats/report/k5ofiy0fdn351d\n",
      "https://piazza.com/stats/report/kbwox96ms2y3z1\n",
      "https://piazza.com/stats/report/kbqllfmoji74r6\n",
      "https://piazza.com/stats/report/jr6epm4rk6p4vk\n",
      "https://piazza.com/stats/report/k5eh0c04nur545\n",
      "https://piazza.com/stats/report/jkv19gmz6to5o0\n",
      "https://piazza.com/stats/report/jzw4t7fvstw7gg\n",
      "https://piazza.com/stats/report/k4rgcb6o3m136u\n",
      "https://piazza.com/stats/report/k5o5xfg188c47a\n",
      "https://piazza.com/stats/report/k574c3l9y31pa\n",
      "https://piazza.com/stats/report/jzd8jvv6nsg3sy\n",
      "https://piazza.com/stats/report/k5x7tcu6z5m4wy\n",
      "https://piazza.com/stats/report/jr2jxl5q5l3kb\n",
      "https://piazza.com/stats/report/jzd8jvv6nsg3sy\n",
      "https://piazza.com/stats/report/k3uzfldmnyd7c1\n",
      "https://piazza.com/stats/report/jl5bb0i5tg8hn\n",
      "https://piazza.com/stats/report/jzk7smzzlk06lq\n",
      "https://piazza.com/stats/report/jzn6e6qz9x71di\n",
      "https://piazza.com/stats/report/k8d75oi4188ol\n",
      "https://piazza.com/stats/report/k5olg9cdxlr3hn\n",
      "https://piazza.com/stats/report/jzu8hw5x5d962o\n"
     ]
    }
   ],
=======
   "execution_count": 50,
   "metadata": {},
   "outputs": [],
>>>>>>> Stashed changes
   "source": [
    "import sys\n",
    "import requests\n",
    "import bs4 \n",
    "import numpy as np\n",
    "import pandas as pd\n",
    "import os\n",
    "import time\n",
    "import csv\n",
    "\n",
    "myfile = open(\"piazza_links.txt\") \n",
    "\n",
    "with open(\"piazza.csv\", \"w\", newline = '') as csvfile:\n",
    "    writer = csv.writer(csvfile)\n",
    "    \n",
<<<<<<< Updated upstream
    "    columns = [(\"Course#\", \"Total_Q\", \"%Response\", \"#Contributions\", \"Avg_Response_Time\", \"Enrolled\", \"instructor_response\", \"%Active\", \"semester\")]\n",
=======
    "    columns = [(\"Course #\", \"Total_Q\", \"% Response\", \"# Contributions\", \"Avg. Response Time\", \"Enrolled\", \"instructor_response\", \"semester\")]\n",
>>>>>>> Stashed changes
    "    \n",
    "    for data in columns:\n",
    "            writer.writerow(data)\n",
    "    \n",
    "    for line in myfile:\n",
    "        time.sleep(0.01)\n",
    "        line.rstrip(\"\\n\")\n",
<<<<<<< Updated upstream
    "        semester = (line[line.find(\",\")+2:]).rstrip(\"\\n\")\n",
    "        url = line[:line.find(\",\")]\n",
    "        print(url)\n",
=======
    "        semester = (line[line.find(\",\")+2:]).strip(\"\\n\")\n",
    "        url = line[:line.find(\",\")]\n",
    "        #url = url.rstrip(\"\\n\")\n",
>>>>>>> Stashed changes
    "        page = requests.get(url)\n",
    "    \n",
    "        soup = bs4.BeautifulSoup(page.text, \"html.parser\")\n",
    "        \n",
    "        dataset = []\n",
    "        \n",
    "        course = \"None\"       \n",
    "        t_q = 0        \n",
    "        perc_response = 0      \n",
    "        contributions = 0\n",
    "        response_time = 0\n",
    "        date = 0\n",
    "        enrolled = 0\n",
    "        instructor_response = 0\n",
<<<<<<< Updated upstream
    "        percentage_active = 0\n",
=======
>>>>>>> Stashed changes
    "        \n",
    "        course_class = soup.find(\"div\", {\"class\": 'title_wrapper'}).h1\n",
    "        \n",
    "        course = course_class.text\n",
    "        \n",
    "        content_class = soup.find(\"div\", {\"class\": 'columnContent clearFix'})\n",
    "        \n",
    "        q_up_class = content_class.find(\"div\", {\"class\": 'summaryWithImage'})\n",
    "        q_up_class_container = q_up_class.find(\"div\", {\"class\": 'summaryContainer'})\n",
    "        \n",
    "        q_class = q_up_class_container.find(\"div\", {\"class\": 'summaryStatistic'})\n",
    "        t_q = q_class.span.text\n",
    "        \n",
    "        content_list = content_class.select('div[class*=\"summaryWithImage clearFix\"]')       \n",
    "        \n",
    "        perc_response_container = content_list[0].find(\"div\", {\"class\": 'summaryContainer'})      \n",
    "        perc_container_class_up = perc_response_container.find(\"div\", {\"class\": 'summaryStatistic'})   \n",
    "        perc_response = perc_container_class_up.span.text\n",
    "        \n",
    "        contribution_container = content_list[1].find(\"div\", {\"class\": 'summaryContainer'})    \n",
    "        contribution_container_class_up = contribution_container.find(\"div\", {\"class\": 'summaryStatistic'}) \n",
    "        contributions = contribution_container_class_up.span.text\n",
<<<<<<< Updated upstream
=======
    "        #print(contribution)\n",
>>>>>>> Stashed changes
    "        \n",
    "        response_time_container = content_list[2].find(\"div\", {\"class\": 'summaryContainer'})\n",
    "        response_time_container_class_up = response_time_container.find(\"div\", {\"class\": 'summaryStatistic'}) \n",
    "        response_time = response_time_container_class_up.span.text\n",
    "        \n",
    "        left_side = soup.find(\"div\", {\"class\": 'column span1'})\n",
    "        section = left_side.find(\"div\", {\"class\": 'section'})\n",
    "        column = section.find(\"div\", {\"class\": 'columnContent'})\n",
    "        classParticipation = column.find(\"div\", {\"id\": 'ClassParticipation'})\n",
<<<<<<< Updated upstream
    "        description = classParticipation.select('div[class*=\"summaryDescription\"]')\n",
    "        percentage_active = description[1].span.text\n",
    "        enrolled = description[0].span.text\n",
=======
    "        description = classParticipation.find(\"div\", {\"class\": 'summaryDescription'})\n",
    "        enrolled = description.span.text\n",
    "        #print(enrolled)\n",
>>>>>>> Stashed changes
    "        \n",
    "        main_side = soup.find(\"div\", {\"class\": 'column span2'})\n",
    "        column_content = main_side.find(\"div\", {\"class\": 'columnContent'})\n",
    "        graph_section = column_content.find(\"div\", {\"class\": 'section GraphSection'})\n",
    "        studentsInstructors = graph_section.find(\"div\", {\"class\": 'section clearFix studentsInstructors'})\n",
    "        instructor_response_up_class = studentsInstructors.find(\"div\", {\"class\": 'summaryWithImage clearFix'})\n",
    "        instructor_response_container = instructor_response_up_class.find(\"div\", {\"class\": 'summaryContainer'})\n",
    "        instructor_response_description = instructor_response_container.find(\"div\", {\"class\": 'summaryDescription'})\n",
    "        #instructor_response_span = instructor_response_description.select('span[class*=\"inlineStatistic\"]')\n",
    "        instructor_response_span_up = instructor_response_description.find(\"span\", {\"class\": 'inlineStatistic'})\n",
    "        #instructor_response_span = instructor_response_span_up.find(\"span\",{\"class\": 'inlineStatistic'})\n",
    "        #instructor_response_span = instructor_response_span_up.span.text        \n",
    "        instructor_response = instructor_response_span_up.text       \n",
    "        \n",
<<<<<<< Updated upstream
    "        dataset.append((course, t_q, perc_response, contributions, response_time, enrolled, instructor_response, percentage_active, semester))\n",
=======
    "        dataset.append((course, t_q, perc_response, contributions, response_time, enrolled, instructor_response, semester))\n",
>>>>>>> Stashed changes
    "        \n",
    "        for data in dataset:\n",
    "            writer.writerow(data)\n",
    "    \n",
<<<<<<< Updated upstream
    "myfile.close()"
   ]
=======
    "myfile.close()\n",
    "        \n",
    "        \n",
    "        \n",
    "        \n",
    "        \n",
    "        \n",
    "        \n",
    "        \n",
    "        \n",
    "        \n",
    "        \n",
    "        \n",
    "        \n",
    "        \n",
    "        \n",
    "        \n",
    "        \n",
    "        \n",
    "    \n",
    "    \n",
    "            \n",
    "    \n",
    "    \n",
    "    \n",
    "    \n",
    "    \n",
    "    \n",
    "    \n",
    "    \n",
    "    \n",
    "    "
   ]
  },
  {
   "cell_type": "code",
   "execution_count": null,
   "metadata": {},
   "outputs": [],
   "source": []
>>>>>>> Stashed changes
  }
 ],
 "metadata": {
  "kernelspec": {
   "display_name": "Python 3",
   "language": "python",
   "name": "python3"
  },
  "language_info": {
   "codemirror_mode": {
    "name": "ipython",
    "version": 3
   },
   "file_extension": ".py",
   "mimetype": "text/x-python",
   "name": "python",
   "nbconvert_exporter": "python",
   "pygments_lexer": "ipython3",
   "version": "3.7.9"
  }
 },
 "nbformat": 4,
 "nbformat_minor": 4
}
