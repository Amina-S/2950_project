{
 "cells": [
  {
   "cell_type": "code",
   "execution_count": 78,
   "metadata": {},
   "outputs": [
    {
     "name": "stdout",
     "output_type": "stream",
     "text": [
      "[['Haym Hirsh ']]\n"
     ]
    },
    {
     "ename": "IndexError",
     "evalue": "list index out of range",
     "output_type": "error",
     "traceback": [
      "\u001b[0;31m---------------------------------------------------------------------------\u001b[0m",
      "\u001b[0;31mIndexError\u001b[0m                                Traceback (most recent call last)",
      "\u001b[0;32m<ipython-input-78-711e81cbc824>\u001b[0m in \u001b[0;36m<module>\u001b[0;34m\u001b[0m\n\u001b[1;32m     44\u001b[0m         \u001b[0mi\u001b[0m \u001b[0;34m=\u001b[0m \u001b[0;36m0\u001b[0m\u001b[0;34m\u001b[0m\u001b[0;34m\u001b[0m\u001b[0m\n\u001b[1;32m     45\u001b[0m         \u001b[0;32mfor\u001b[0m \u001b[0mq\u001b[0m \u001b[0;32min\u001b[0m \u001b[0mquality\u001b[0m\u001b[0;34m:\u001b[0m\u001b[0;34m\u001b[0m\u001b[0;34m\u001b[0m\u001b[0m\n\u001b[0;32m---> 46\u001b[0;31m             \u001b[0mdataset\u001b[0m\u001b[0;34m[\u001b[0m\u001b[0mi\u001b[0m\u001b[0;34m]\u001b[0m\u001b[0;34m.\u001b[0m\u001b[0mappend\u001b[0m\u001b[0;34m(\u001b[0m\u001b[0mq\u001b[0m\u001b[0;34m.\u001b[0m\u001b[0mget_text\u001b[0m\u001b[0;34m(\u001b[0m\u001b[0;34m)\u001b[0m\u001b[0;34m)\u001b[0m\u001b[0;34m\u001b[0m\u001b[0;34m\u001b[0m\u001b[0m\n\u001b[0m\u001b[1;32m     47\u001b[0m             \u001b[0mi\u001b[0m \u001b[0;34m+=\u001b[0m \u001b[0;36m1\u001b[0m\u001b[0;34m\u001b[0m\u001b[0;34m\u001b[0m\u001b[0m\n\u001b[1;32m     48\u001b[0m \u001b[0;34m\u001b[0m\u001b[0m\n",
      "\u001b[0;31mIndexError\u001b[0m: list index out of range"
     ]
    }
   ],
   "source": [
    "import sys\n",
    "import requests\n",
    "import bs4 \n",
    "import numpy as np\n",
    "import pandas as pd\n",
    "import os\n",
    "import time\n",
    "import csv\n",
    "\n",
    "# directory = r'C:\\Users\\amshi\\Cornell\\CS\\INFO 2950\\2950_project'\n",
    "# for file in os.scandir(directory):\n",
    "#     if (file.path.endswith('.html')):\n",
    "#         soup = bs4.BeautifulSoup(wikiResponse.text, 'html.parser')\n",
    "\n",
    "# \n",
    "\n",
    "#url = \"https://www.ratemyprofessors.com/ShowRatings.jsp?tid=1705832\"\n",
    "myfile = open(\"Rate_my_prof.txt\") \n",
    "lst = []\n",
    "with open(\"rmp.csv\", \"w\", newline = '') as csvfile:\n",
    "    writer = csv.writer(csvfile)\n",
    "    columns = [(\"Name\", \"Quality\", \"Difficulty\", \"Would Take Again\", \"Date\")]\n",
    "    for data in columns:\n",
    "            writer.writerow(data)\n",
    "    for line in myfile:\n",
    "        url = line\n",
    "        url = url.rstrip(\"\\n\")\n",
    "        page = requests.get(url)\n",
    "        #print(url)\n",
    "\n",
    "        soup = bs4.BeautifulSoup(page.text, \"html.parser\")\n",
    "        last_name = soup.findAll(\"div\", {\"class\": \"NameTitle__Name-dowf0z-0 jeLOXk\"})\n",
    "        quality = soup.findAll(\"div\", {\"class\": \"RatingValues__RatingValue-sc-6dc747-3 iZENup\"})\n",
    "        difficulty = soup.findAll(\"div\", {\"class\": \"RatingValues__RatingValue-sc-6dc747-3 ieQwTJ\"})\n",
    "        would_take_again = soup.findAll(\"div\", {\"class\": \"MetaItem__StyledMetaItem-y0ixml-0 ezVUqy\"})\n",
    "        date = soup.findAll(\"div\", {\"class\": \"TimeStamp__StyledTimeStamp-sc-9q2r30-0 bXQmMr RatingHeader__RatingTimeStamp-sc-1dlkqw1-3 BlaCV\"})\n",
    "        dataset = []\n",
    "        \n",
    "        for l in last_name:\n",
    "            dataset.append([l.get_text()])\n",
    "        \n",
    "        print(dataset)\n",
    "        \n",
    "        i = 0\n",
    "        for q in quality:\n",
    "            dataset[i].append(q.get_text())\n",
    "            i += 1\n",
    "        \n",
    "        i = 0\n",
    "        for d in difficulty:\n",
    "            dataset[i].append(d.get_text())\n",
    "            i += 1\n",
    "        \n",
    "        i = 0\n",
    "        for w in woukd_take_again:\n",
    "            dataset[i].append(w.get_text())\n",
    "            i += 1\n",
    "        i = 0\n",
    "        for dt in date:\n",
    "            dataset[i].append(dt.get_text())\n",
    "            i += 1\n",
    "        \n",
    "#         for (l, x, y, z, a) in (last_name, quality, difficulty, would_take_again, date):\n",
    "#             dataset.append((l.get_text(), y.get_text(), z.get_text(), a.get_text()))\n",
    "\n",
    "#         dataset = [( l.text, x.text, y.text, z.text, a.text) for l,x,y,z,a in zip(last_name, quality, difficulty, would_take_again, date)]\n",
    "#         print(dataset)\n",
    "\n",
    "\n",
    "        for data in dataset:\n",
    "            writer.writerow(data)\n",
    "\n",
    "        time.sleep(0.01)\n",
    "\n",
    "\n",
    "    \n",
    "myfile.close()\n",
    "\n",
    "\n"
   ]
  },
  {
   "cell_type": "code",
   "execution_count": 72,
   "metadata": {},
   "outputs": [
    {
     "name": "stdout",
     "output_type": "stream",
     "text": [
      "[]\n"
     ]
    }
   ],
   "source": [
    "print(lst)"
   ]
  },
  {
   "cell_type": "code",
   "execution_count": 49,
   "metadata": {},
   "outputs": [
    {
     "data": {
      "text/plain": [
       "[]"
      ]
     },
     "execution_count": 49,
     "metadata": {},
     "output_type": "execute_result"
    }
   ],
   "source": []
  },
  {
   "cell_type": "code",
   "execution_count": 50,
   "metadata": {},
   "outputs": [],
   "source": [
    "\n",
    "    "
   ]
  },
  {
   "cell_type": "code",
   "execution_count": 52,
   "metadata": {},
   "outputs": [
    {
     "name": "stdout",
     "output_type": "stream",
     "text": [
      "[]\n"
     ]
    }
   ],
   "source": []
  },
  {
   "cell_type": "code",
   "execution_count": null,
   "metadata": {},
   "outputs": [],
   "source": []
  }
 ],
 "metadata": {
  "kernelspec": {
   "display_name": "Python 3",
   "language": "python",
   "name": "python3"
  },
  "language_info": {
   "codemirror_mode": {
    "name": "ipython",
    "version": 3
   },
   "file_extension": ".py",
   "mimetype": "text/x-python",
   "name": "python",
   "nbconvert_exporter": "python",
   "pygments_lexer": "ipython3",
   "version": "3.8.5"
  }
 },
 "nbformat": 4,
 "nbformat_minor": 4
}
