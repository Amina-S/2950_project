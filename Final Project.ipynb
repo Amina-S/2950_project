{
 "cells": [
  {
   "cell_type": "markdown",
   "metadata": {},
   "source": [
    "# Student Opinions on Courses in Relation with Piazza Engagement\n",
    "## INFO 2950 Final Project\n",
    "#### Amina Shikhalieva, Gauri Pidatala"
   ]
  },
  {
   "cell_type": "markdown",
   "metadata": {},
   "source": [
    "## Introduction\n",
    "\n",
    "The purpose of this report is to utilize data publicly available on [piazza.com](https://piazza.com/) and [ratemyprofessors.com](https://www.ratemyprofessors.com/) to answer the question: \"What makes a class good?\". We use ratings for instructors as a general indicator of how positive or negative the average student's experience was with the instructor for a particular course for a particular semester, and look for patterns between good ratings and other observations in our data. Variables like class size (reflected by the Piazza enrollment), average percentage of the class engaging on Piazza, course level, and average instructor response time on Piazza are all analyzed. \n",
    "Maximizing learning and improving the student experience in a class should always be a prioritiy of instructors. If this investigation shows that behaviors like encouraging student engagement on piazza.com, responding to piazza questions in a timely manner, and limiting class sizes significantly correlates with higher student ratings of a class, this information can be used to improve student satisfaction and learning for a large range of courses both at Cornell and elsewhere. Especially now in the shift to online learning, resources such as piazza.com are becoming one of the only ways some students have of getting help in and engaging in a course, so it is only more important now to understand the its impact in learning. Unfortunately, we were not able to reach any statistically significant results that would affirm our hypotheses that there are correlations in the above mentioned investigations. We elaborate on these findings and suggest possible continuations to this study below."
   ]
  },
  {
   "cell_type": "markdown",
   "metadata": {},
   "source": [
    "## Data Description\n",
    "\n",
    "\n",
    "#### Dataset description\n",
    "- all_data:\n",
    "    - observances: each row represents one review on [ratemyprofessors.com](https://www.ratemyprofessors.com/)\n",
    "    - attributes:\n",
    "        - instructor: string, full name of the instructor who the review is about\n",
    "        - quality: int, 1-5, rating quality of the instructor\n",
    "        - difficulty: int, 1-5, rating difficulty of instructor's teaching style\n",
    "        - take_again: string, whether or not the reviewer would retake the course given their experience in it\t\n",
    "        - timestamp: string, date of when review was posted\n",
    "        - course_number: int, number portion of course name\n",
    "        - department: string, abbreviation of course department, from course name\n",
    "        - course_name: string, full course name (department + number)\n",
    "        - avg_quality: float, average quality rating of instructor who the review is about\n",
    "        - avg_difficulty: float, average difficulty rating of instructor who the review is about\t\n",
    "        - questions: int, total questions asked on piazza for the course taught by the instructor for the course and instructor the review is about\n",
    "        - %response: float, percentage of piazza questions that got a response for the course taught by the instructor for the course and instructor the review is about\n",
    "        - contributions: int, total number of piazza contributions for the course taught by the instructor for the course and instructor the review is about\n",
    "        - avg_response_time: int, number of minutes the average piazza question had been waiting for an answer for the course taught by the instructor for the course and instructor the review is about\t\n",
    "        - enrolled: int, total number of students signed into the piazza for the course taught by the instructor for the course and instructor the review is about\n",
    "        - %instructor_response: float, percentage of piazza questions answered by instructors for the course taught by the instructor for the course and instructor the review is about\n",
    "        - %active: float, percentage of students enrolled who contributed on piazza at least once, for the course taught by the instructor for the course and instructor the review is about\n",
    "        - semester: string, the semester a piazza course was taken (not necessarily the same semester as the review for the course)\n",
    "      \n",
    "\n",
    "#### Data acquisition\n",
    "*see [web scraping code appendix](Appendix2.ipynb)*\n",
    "##### **piazza.com** \n",
    "* See [piazza_data_collect.ipynb](piazza_data_collect.ipynb) \n",
    "* Every course on Piazza has a stats report accessible to anyone enrolled in the class (under the statistics tab). A few courses do not have this report because there was not enough piazza activity. \n",
    "* We compiled a list of courses (with no duplicates) from various departments taught in various semesters that used piazza.com as an interactive platform. For each of these courses, we recorded the URL for its stats page in the file \"piazza_stats.txt\". Here we also manually added the semester corresponding to each stats report. We then iterated through each of the URLs in the file and recorded in \"piazza .csv\" various attributes for each course\n",
    "* As of now, some of our piazza stats course names are irregular. Because there is only a small number of these irregularities and they don't follow any particular pattern, we chose to manually fix each one\n",
    "* We also need to get rid of the '%' following the values in columns \"% response\" and \"instructor_response\"\n",
    "* We also want to be able to group our courses by departments\n",
    "\n",
    "##### **ratemyprofessors.com** \n",
    "* See [data_collect.ipynb](data_collect.ipynb)\n",
    "* We manually associate each course element of our piazza.csv database with the name of the instructor who taught it that semester. We then manually aqcuire the URLs of the associated ratemyprofessors.com page of each of these instructor and record them in the file \"Rate_my_prof.txt\". We then iterate through each URL in this file and scrape the necessary attributes for each review for the course we are looking for.\n",
    "* Because a review page for a instructor includes many \n",
    "* Some ratemyprofessors.com reviews are void because when they were scraped the ads on the page corrupted some of the observations\n",
    "    - So we need to remove these observations. Every review is guaranteed to have a quality rating\n",
    "    - Because the course names are listed as a single string, we need to split the department name and course number and delete reviews with typos in the course name\n",
    "    - We also need to convert columns that hold number values from string to int (eg, Difficulty)\n",
    "    \n",
    " \n",
    "\n",
    "#### Preprocessing and cleaning\n",
    "See [Data collection and cleaning appendix](Appendix.ipynb)\n",
    "* Piazza data:\n",
    "    * Some of our course names had irregularities when we scraped directly from the stats pages(eg, having the semester included in the name). Because we had relatively few of these cases in our ~50 courses, we manually adjusted these names to be of the form DEPT####.\n",
    "    * We went through the columns that were supposed to hold numerical values and converted them from strings to ints or floats, as appropriate, and removed preceding \"%\" signs as needed\n",
    "    * Because we were interested in data such as the course level and department, we created two more columns by splitting the course name into its numerical and departmental values, eg) \"CS3110\" -> \"CS\", 3110\n",
    "    \n",
    "* Ratemyprofessors data:\n",
    "    * Some entries had only the instructor name and null values for all fields. This was caused by ads on the page being picked up by our scraping code. So we deleted all entries that did not have the \"quality\" field because every review was required to have a value for the quality rating.\n",
    "    * Many reviews had typos in the course names (eg, \"CS111\" instead of \"CS1110\"). Also, there were some courses whos instructor had very few reviews. We resolved both of these issues at once my only including a review if at least 4 other reviews had the same course name. So, reviews for courses with 4 or fewer reviews were not included (to get a larger data sample and more accurate analysis) and reviews with misspelled course names were not included to minimize ambiguity (because there were far too many reviews to manually correct typos for).\n",
    "    * We went through the columns that were supposed to hold numerical values and converted them from strings to ints or floats, as appropriate\n",
    "    \n",
    " * Merging into all_data:\n",
    "     * To easily cross analyze our two sets of data, we did an inner merge of our ratings and piazza data on both the name of the instructor and the name of the course taught. We then did a little column renaming and dropping to tidy up redundencies and inconsistencies. \n",
    "\n",
    "#### Raw data\n",
    "\n",
    "* Manually entered: \n",
    "    - [piazza_links.txt](piazza_links.txt)\n",
    "    - [Rate_my_prof.txt](Rate_my_prof.txt)\n",
    "* Automatically compiled / scraped using above input:\n",
    "    - [piazza_data.csv](piazza_data.csv)\n",
    "    - [rmp.csv](rmp.csv)\n",
    "* Final dataset used in analysis:\n",
    "    - [all_data](all_data.csv)\n",
    "\n",
    "#### Potential drawbacks and limitations\n",
    "* While we did manage to get data corresponding to a wide variety of courses, including Econ, CS, and Physics, we did not have many of each kind of course. Particularly, we do not have enough to be able to look at potential trends across departments like we had hoped.\n",
    "* A couple classes had two instructors. Because we did not know how to logically deal with this, we chose the instructor who taught the most lectures, determined by asking the students who took such classes. \n",
    "\n"
   ]
  },
  {
   "cell_type": "markdown",
   "metadata": {},
   "source": [
    "## Preregistration Statement\n",
    "\n",
    "#### Analyses:\n",
    "\n",
    "- **(1)** Use multi-variable linear regression to try to predict the rating of the instructor teaching the course (with training values gathered from ratemyprofessors.com)\n",
    "    - Predicting variables:\n",
    "        - class size (approximated by Piazza enrollment)\n",
    "        - department (use dummy values for each group)\n",
    "        - Piazza activity (as a percent)\n",
    "    - The results will help us understand if there is a strong linear relationship between the combination of these three variables with the ratings of students' experiences with the instructor teaching the class, which we will interpret as strongly correlated with the quality of the students' experience in the class \n",
    "    \n",
    "- **(2)** Use k-means clustering to plot class size by instructor rating, color coded by clusters\n",
    "    - Clusters: departments\n",
    "    - This may show us if certain departments correspond with larger class sizes or higher ratings\n",
    "    - The results may be useful if there is in fact such a relationship, so if we see some deparments consistently have lower ratings than others, then leaders at the heads of those departments could see if a change in class sizes or Piazza engagement may help students have a better learning experience in their department.\n",
    "    \n",
    "- **(3)** Use linear regression and correlation coefficient to determine if there is a correlation between the variables class size and piazza activity for a course.\n",
    "    - A strong correlation here may suggest that students feel more confident asking questions in smaller classes than bigger classes and vice versa. \n",
    "    \n",
    "- **(4)** Use linear regression and correlation coefficient to determine if there is a correlation between the variables instructor response time and piazza activity for a course.\n",
    "    - This may help us determine whether classes with higher instructer involvement result in higher student involvement for a course.\n"
   ]
  },
  {
   "cell_type": "markdown",
   "metadata": {},
   "source": [
    "## Data Analysis"
   ]
  },
  {
   "cell_type": "code",
   "execution_count": 31,
   "metadata": {},
   "outputs": [],
   "source": [
    "import numpy as np\n",
    "import pandas as pd\n",
    "from matplotlib import pyplot as plt\n",
    "from mpl_toolkits.mplot3d import Axes3D\n",
    "from sklearn.linear_model import LinearRegression\n",
    "from scipy import stats\n",
    "import seaborn as sns\n",
    "import plotly.express as px\n",
    "from sklearn.cluster import KMeans\n",
    "import sklearn.model_selection\n",
    "\n",
    "\n",
    "all_data = pd.read_csv('all_data.csv')"
   ]
  },
  {
   "cell_type": "markdown",
   "metadata": {},
   "source": [
    "#### **(1)** Use multi-variable linear regression to try to predict the rating of the professor teaching the course (with training values gathered from ratemyprofessors.com)\n",
    "    - Predicting variables:\n",
    "        - class size (approximated by Piazza enrollment)\n",
    "        - department (use dummy values for each group)       \n",
    "        - Piazza activity (as a percent)\n"
   ]
  },
  {
   "cell_type": "code",
   "execution_count": 19,
   "metadata": {},
   "outputs": [
    {
     "name": "stdout",
     "output_type": "stream",
     "text": [
      "r2 value: 0.2\n",
      "enrolled coefficient: 0.00\n",
      "%active coefficient: 0.01\n",
      "%response coefficient: -0.04\n"
     ]
    },
    {
     "data": {
      "text/plain": [
       "array([[ 0.00159514,  0.00824933, -0.03797179]])"
      ]
     },
     "execution_count": 19,
     "metadata": {},
     "output_type": "execute_result"
    }
   ],
   "source": [
    "l = LinearRegression()\n",
    "\n",
    "x = all_data[['enrolled',  '%active', '%response']]\n",
    "y = all_data[['avg_quality']]\n",
    "model = l.fit(x, y)\n",
    "predict = model.predict(all_data[['enrolled',  '%active', '%response']])\n",
    "r2 = model.score(x, y)\n",
    "\n",
    "print('r2 value: ' + str(round(r2, 2)))\n",
    "print('enrolled coefficient: {:.2f}'.format(model.coef_[0][0]))\n",
    "print('%active coefficient: {:.2f}'.format(model.coef_[0][1]))\n",
    "print('%response coefficient: {:.2f}'.format(model.coef_[0][2]))\n",
    "model.coef_"
   ]
  },
  {
   "cell_type": "code",
   "execution_count": 20,
   "metadata": {},
   "outputs": [
    {
     "data": {
      "image/png": "[encoded data removed]",
      "text/plain": [
       "<Figure size 432x288 with 1 Axes>"
      ]
     },
     "metadata": {
      "needs_background": "light"
     },
     "output_type": "display_data"
    }
   ],
   "source": [
    "fig = plt.figure()\n",
    "x1 = x.iloc[:,0]\n",
    "x2 = x.iloc[:,1]\n",
    "x3 = x.iloc[:,2]\n",
    "ax = fig.add_subplot(111, projection='3d')\n",
    "ax.set_xlabel('Enrolled', fontsize=14)\n",
    "ax.set_ylabel('%active', fontsize=14)\n",
    "ax.set_zlabel('%response', fontsize=14)\n",
    "ax.scatter3D(x1, x2, x3, c=predict, cmap='viridis');"
   ]
  },
  {
   "cell_type": "code",
   "execution_count": 21,
   "metadata": {},
   "outputs": [
    {
     "data": {
      "image/png": "[encoded data removed]",
      "text/plain": [
       "<Figure size 432x288 with 1 Axes>"
      ]
     },
     "metadata": {
      "needs_background": "light"
     },
     "output_type": "display_data"
    }
   ],
   "source": [
    "fig, ax = plt.subplots()\n",
    "#print(predict)\n",
    "y = all_data.avg_quality\n",
    "ax.scatter(y, predict)\n",
    "ax.plot([y.min(), y.max()], [y.min(), y.max()], 'k--', lw=2)\n",
    "ax.set_xlabel('Measured')\n",
    "ax.set_ylabel('Predicted')\n",
    "plt.show()"
   ]
  },
  {
   "cell_type": "markdown",
   "metadata": {},
   "source": [
    "- **Analysis**:  Here, we have tried to use multivariate regresssion to check if we can predict the rating of the instructor using independent variables like the enrollment size of courses, %active, and %response. Upon analysis, we got a r-squared value of 0.2, signifying that there is no linear relationship between these factors. The 3-d scatter plot and the (linear regression line-scatter plot) demostrates this result.  "
   ]
  },
  {
   "cell_type": "markdown",
   "metadata": {},
   "source": [
    "\n",
    "  * We can also try the multivariable regression again with difficulty ratings. Since we saw that quality and difficulty ratings had very little correlation, we'd like to verify that these factors have no real correlation with difficulty ratings either:"
   ]
  },
  {
   "cell_type": "code",
   "execution_count": 22,
   "metadata": {},
   "outputs": [
    {
     "name": "stdout",
     "output_type": "stream",
     "text": [
      "r2 value: 0.04\n",
      "enrolled coefficient: 0.00\n",
      "%active coefficient: 0.01\n",
      "%response coefficient: -0.08\n"
     ]
    }
   ],
   "source": [
    "x = all_data[['enrolled', '%active', '%response']]\n",
    "y = all_data[['difficulty']]\n",
    "model = l.fit(x,y )\n",
    "predict = model.predict(x)\n",
    "r2 = model.score(x, y)\n",
    "\n",
    "print('r2 value: ' + str(round(r2, 2)))\n",
    "print('enrolled coefficient: {:.2f}'.format(model.coef_[0][0]))\n",
    "print('%active coefficient: {:.2f}'.format(model.coef_[0][1]))\n",
    "print('%response coefficient: {:.2f}'.format(model.coef_[0][2]))"
   ]
  },
  {
   "cell_type": "code",
   "execution_count": 23,
   "metadata": {},
   "outputs": [
    {
     "data": {
      "image/png": "[encoded data removed]",
      "text/plain": [
       "<Figure size 432x288 with 1 Axes>"
      ]
     },
     "metadata": {
      "needs_background": "light"
     },
     "output_type": "display_data"
    }
   ],
   "source": [
    "fig = plt.figure()\n",
    "x1 = x.iloc[:,0]\n",
    "x2 = x.iloc[:,1]\n",
    "x3 = x.iloc[:,2]\n",
    "ax = fig.add_subplot(111, projection='3d')\n",
    "ax.set_xlabel('Enrolled', fontsize=14)\n",
    "ax.set_ylabel('%active', fontsize=14)\n",
    "ax.set_zlabel('%response', fontsize=14)\n",
    "ax.scatter3D(x1, x2, x3, c=predict, cmap='viridis');"
   ]
  },
  {
   "cell_type": "code",
   "execution_count": 24,
   "metadata": {},
   "outputs": [
    {
     "data": {
      "image/png": "[encoded data removed]",
      "text/plain": [
       "<Figure size 432x288 with 1 Axes>"
      ]
     },
     "metadata": {
      "needs_background": "light"
     },
     "output_type": "display_data"
    }
   ],
   "source": [
    "fig, ax = plt.subplots()\n",
    "#print(predict)\n",
    "y = all_data.difficulty\n",
    "ax.scatter(y, predict)\n",
    "ax.plot([y.min(), y.max()], [y.min(), y.max()], 'k--', lw=2)\n",
    "ax.set_xlabel('Measured')\n",
    "ax.set_ylabel('Predicted')\n",
    "plt.show()"
   ]
  },
  {
   "cell_type": "markdown",
   "metadata": {},
   "source": [
    "- **Analysis**:  Here, we have tried to use multivariate regresssion to check if we can predict the difficulty rating of the instructor using independent variables like the enrollment size of courses, %active, and %response. Upon analysis, we got a r-squared value of 0.04, signifying that there is no linear relationship between these factors. The 3-d scatter plot and the (linear-regression line - scatter plot) demostrates this result."
   ]
  },
  {
   "cell_type": "markdown",
   "metadata": {},
   "source": [
    "#### **(2)** Use k-means clustering to plot class size by instructor rating, color coded by clusters\n",
    "    - Clusters: departments"
   ]
  },
  {
   "cell_type": "code",
   "execution_count": 7,
   "metadata": {},
   "outputs": [
    {
     "name": "stdout",
     "output_type": "stream",
     "text": [
      "[[ 3.37731603 75.97590361]\n",
      " [ 3.94122383 90.51785714]\n",
      " [ 4.1        46.6       ]\n",
      " [ 3.64156627 84.73493976]\n",
      " [ 4.22826087 97.25675676]\n",
      " [ 3.20493827 67.66666667]]\n"
     ]
    }
   ],
   "source": [
    "clustering= KMeans(n_clusters = 6, random_state = 15)\n",
    "clustering.fit(all_data[['avg_quality','%instructor_response']])\n",
    "print(clustering.cluster_centers_)"
   ]
  },
  {
   "cell_type": "code",
   "execution_count": 8,
   "metadata": {},
   "outputs": [
    {
     "name": "stdout",
     "output_type": "stream",
     "text": [
      "[4 4 4 4 4]\n"
     ]
    },
    {
     "data": {
      "text/html": [
       "<div>\n",
       "<style scoped>\n",
       "    .dataframe tbody tr th:only-of-type {\n",
       "        vertical-align: middle;\n",
       "    }\n",
       "\n",
       "    .dataframe tbody tr th {\n",
       "        vertical-align: top;\n",
       "    }\n",
       "\n",
       "    .dataframe thead th {\n",
       "        text-align: right;\n",
       "    }\n",
       "</style>\n",
       "<table border=\"1\" class=\"dataframe\">\n",
       "  <thead>\n",
       "    <tr style=\"text-align: right;\">\n",
       "      <th></th>\n",
       "      <th>Unnamed: 0</th>\n",
       "      <th>instructor</th>\n",
       "      <th>quality</th>\n",
       "      <th>difficulty</th>\n",
       "      <th>take_again</th>\n",
       "      <th>timestamp</th>\n",
       "      <th>course_number</th>\n",
       "      <th>department</th>\n",
       "      <th>course_name</th>\n",
       "      <th>avg_quality</th>\n",
       "      <th>avg_difficulty</th>\n",
       "      <th>questions</th>\n",
       "      <th>%response</th>\n",
       "      <th>contributions</th>\n",
       "      <th>avg_response_time</th>\n",
       "      <th>enrolled</th>\n",
       "      <th>%instructor_response</th>\n",
       "      <th>%active</th>\n",
       "      <th>semester</th>\n",
       "      <th>cluster_label</th>\n",
       "    </tr>\n",
       "  </thead>\n",
       "  <tbody>\n",
       "    <tr>\n",
       "      <th>0</th>\n",
       "      <td>0</td>\n",
       "      <td>Haym Hirsh</td>\n",
       "      <td>4</td>\n",
       "      <td>3</td>\n",
       "      <td>Yes</td>\n",
       "      <td>Dec 11th, 2020</td>\n",
       "      <td>4700</td>\n",
       "      <td>CS</td>\n",
       "      <td>CS 4700</td>\n",
       "      <td>3.181818</td>\n",
       "      <td>2.545455</td>\n",
       "      <td>409</td>\n",
       "      <td>99</td>\n",
       "      <td>1875</td>\n",
       "      <td>22</td>\n",
       "      <td>238</td>\n",
       "      <td>96</td>\n",
       "      <td>55</td>\n",
       "      <td>SP20</td>\n",
       "      <td>4</td>\n",
       "    </tr>\n",
       "    <tr>\n",
       "      <th>1</th>\n",
       "      <td>1</td>\n",
       "      <td>Haym Hirsh</td>\n",
       "      <td>4</td>\n",
       "      <td>3</td>\n",
       "      <td>Yes</td>\n",
       "      <td>May 11th, 2020</td>\n",
       "      <td>4700</td>\n",
       "      <td>CS</td>\n",
       "      <td>CS 4700</td>\n",
       "      <td>3.181818</td>\n",
       "      <td>2.545455</td>\n",
       "      <td>409</td>\n",
       "      <td>99</td>\n",
       "      <td>1875</td>\n",
       "      <td>22</td>\n",
       "      <td>238</td>\n",
       "      <td>96</td>\n",
       "      <td>55</td>\n",
       "      <td>SP20</td>\n",
       "      <td>4</td>\n",
       "    </tr>\n",
       "    <tr>\n",
       "      <th>2</th>\n",
       "      <td>2</td>\n",
       "      <td>Haym Hirsh</td>\n",
       "      <td>4</td>\n",
       "      <td>3</td>\n",
       "      <td>Yes</td>\n",
       "      <td>Apr 9th, 2020</td>\n",
       "      <td>4700</td>\n",
       "      <td>CS</td>\n",
       "      <td>CS 4700</td>\n",
       "      <td>3.181818</td>\n",
       "      <td>2.545455</td>\n",
       "      <td>409</td>\n",
       "      <td>99</td>\n",
       "      <td>1875</td>\n",
       "      <td>22</td>\n",
       "      <td>238</td>\n",
       "      <td>96</td>\n",
       "      <td>55</td>\n",
       "      <td>SP20</td>\n",
       "      <td>4</td>\n",
       "    </tr>\n",
       "    <tr>\n",
       "      <th>3</th>\n",
       "      <td>3</td>\n",
       "      <td>Haym Hirsh</td>\n",
       "      <td>1</td>\n",
       "      <td>2</td>\n",
       "      <td>No</td>\n",
       "      <td>Dec 14th, 2019</td>\n",
       "      <td>4700</td>\n",
       "      <td>CS</td>\n",
       "      <td>CS 4700</td>\n",
       "      <td>3.181818</td>\n",
       "      <td>2.545455</td>\n",
       "      <td>409</td>\n",
       "      <td>99</td>\n",
       "      <td>1875</td>\n",
       "      <td>22</td>\n",
       "      <td>238</td>\n",
       "      <td>96</td>\n",
       "      <td>55</td>\n",
       "      <td>SP20</td>\n",
       "      <td>4</td>\n",
       "    </tr>\n",
       "    <tr>\n",
       "      <th>4</th>\n",
       "      <td>4</td>\n",
       "      <td>Haym Hirsh</td>\n",
       "      <td>1</td>\n",
       "      <td>4</td>\n",
       "      <td>No</td>\n",
       "      <td>Nov 12th, 2019</td>\n",
       "      <td>4700</td>\n",
       "      <td>CS</td>\n",
       "      <td>CS 4700</td>\n",
       "      <td>3.181818</td>\n",
       "      <td>2.545455</td>\n",
       "      <td>409</td>\n",
       "      <td>99</td>\n",
       "      <td>1875</td>\n",
       "      <td>22</td>\n",
       "      <td>238</td>\n",
       "      <td>96</td>\n",
       "      <td>55</td>\n",
       "      <td>SP20</td>\n",
       "      <td>4</td>\n",
       "    </tr>\n",
       "  </tbody>\n",
       "</table>\n",
       "</div>"
      ],
      "text/plain": [
       "   Unnamed: 0   instructor  quality  difficulty take_again       timestamp  \\\n",
       "0           0  Haym Hirsh         4           3        Yes  Dec 11th, 2020   \n",
       "1           1  Haym Hirsh         4           3        Yes  May 11th, 2020   \n",
       "2           2  Haym Hirsh         4           3        Yes   Apr 9th, 2020   \n",
       "3           3  Haym Hirsh         1           2         No  Dec 14th, 2019   \n",
       "4           4  Haym Hirsh         1           4         No  Nov 12th, 2019   \n",
       "\n",
       "   course_number department course_name  avg_quality  avg_difficulty  \\\n",
       "0           4700         CS     CS 4700     3.181818        2.545455   \n",
       "1           4700         CS     CS 4700     3.181818        2.545455   \n",
       "2           4700         CS     CS 4700     3.181818        2.545455   \n",
       "3           4700         CS     CS 4700     3.181818        2.545455   \n",
       "4           4700         CS     CS 4700     3.181818        2.545455   \n",
       "\n",
       "   questions  %response  contributions  avg_response_time  enrolled  \\\n",
       "0        409         99           1875                 22       238   \n",
       "1        409         99           1875                 22       238   \n",
       "2        409         99           1875                 22       238   \n",
       "3        409         99           1875                 22       238   \n",
       "4        409         99           1875                 22       238   \n",
       "\n",
       "   %instructor_response  %active semester  cluster_label  \n",
       "0                    96       55     SP20              4  \n",
       "1                    96       55     SP20              4  \n",
       "2                    96       55     SP20              4  \n",
       "3                    96       55     SP20              4  \n",
       "4                    96       55     SP20              4  "
      ]
     },
     "execution_count": 8,
     "metadata": {},
     "output_type": "execute_result"
    }
   ],
   "source": [
    "cluster_labels = clustering.labels_\n",
    "print(cluster_labels[0:5])\n",
    "all_data[\"cluster_label\"] = cluster_labels\n",
    "all_data.head()\n",
    "\n"
   ]
  },
  {
   "cell_type": "code",
   "execution_count": 9,
   "metadata": {},
   "outputs": [
    {
     "data": {
      "image/png": "[encoded data removed]",
      "text/plain": [
       "<Figure size 439.375x360 with 1 Axes>"
      ]
     },
     "metadata": {
      "needs_background": "light"
     },
     "output_type": "display_data"
    }
   ],
   "source": [
    "sns.relplot(x='avg_quality',y='%instructor_response',hue='department', style='cluster_label', s = 50, alpha = 0.6,\n",
    "            data=all_data)\n",
    "plt.show()"
   ]
  },
  {
   "cell_type": "markdown",
   "metadata": {},
   "source": [
    "**Analysis**: Here, we have tried to observe if there are any clusters formed according to departments when we train our model on variables like %instructor response and avg_quality. We trained our data on 6 clusters because we have 6 unique department valaues. We also color coded all our points according to the departments. As we can see in the scatter plot, the clusters don't represent the departments, showing that there is no correlation between these variables\n",
    "\n",
    "\n"
   ]
  },
  {
   "cell_type": "markdown",
   "metadata": {},
   "source": [
    "#### **(3)** Use linear regression and correlation coefficient to determine if there is a correlation between the variables class size and piazza activity for a course."
   ]
  },
  {
   "cell_type": "code",
   "execution_count": 25,
   "metadata": {},
   "outputs": [
    {
     "name": "stdout",
     "output_type": "stream",
     "text": [
      "Lin reg slope: -0.01\n",
      "r^2 0.029669164221485356\n"
     ]
    },
    {
     "data": {
      "image/png": "[encoded data removed]",
      "text/plain": [
       "<Figure size 432x288 with 1 Axes>"
      ]
     },
     "metadata": {
      "needs_background": "light"
     },
     "output_type": "display_data"
    }
   ],
   "source": [
    "plt.scatter(all_data['enrolled'], all_data['%active'])\n",
    "plt.xlabel('Avg. Response Time (minutes)')\n",
    "plt.ylabel('% of Enrolled students active')\n",
    "\n",
    "l = LinearRegression()\n",
    "model = l.fit(np.array(all_data[['enrolled']]).reshape(-1,1), all_data[['%active']])\n",
    "predictions = model.predict(all_data[['enrolled']])\n",
    "r = model.score(all_data[['enrolled']],all_data['%active'])\n",
    "print(\"Lin reg slope: {:.2f}\".format(l.coef_[0][0]))\n",
    "print('r^2', r)"
   ]
  },
  {
   "cell_type": "markdown",
   "metadata": {},
   "source": [
    "- **Analysis**: \n"
   ]
  },
  {
   "cell_type": "markdown",
   "metadata": {},
   "source": [
    "#### **(4)** Use linear regression and correlation coefficient to determine if there is a correlation between the variables instructor response time and piazza activity for a course."
   ]
  },
  {
   "cell_type": "code",
   "execution_count": 11,
   "metadata": {},
   "outputs": [
    {
     "name": "stdout",
     "output_type": "stream",
     "text": [
      "Lin reg slope: -0.35\n",
      "r^2 0.1779932410278242\n"
     ]
    },
    {
     "data": {
      "image/png": "[encoded data removed]",
      "text/plain": [
       "<Figure size 432x288 with 1 Axes>"
      ]
     },
     "metadata": {
      "needs_background": "light"
     },
     "output_type": "display_data"
    }
   ],
   "source": [
    "#plot\n",
    "plt.scatter(all_data['avg_response_time'], all_data['%active'])\n",
    "plt.xlabel('Avg. Response Time (minutes)')\n",
    "plt.ylabel('% of Enrolled students active')\n",
    "\n",
    "#model\n",
    "l = LinearRegression()\n",
    "model = l.fit(np.array(all_data[['avg_response_time']]).reshape(-1,1), all_data[['%active']])\n",
    "predictions = model.predict(all_data[['avg_response_time']])\n",
    "r = model.score(all_data[['avg_response_time']],all_data['%active'])\n",
    "print(\"Lin reg slope: {:.2f}\".format(l.coef_[0][0]))\n",
    "print('r^2', r)"
   ]
  },
  {
   "cell_type": "markdown",
   "metadata": {},
   "source": [
    "    - We can see by the plot that there is an outlier where the average response time is over 80 minutes, let's see if removing it gives us a better idea of the trend in the data."
   ]
  },
  {
   "cell_type": "code",
   "execution_count": 12,
   "metadata": {},
   "outputs": [
    {
     "name": "stdout",
     "output_type": "stream",
     "text": [
      "Lin reg slope: -0.44\n",
      "r^2 0.2148244336877424\n"
     ]
    },
    {
     "data": {
      "image/png": "[encoded data removed]",
      "text/plain": [
       "<Figure size 432x288 with 1 Axes>"
      ]
     },
     "metadata": {
      "needs_background": "light"
     },
     "output_type": "display_data"
    }
   ],
   "source": [
    "#new copy of all_data with outlier removed\n",
    "all_data_copy = all_data.copy()\n",
    "all_data_copy = all_data_copy[all_data_copy.avg_response_time < 80]\n",
    "\n",
    "#previous code the same, with new version of all_data\n",
    "plt.scatter(all_data_copy['avg_response_time'], all_data_copy['%active'])\n",
    "plt.xlabel('Avg. Response Time (minutes)')\n",
    "plt.ylabel('% of Enrolled students active')\n",
    "\n",
    "l = LinearRegression()\n",
    "model = l.fit(np.array(all_data_copy[['avg_response_time']]).reshape(-1,1), all_data_copy[['%active']])\n",
    "predictions = model.predict(all_data_copy[['avg_response_time']])\n",
    "r = model.score(all_data_copy[['avg_response_time']],all_data_copy['%active'])\n",
    "print(\"Lin reg slope: {:.2f}\".format(l.coef_[0][0]))\n",
    "print('r^2', r)"
   ]
  },
  {
   "cell_type": "markdown",
   "metadata": {},
   "source": [
    "- Visually, there is a very weak negative correlation between relative piazza engagement and average response time of instructors. Our low linear correlation coefficient supports this, showing that there is a weak linear trend. The slope indicates that for every minute of increase in average instructor response time, the percentage of students contributing on piazza is expected to decrease by .44%"
   ]
  },
  {
   "cell_type": "code",
   "execution_count": 12,
   "metadata": {},
   "outputs": [
    {
     "name": "stdout",
     "output_type": "stream",
     "text": [
      "Lin reg slope: 0.01\n",
      "r^2 0.03941082268953178\n"
     ]
    },
    {
     "data": {
      "image/png": "[encoded data removed]",
      "text/plain": [
       "<Figure size 432x288 with 1 Axes>"
      ]
     },
     "metadata": {
      "needs_background": "light"
     },
     "output_type": "display_data"
    }
   ],
   "source": [
    "#extra analysis\n",
    "#plot\n",
    "plt.scatter(all_data['avg_response_time'], all_data['avg_difficulty'])\n",
    "plt.xlabel('Avg. Response Time (minutes)')\n",
    "plt.ylabel('Avg. Difficulty')\n",
    "\n",
    "#model\n",
    "l = LinearRegression()\n",
    "model = l.fit(np.array(all_data[['avg_response_time']]).reshape(-1,1), all_data[['avg_difficulty']])\n",
    "predictions = model.predict(all_data[['avg_response_time']])\n",
    "r = model.score(all_data[['avg_response_time']],all_data['avg_difficulty'])\n",
    "print(\"Lin reg slope: {:.2f}\".format(l.coef_[0][0]))\n",
    "print('r^2', r)"
   ]
  },
  {
   "cell_type": "markdown",
   "metadata": {},
   "source": [
    "- Visually, there is no discernable correlation between relative piazza engagement and difficulty ratings of instructors. Our low linear correlation coefficient supports this, showing that there is a negligible positive trend. The slope indicates that for every minute of increase in average instructor response time, the expected difficulty rating for a review of that instructor increases by around 0.01 ."
   ]
  },
  {
   "cell_type": "markdown",
   "metadata": {},
   "source": [
    "### Extra Analysis"
   ]
  },
  {
   "cell_type": "code",
   "execution_count": 28,
   "metadata": {},
   "outputs": [
    {
     "data": {
      "image/png": "[encoded data removed]",
      "text/plain": [
       "<Figure size 432x288 with 1 Axes>"
      ]
     },
     "metadata": {
      "needs_background": "light"
     },
     "output_type": "display_data"
    }
   ],
   "source": [
    "\n",
    "plt.hist(all_data.department)\n",
    "plt.title('Number of reviews per department')\n",
    "plt.xlabel(\"department\")\n",
    "plt.ylabel(\"# reviews\")\n",
    "plt.show()"
   ]
  },
  {
   "cell_type": "markdown",
   "metadata": {},
   "source": [
    "- **Analysis**: This histogram shows the number of reviews we had for each department. We have much more data for CS classes, than for all the other departments"
   ]
  },
  {
   "cell_type": "code",
   "execution_count": 30,
   "metadata": {},
   "outputs": [
    {
     "data": {
      "application/vnd.plotly.v1+json": {
       "config": {
        "plotlyServerURL": "https://plot.ly"
       },
       "data": [
        {
         "hovertemplate": "department= CS<br>enrolled=%{x}<br>%active=%{y}<br>quality=%{z}<extra></extra>",
         "legendgroup": " CS",
         "marker": {
          "color": "#636efa",
          "symbol": "circle"
         },
         "mode": "markers",
         "name": " CS",
         "scene": "scene",
         "showlegend": true,
         "type": "scatter3d",
         "x": [
          238,
          238,
          238,
          238,
          238,
          238,
          238,
          238,
          238,
          238,
          238,
          716,
          716,
          569,
          716,
          716,
          569,
          716,
          716,
          569,
          716,
          716,
          569,
          716,
          716,
          569,
          716,
          716,
          569,
          716,
          716,
          569,
          716,
          716,
          569,
          716,
          716,
          569,
          716,
          716,
          569,
          716,
          716,
          569,
          716,
          716,
          569,
          716,
          716,
          569,
          716,
          716,
          569,
          716,
          716,
          569,
          716,
          716,
          569,
          716,
          716,
          569,
          716,
          716,
          569,
          716,
          716,
          569,
          721,
          590,
          667,
          662,
          721,
          590,
          667,
          662,
          721,
          590,
          667,
          662,
          721,
          590,
          667,
          662,
          721,
          590,
          667,
          662,
          721,
          590,
          667,
          662,
          721,
          590,
          667,
          662,
          721,
          590,
          667,
          662,
          721,
          590,
          667,
          662,
          721,
          590,
          667,
          662,
          721,
          590,
          667,
          662,
          721,
          590,
          667,
          662,
          721,
          590,
          667,
          662,
          721,
          590,
          667,
          662,
          721,
          590,
          667,
          662,
          721,
          590,
          667,
          662,
          721,
          590,
          667,
          662,
          721,
          590,
          667,
          662,
          721,
          590,
          667,
          662,
          721,
          590,
          667,
          662,
          197,
          197,
          197,
          197,
          197,
          197,
          197,
          197,
          197,
          419,
          396,
          424,
          417,
          419,
          396,
          424,
          417,
          419,
          396,
          424,
          417,
          419,
          396,
          424,
          417,
          419,
          396,
          424,
          417,
          419,
          396,
          424,
          417,
          419,
          396,
          424,
          417,
          419,
          396,
          424,
          417,
          419,
          396,
          424,
          417,
          419,
          396,
          424,
          417,
          419,
          396,
          424,
          417,
          419,
          396,
          424,
          417,
          419,
          396,
          424,
          417,
          419,
          396,
          424,
          417,
          419,
          396,
          424,
          417,
          419,
          396,
          424,
          417,
          419,
          396,
          424,
          417,
          419,
          396,
          424,
          417,
          419,
          396,
          424,
          417,
          405,
          405,
          405,
          405,
          90,
          90,
          90,
          90,
          90,
          90,
          90,
          205,
          205,
          205,
          205,
          205,
          205,
          205,
          205,
          205,
          205
         ],
         "y": [
          55,
          55,
          55,
          55,
          55,
          55,
          55,
          55,
          55,
          55,
          55,
          69,
          69,
          73,
          69,
          69,
          73,
          69,
          69,
          73,
          69,
          69,
          73,
          69,
          69,
          73,
          69,
          69,
          73,
          69,
          69,
          73,
          69,
          69,
          73,
          69,
          69,
          73,
          69,
          69,
          73,
          69,
          69,
          73,
          69,
          69,
          73,
          69,
          69,
          73,
          69,
          69,
          73,
          69,
          69,
          73,
          69,
          69,
          73,
          69,
          69,
          73,
          69,
          69,
          73,
          69,
          69,
          73,
          58,
          57,
          69,
          61,
          58,
          57,
          69,
          61,
          58,
          57,
          69,
          61,
          58,
          57,
          69,
          61,
          58,
          57,
          69,
          61,
          58,
          57,
          69,
          61,
          58,
          57,
          69,
          61,
          58,
          57,
          69,
          61,
          58,
          57,
          69,
          61,
          58,
          57,
          69,
          61,
          58,
          57,
          69,
          61,
          58,
          57,
          69,
          61,
          58,
          57,
          69,
          61,
          58,
          57,
          69,
          61,
          58,
          57,
          69,
          61,
          58,
          57,
          69,
          61,
          58,
          57,
          69,
          61,
          58,
          57,
          69,
          61,
          58,
          57,
          69,
          61,
          58,
          57,
          69,
          61,
          87,
          87,
          87,
          87,
          87,
          87,
          87,
          87,
          87,
          60,
          72,
          66,
          63,
          60,
          72,
          66,
          63,
          60,
          72,
          66,
          63,
          60,
          72,
          66,
          63,
          60,
          72,
          66,
          63,
          60,
          72,
          66,
          63,
          60,
          72,
          66,
          63,
          60,
          72,
          66,
          63,
          60,
          72,
          66,
          63,
          60,
          72,
          66,
          63,
          60,
          72,
          66,
          63,
          60,
          72,
          66,
          63,
          60,
          72,
          66,
          63,
          60,
          72,
          66,
          63,
          60,
          72,
          66,
          63,
          60,
          72,
          66,
          63,
          60,
          72,
          66,
          63,
          60,
          72,
          66,
          63,
          60,
          72,
          66,
          63,
          43,
          43,
          43,
          43,
          89,
          89,
          89,
          89,
          89,
          89,
          89,
          90,
          90,
          90,
          90,
          90,
          90,
          90,
          90,
          90,
          90
         ],
         "z": [
          4,
          4,
          4,
          1,
          1,
          5,
          1,
          4,
          1,
          5,
          5,
          5,
          5,
          5,
          5,
          5,
          5,
          5,
          5,
          5,
          4,
          4,
          4,
          5,
          5,
          5,
          5,
          5,
          5,
          5,
          5,
          5,
          4,
          4,
          4,
          5,
          5,
          5,
          5,
          5,
          5,
          5,
          5,
          5,
          4,
          4,
          4,
          5,
          5,
          5,
          5,
          5,
          5,
          5,
          5,
          5,
          5,
          5,
          5,
          5,
          5,
          5,
          4,
          4,
          4,
          3,
          3,
          3,
          5,
          5,
          5,
          5,
          5,
          5,
          5,
          5,
          5,
          5,
          5,
          5,
          1,
          1,
          1,
          1,
          4,
          4,
          4,
          4,
          1,
          1,
          1,
          1,
          4,
          4,
          4,
          4,
          5,
          5,
          5,
          5,
          4,
          4,
          4,
          4,
          3,
          3,
          3,
          3,
          1,
          1,
          1,
          1,
          5,
          5,
          5,
          5,
          4,
          4,
          4,
          4,
          5,
          5,
          5,
          5,
          3,
          3,
          3,
          3,
          4,
          4,
          4,
          4,
          1,
          1,
          1,
          1,
          5,
          5,
          5,
          5,
          5,
          5,
          5,
          5,
          5,
          5,
          5,
          5,
          5,
          1,
          5,
          5,
          5,
          5,
          5,
          5,
          5,
          1,
          1,
          1,
          1,
          4,
          4,
          4,
          4,
          4,
          4,
          4,
          4,
          5,
          5,
          5,
          5,
          1,
          1,
          1,
          1,
          4,
          4,
          4,
          4,
          1,
          1,
          1,
          1,
          1,
          1,
          1,
          1,
          4,
          4,
          4,
          4,
          3,
          3,
          3,
          3,
          3,
          3,
          3,
          3,
          2,
          2,
          2,
          2,
          5,
          5,
          5,
          5,
          5,
          5,
          5,
          5,
          4,
          4,
          4,
          4,
          5,
          5,
          5,
          5,
          1,
          1,
          1,
          1,
          5,
          5,
          5,
          5,
          1,
          1,
          1,
          1,
          5,
          5,
          5,
          5,
          5,
          5,
          5,
          4,
          5,
          4,
          4,
          1,
          3,
          1,
          1,
          3,
          2,
          4,
          1,
          1,
          4
         ]
        },
        {
         "hovertemplate": "department= PHYS<br>enrolled=%{x}<br>%active=%{y}<br>quality=%{z}<extra></extra>",
         "legendgroup": " PHYS",
         "marker": {
          "color": "#EF553B",
          "symbol": "circle"
         },
         "mode": "markers",
         "name": " PHYS",
         "scene": "scene",
         "showlegend": true,
         "type": "scatter3d",
         "x": [
          259,
          242,
          259,
          242,
          259,
          242,
          259,
          242,
          28,
          28,
          28,
          28,
          28,
          28,
          28,
          28,
          28,
          44,
          44,
          44,
          44,
          44,
          44
         ],
         "y": [
          47,
          57,
          47,
          57,
          47,
          57,
          47,
          57,
          75,
          75,
          75,
          75,
          75,
          75,
          75,
          75,
          75,
          32,
          32,
          32,
          32,
          32,
          32
         ],
         "z": [
          3,
          3,
          4,
          4,
          4,
          4,
          5,
          5,
          2,
          2,
          1,
          1,
          1,
          5,
          3,
          1,
          4,
          5,
          5,
          5,
          5,
          5,
          4
         ]
        },
        {
         "hovertemplate": "department= MATH<br>enrolled=%{x}<br>%active=%{y}<br>quality=%{z}<extra></extra>",
         "legendgroup": " MATH",
         "marker": {
          "color": "#00cc96",
          "symbol": "circle"
         },
         "mode": "markers",
         "name": " MATH",
         "scene": "scene",
         "showlegend": true,
         "type": "scatter3d",
         "x": [
          417,
          36,
          417,
          36,
          417,
          36,
          417,
          36,
          417,
          36,
          417,
          36,
          417,
          36,
          543,
          543,
          543,
          543,
          543,
          543,
          543,
          543,
          543,
          482,
          482,
          482,
          482,
          430,
          430,
          430,
          430,
          430,
          430,
          430,
          430,
          430,
          430,
          473,
          473,
          473,
          473,
          410,
          410,
          403
         ],
         "y": [
          43,
          89,
          43,
          89,
          43,
          89,
          43,
          89,
          43,
          89,
          43,
          89,
          43,
          89,
          31,
          31,
          31,
          31,
          31,
          31,
          31,
          31,
          31,
          47,
          47,
          47,
          47,
          54,
          54,
          54,
          54,
          54,
          54,
          54,
          54,
          54,
          54,
          53,
          53,
          53,
          53,
          43,
          43,
          47
         ],
         "z": [
          5,
          5,
          5,
          5,
          4,
          4,
          1,
          1,
          5,
          5,
          4,
          4,
          3,
          3,
          5,
          1,
          4,
          3,
          4,
          4,
          4,
          2,
          4,
          3,
          5,
          5,
          1,
          5,
          5,
          5,
          2,
          5,
          5,
          5,
          5,
          1,
          1,
          1,
          2,
          3,
          3,
          1,
          3,
          2
         ]
        },
        {
         "hovertemplate": "department= ECE<br>enrolled=%{x}<br>%active=%{y}<br>quality=%{z}<extra></extra>",
         "legendgroup": " ECE",
         "marker": {
          "color": "#ab63fa",
          "symbol": "circle"
         },
         "mode": "markers",
         "name": " ECE",
         "scene": "scene",
         "showlegend": true,
         "type": "scatter3d",
         "x": [
          56,
          56,
          56,
          56,
          56
         ],
         "y": [
          59,
          59,
          59,
          59,
          59
         ],
         "z": [
          3,
          4,
          4,
          5,
          5
         ]
        },
        {
         "hovertemplate": "department= INFO<br>enrolled=%{x}<br>%active=%{y}<br>quality=%{z}<extra></extra>",
         "legendgroup": " INFO",
         "marker": {
          "color": "#FFA15A",
          "symbol": "circle"
         },
         "mode": "markers",
         "name": " INFO",
         "scene": "scene",
         "showlegend": true,
         "type": "scatter3d",
         "x": [
          201,
          201,
          201,
          201,
          201
         ],
         "y": [
          68,
          68,
          68,
          68,
          68
         ],
         "z": [
          4,
          5,
          2,
          5,
          4
         ]
        },
        {
         "hovertemplate": "department= CHEM<br>enrolled=%{x}<br>%active=%{y}<br>quality=%{z}<extra></extra>",
         "legendgroup": " CHEM",
         "marker": {
          "color": "#19d3f3",
          "symbol": "circle"
         },
         "mode": "markers",
         "name": " CHEM",
         "scene": "scene",
         "showlegend": true,
         "type": "scatter3d",
         "x": [
          379,
          379,
          379,
          379,
          379
         ],
         "y": [
          42,
          42,
          42,
          42,
          42
         ],
         "z": [
          5,
          3,
          1,
          1,
          2
         ]
        }
       ],
       "layout": {
        "legend": {
         "title": {
          "text": "department"
         },
         "tracegroupgap": 0
        },
        "margin": {
         "t": 60
        },
        "scene": {
         "domain": {
          "x": [
           0,
           1
          ],
          "y": [
           0,
           1
          ]
         },
         "xaxis": {
          "title": {
           "text": "enrolled"
          }
         },
         "yaxis": {
          "title": {
           "text": "%active"
          }
         },
         "zaxis": {
          "title": {
           "text": "quality"
          }
         }
        },
        "template": {
         "data": {
          "bar": [
           {
            "error_x": {
             "color": "#2a3f5f"
            },
            "error_y": {
             "color": "#2a3f5f"
            },
            "marker": {
             "line": {
              "color": "#E5ECF6",
              "width": 0.5
             }
            },
            "type": "bar"
           }
          ],
          "barpolar": [
           {
            "marker": {
             "line": {
              "color": "#E5ECF6",
              "width": 0.5
             }
            },
            "type": "barpolar"
           }
          ],
          "carpet": [
           {
            "aaxis": {
             "endlinecolor": "#2a3f5f",
             "gridcolor": "white",
             "linecolor": "white",
             "minorgridcolor": "white",
             "startlinecolor": "#2a3f5f"
            },
            "baxis": {
             "endlinecolor": "#2a3f5f",
             "gridcolor": "white",
             "linecolor": "white",
             "minorgridcolor": "white",
             "startlinecolor": "#2a3f5f"
            },
            "type": "carpet"
           }
          ],
          "choropleth": [
           {
            "colorbar": {
             "outlinewidth": 0,
             "ticks": ""
            },
            "type": "choropleth"
           }
          ],
          "contour": [
           {
            "colorbar": {
             "outlinewidth": 0,
             "ticks": ""
            },
            "colorscale": [
             [
              0,
              "#0d0887"
             ],
             [
              0.1111111111111111,
              "#46039f"
             ],
             [
              0.2222222222222222,
              "#7201a8"
             ],
             [
              0.3333333333333333,
              "#9c179e"
             ],
             [
              0.4444444444444444,
              "#bd3786"
             ],
             [
              0.5555555555555556,
              "#d8576b"
             ],
             [
              0.6666666666666666,
              "#ed7953"
             ],
             [
              0.7777777777777778,
              "#fb9f3a"
             ],
             [
              0.8888888888888888,
              "#fdca26"
             ],
             [
              1,
              "#f0f921"
             ]
            ],
            "type": "contour"
           }
          ],
          "contourcarpet": [
           {
            "colorbar": {
             "outlinewidth": 0,
             "ticks": ""
            },
            "type": "contourcarpet"
           }
          ],
          "heatmap": [
           {
            "colorbar": {
             "outlinewidth": 0,
             "ticks": ""
            },
            "colorscale": [
             [
              0,
              "#0d0887"
             ],
             [
              0.1111111111111111,
              "#46039f"
             ],
             [
              0.2222222222222222,
              "#7201a8"
             ],
             [
              0.3333333333333333,
              "#9c179e"
             ],
             [
              0.4444444444444444,
              "#bd3786"
             ],
             [
              0.5555555555555556,
              "#d8576b"
             ],
             [
              0.6666666666666666,
              "#ed7953"
             ],
             [
              0.7777777777777778,
              "#fb9f3a"
             ],
             [
              0.8888888888888888,
              "#fdca26"
             ],
             [
              1,
              "#f0f921"
             ]
            ],
            "type": "heatmap"
           }
          ],
          "heatmapgl": [
           {
            "colorbar": {
             "outlinewidth": 0,
             "ticks": ""
            },
            "colorscale": [
             [
              0,
              "#0d0887"
             ],
             [
              0.1111111111111111,
              "#46039f"
             ],
             [
              0.2222222222222222,
              "#7201a8"
             ],
             [
              0.3333333333333333,
              "#9c179e"
             ],
             [
              0.4444444444444444,
              "#bd3786"
             ],
             [
              0.5555555555555556,
              "#d8576b"
             ],
             [
              0.6666666666666666,
              "#ed7953"
             ],
             [
              0.7777777777777778,
              "#fb9f3a"
             ],
             [
              0.8888888888888888,
              "#fdca26"
             ],
             [
              1,
              "#f0f921"
             ]
            ],
            "type": "heatmapgl"
           }
          ],
          "histogram": [
           {
            "marker": {
             "colorbar": {
              "outlinewidth": 0,
              "ticks": ""
             }
            },
            "type": "histogram"
           }
          ],
          "histogram2d": [
           {
            "colorbar": {
             "outlinewidth": 0,
             "ticks": ""
            },
            "colorscale": [
             [
              0,
              "#0d0887"
             ],
             [
              0.1111111111111111,
              "#46039f"
             ],
             [
              0.2222222222222222,
              "#7201a8"
             ],
             [
              0.3333333333333333,
              "#9c179e"
             ],
             [
              0.4444444444444444,
              "#bd3786"
             ],
             [
              0.5555555555555556,
              "#d8576b"
             ],
             [
              0.6666666666666666,
              "#ed7953"
             ],
             [
              0.7777777777777778,
              "#fb9f3a"
             ],
             [
              0.8888888888888888,
              "#fdca26"
             ],
             [
              1,
              "#f0f921"
             ]
            ],
            "type": "histogram2d"
           }
          ],
          "histogram2dcontour": [
           {
            "colorbar": {
             "outlinewidth": 0,
             "ticks": ""
            },
            "colorscale": [
             [
              0,
              "#0d0887"
             ],
             [
              0.1111111111111111,
              "#46039f"
             ],
             [
              0.2222222222222222,
              "#7201a8"
             ],
             [
              0.3333333333333333,
              "#9c179e"
             ],
             [
              0.4444444444444444,
              "#bd3786"
             ],
             [
              0.5555555555555556,
              "#d8576b"
             ],
             [
              0.6666666666666666,
              "#ed7953"
             ],
             [
              0.7777777777777778,
              "#fb9f3a"
             ],
             [
              0.8888888888888888,
              "#fdca26"
             ],
             [
              1,
              "#f0f921"
             ]
            ],
            "type": "histogram2dcontour"
           }
          ],
          "mesh3d": [
           {
            "colorbar": {
             "outlinewidth": 0,
             "ticks": ""
            },
            "type": "mesh3d"
           }
          ],
          "parcoords": [
           {
            "line": {
             "colorbar": {
              "outlinewidth": 0,
              "ticks": ""
             }
            },
            "type": "parcoords"
           }
          ],
          "pie": [
           {
            "automargin": true,
            "type": "pie"
           }
          ],
          "scatter": [
           {
            "marker": {
             "colorbar": {
              "outlinewidth": 0,
              "ticks": ""
             }
            },
            "type": "scatter"
           }
          ],
          "scatter3d": [
           {
            "line": {
             "colorbar": {
              "outlinewidth": 0,
              "ticks": ""
             }
            },
            "marker": {
             "colorbar": {
              "outlinewidth": 0,
              "ticks": ""
             }
            },
            "type": "scatter3d"
           }
          ],
          "scattercarpet": [
           {
            "marker": {
             "colorbar": {
              "outlinewidth": 0,
              "ticks": ""
             }
            },
            "type": "scattercarpet"
           }
          ],
          "scattergeo": [
           {
            "marker": {
             "colorbar": {
              "outlinewidth": 0,
              "ticks": ""
             }
            },
            "type": "scattergeo"
           }
          ],
          "scattergl": [
           {
            "marker": {
             "colorbar": {
              "outlinewidth": 0,
              "ticks": ""
             }
            },
            "type": "scattergl"
           }
          ],
          "scattermapbox": [
           {
            "marker": {
             "colorbar": {
              "outlinewidth": 0,
              "ticks": ""
             }
            },
            "type": "scattermapbox"
           }
          ],
          "scatterpolar": [
           {
            "marker": {
             "colorbar": {
              "outlinewidth": 0,
              "ticks": ""
             }
            },
            "type": "scatterpolar"
           }
          ],
          "scatterpolargl": [
           {
            "marker": {
             "colorbar": {
              "outlinewidth": 0,
              "ticks": ""
             }
            },
            "type": "scatterpolargl"
           }
          ],
          "scatterternary": [
           {
            "marker": {
             "colorbar": {
              "outlinewidth": 0,
              "ticks": ""
             }
            },
            "type": "scatterternary"
           }
          ],
          "surface": [
           {
            "colorbar": {
             "outlinewidth": 0,
             "ticks": ""
            },
            "colorscale": [
             [
              0,
              "#0d0887"
             ],
             [
              0.1111111111111111,
              "#46039f"
             ],
             [
              0.2222222222222222,
              "#7201a8"
             ],
             [
              0.3333333333333333,
              "#9c179e"
             ],
             [
              0.4444444444444444,
              "#bd3786"
             ],
             [
              0.5555555555555556,
              "#d8576b"
             ],
             [
              0.6666666666666666,
              "#ed7953"
             ],
             [
              0.7777777777777778,
              "#fb9f3a"
             ],
             [
              0.8888888888888888,
              "#fdca26"
             ],
             [
              1,
              "#f0f921"
             ]
            ],
            "type": "surface"
           }
          ],
          "table": [
           {
            "cells": {
             "fill": {
              "color": "#EBF0F8"
             },
             "line": {
              "color": "white"
             }
            },
            "header": {
             "fill": {
              "color": "#C8D4E3"
             },
             "line": {
              "color": "white"
             }
            },
            "type": "table"
           }
          ]
         },
         "layout": {
          "annotationdefaults": {
           "arrowcolor": "#2a3f5f",
           "arrowhead": 0,
           "arrowwidth": 1
          },
          "autotypenumbers": "strict",
          "coloraxis": {
           "colorbar": {
            "outlinewidth": 0,
            "ticks": ""
           }
          },
          "colorscale": {
           "diverging": [
            [
             0,
             "#8e0152"
            ],
            [
             0.1,
             "#c51b7d"
            ],
            [
             0.2,
             "#de77ae"
            ],
            [
             0.3,
             "#f1b6da"
            ],
            [
             0.4,
             "#fde0ef"
            ],
            [
             0.5,
             "#f7f7f7"
            ],
            [
             0.6,
             "#e6f5d0"
            ],
            [
             0.7,
             "#b8e186"
            ],
            [
             0.8,
             "#7fbc41"
            ],
            [
             0.9,
             "#4d9221"
            ],
            [
             1,
             "#276419"
            ]
           ],
           "sequential": [
            [
             0,
             "#0d0887"
            ],
            [
             0.1111111111111111,
             "#46039f"
            ],
            [
             0.2222222222222222,
             "#7201a8"
            ],
            [
             0.3333333333333333,
             "#9c179e"
            ],
            [
             0.4444444444444444,
             "#bd3786"
            ],
            [
             0.5555555555555556,
             "#d8576b"
            ],
            [
             0.6666666666666666,
             "#ed7953"
            ],
            [
             0.7777777777777778,
             "#fb9f3a"
            ],
            [
             0.8888888888888888,
             "#fdca26"
            ],
            [
             1,
             "#f0f921"
            ]
           ],
           "sequentialminus": [
            [
             0,
             "#0d0887"
            ],
            [
             0.1111111111111111,
             "#46039f"
            ],
            [
             0.2222222222222222,
             "#7201a8"
            ],
            [
             0.3333333333333333,
             "#9c179e"
            ],
            [
             0.4444444444444444,
             "#bd3786"
            ],
            [
             0.5555555555555556,
             "#d8576b"
            ],
            [
             0.6666666666666666,
             "#ed7953"
            ],
            [
             0.7777777777777778,
             "#fb9f3a"
            ],
            [
             0.8888888888888888,
             "#fdca26"
            ],
            [
             1,
             "#f0f921"
            ]
           ]
          },
          "colorway": [
           "#636efa",
           "#EF553B",
           "#00cc96",
           "#ab63fa",
           "#FFA15A",
           "#19d3f3",
           "#FF6692",
           "#B6E880",
           "#FF97FF",
           "#FECB52"
          ],
          "font": {
           "color": "#2a3f5f"
          },
          "geo": {
           "bgcolor": "white",
           "lakecolor": "white",
           "landcolor": "#E5ECF6",
           "showlakes": true,
           "showland": true,
           "subunitcolor": "white"
          },
          "hoverlabel": {
           "align": "left"
          },
          "hovermode": "closest",
          "mapbox": {
           "style": "light"
          },
          "paper_bgcolor": "white",
          "plot_bgcolor": "#E5ECF6",
          "polar": {
           "angularaxis": {
            "gridcolor": "white",
            "linecolor": "white",
            "ticks": ""
           },
           "bgcolor": "#E5ECF6",
           "radialaxis": {
            "gridcolor": "white",
            "linecolor": "white",
            "ticks": ""
           }
          },
          "scene": {
           "xaxis": {
            "backgroundcolor": "#E5ECF6",
            "gridcolor": "white",
            "gridwidth": 2,
            "linecolor": "white",
            "showbackground": true,
            "ticks": "",
            "zerolinecolor": "white"
           },
           "yaxis": {
            "backgroundcolor": "#E5ECF6",
            "gridcolor": "white",
            "gridwidth": 2,
            "linecolor": "white",
            "showbackground": true,
            "ticks": "",
            "zerolinecolor": "white"
           },
           "zaxis": {
            "backgroundcolor": "#E5ECF6",
            "gridcolor": "white",
            "gridwidth": 2,
            "linecolor": "white",
            "showbackground": true,
            "ticks": "",
            "zerolinecolor": "white"
           }
          },
          "shapedefaults": {
           "line": {
            "color": "#2a3f5f"
           }
          },
          "ternary": {
           "aaxis": {
            "gridcolor": "white",
            "linecolor": "white",
            "ticks": ""
           },
           "baxis": {
            "gridcolor": "white",
            "linecolor": "white",
            "ticks": ""
           },
           "bgcolor": "#E5ECF6",
           "caxis": {
            "gridcolor": "white",
            "linecolor": "white",
            "ticks": ""
           }
          },
          "title": {
           "x": 0.05
          },
          "xaxis": {
           "automargin": true,
           "gridcolor": "white",
           "linecolor": "white",
           "ticks": "",
           "title": {
            "standoff": 15
           },
           "zerolinecolor": "white",
           "zerolinewidth": 2
          },
          "yaxis": {
           "automargin": true,
           "gridcolor": "white",
           "linecolor": "white",
           "ticks": "",
           "title": {
            "standoff": 15
           },
           "zerolinecolor": "white",
           "zerolinewidth": 2
          }
         }
        }
       }
      },
      "text/html": [
       "<div>                            <div id=\"de426c66-e6e5-4f1f-836b-0b2e3c59282b\" class=\"plotly-graph-div\" style=\"height:525px; width:100%;\"></div>            <script type=\"text/javascript\">                require([\"plotly\"], function(Plotly) {                    window.PLOTLYENV=window.PLOTLYENV || {};                                    if (document.getElementById(\"de426c66-e6e5-4f1f-836b-0b2e3c59282b\")) {                    Plotly.newPlot(                        \"de426c66-e6e5-4f1f-836b-0b2e3c59282b\",                        [{\"hovertemplate\": \"department= CS<br>enrolled=%{x}<br>%active=%{y}<br>quality=%{z}<extra></extra>\", \"legendgroup\": \" CS\", \"marker\": {\"color\": \"#636efa\", \"symbol\": \"circle\"}, \"mode\": \"markers\", \"name\": \" CS\", \"scene\": \"scene\", \"showlegend\": true, \"type\": \"scatter3d\", \"x\": [238, 238, 238, 238, 238, 238, 238, 238, 238, 238, 238, 716, 716, 569, 716, 716, 569, 716, 716, 569, 716, 716, 569, 716, 716, 569, 716, 716, 569, 716, 716, 569, 716, 716, 569, 716, 716, 569, 716, 716, 569, 716, 716, 569, 716, 716, 569, 716, 716, 569, 716, 716, 569, 716, 716, 569, 716, 716, 569, 716, 716, 569, 716, 716, 569, 716, 716, 569, 721, 590, 667, 662, 721, 590, 667, 662, 721, 590, 667, 662, 721, 590, 667, 662, 721, 590, 667, 662, 721, 590, 667, 662, 721, 590, 667, 662, 721, 590, 667, 662, 721, 590, 667, 662, 721, 590, 667, 662, 721, 590, 667, 662, 721, 590, 667, 662, 721, 590, 667, 662, 721, 590, 667, 662, 721, 590, 667, 662, 721, 590, 667, 662, 721, 590, 667, 662, 721, 590, 667, 662, 721, 590, 667, 662, 721, 590, 667, 662, 197, 197, 197, 197, 197, 197, 197, 197, 197, 419, 396, 424, 417, 419, 396, 424, 417, 419, 396, 424, 417, 419, 396, 424, 417, 419, 396, 424, 417, 419, 396, 424, 417, 419, 396, 424, 417, 419, 396, 424, 417, 419, 396, 424, 417, 419, 396, 424, 417, 419, 396, 424, 417, 419, 396, 424, 417, 419, 396, 424, 417, 419, 396, 424, 417, 419, 396, 424, 417, 419, 396, 424, 417, 419, 396, 424, 417, 419, 396, 424, 417, 419, 396, 424, 417, 405, 405, 405, 405, 90, 90, 90, 90, 90, 90, 90, 205, 205, 205, 205, 205, 205, 205, 205, 205, 205], \"y\": [55, 55, 55, 55, 55, 55, 55, 55, 55, 55, 55, 69, 69, 73, 69, 69, 73, 69, 69, 73, 69, 69, 73, 69, 69, 73, 69, 69, 73, 69, 69, 73, 69, 69, 73, 69, 69, 73, 69, 69, 73, 69, 69, 73, 69, 69, 73, 69, 69, 73, 69, 69, 73, 69, 69, 73, 69, 69, 73, 69, 69, 73, 69, 69, 73, 69, 69, 73, 58, 57, 69, 61, 58, 57, 69, 61, 58, 57, 69, 61, 58, 57, 69, 61, 58, 57, 69, 61, 58, 57, 69, 61, 58, 57, 69, 61, 58, 57, 69, 61, 58, 57, 69, 61, 58, 57, 69, 61, 58, 57, 69, 61, 58, 57, 69, 61, 58, 57, 69, 61, 58, 57, 69, 61, 58, 57, 69, 61, 58, 57, 69, 61, 58, 57, 69, 61, 58, 57, 69, 61, 58, 57, 69, 61, 58, 57, 69, 61, 87, 87, 87, 87, 87, 87, 87, 87, 87, 60, 72, 66, 63, 60, 72, 66, 63, 60, 72, 66, 63, 60, 72, 66, 63, 60, 72, 66, 63, 60, 72, 66, 63, 60, 72, 66, 63, 60, 72, 66, 63, 60, 72, 66, 63, 60, 72, 66, 63, 60, 72, 66, 63, 60, 72, 66, 63, 60, 72, 66, 63, 60, 72, 66, 63, 60, 72, 66, 63, 60, 72, 66, 63, 60, 72, 66, 63, 60, 72, 66, 63, 60, 72, 66, 63, 43, 43, 43, 43, 89, 89, 89, 89, 89, 89, 89, 90, 90, 90, 90, 90, 90, 90, 90, 90, 90], \"z\": [4, 4, 4, 1, 1, 5, 1, 4, 1, 5, 5, 5, 5, 5, 5, 5, 5, 5, 5, 5, 4, 4, 4, 5, 5, 5, 5, 5, 5, 5, 5, 5, 4, 4, 4, 5, 5, 5, 5, 5, 5, 5, 5, 5, 4, 4, 4, 5, 5, 5, 5, 5, 5, 5, 5, 5, 5, 5, 5, 5, 5, 5, 4, 4, 4, 3, 3, 3, 5, 5, 5, 5, 5, 5, 5, 5, 5, 5, 5, 5, 1, 1, 1, 1, 4, 4, 4, 4, 1, 1, 1, 1, 4, 4, 4, 4, 5, 5, 5, 5, 4, 4, 4, 4, 3, 3, 3, 3, 1, 1, 1, 1, 5, 5, 5, 5, 4, 4, 4, 4, 5, 5, 5, 5, 3, 3, 3, 3, 4, 4, 4, 4, 1, 1, 1, 1, 5, 5, 5, 5, 5, 5, 5, 5, 5, 5, 5, 5, 5, 1, 5, 5, 5, 5, 5, 5, 5, 1, 1, 1, 1, 4, 4, 4, 4, 4, 4, 4, 4, 5, 5, 5, 5, 1, 1, 1, 1, 4, 4, 4, 4, 1, 1, 1, 1, 1, 1, 1, 1, 4, 4, 4, 4, 3, 3, 3, 3, 3, 3, 3, 3, 2, 2, 2, 2, 5, 5, 5, 5, 5, 5, 5, 5, 4, 4, 4, 4, 5, 5, 5, 5, 1, 1, 1, 1, 5, 5, 5, 5, 1, 1, 1, 1, 5, 5, 5, 5, 5, 5, 5, 4, 5, 4, 4, 1, 3, 1, 1, 3, 2, 4, 1, 1, 4]}, {\"hovertemplate\": \"department= PHYS<br>enrolled=%{x}<br>%active=%{y}<br>quality=%{z}<extra></extra>\", \"legendgroup\": \" PHYS\", \"marker\": {\"color\": \"#EF553B\", \"symbol\": \"circle\"}, \"mode\": \"markers\", \"name\": \" PHYS\", \"scene\": \"scene\", \"showlegend\": true, \"type\": \"scatter3d\", \"x\": [259, 242, 259, 242, 259, 242, 259, 242, 28, 28, 28, 28, 28, 28, 28, 28, 28, 44, 44, 44, 44, 44, 44], \"y\": [47, 57, 47, 57, 47, 57, 47, 57, 75, 75, 75, 75, 75, 75, 75, 75, 75, 32, 32, 32, 32, 32, 32], \"z\": [3, 3, 4, 4, 4, 4, 5, 5, 2, 2, 1, 1, 1, 5, 3, 1, 4, 5, 5, 5, 5, 5, 4]}, {\"hovertemplate\": \"department= MATH<br>enrolled=%{x}<br>%active=%{y}<br>quality=%{z}<extra></extra>\", \"legendgroup\": \" MATH\", \"marker\": {\"color\": \"#00cc96\", \"symbol\": \"circle\"}, \"mode\": \"markers\", \"name\": \" MATH\", \"scene\": \"scene\", \"showlegend\": true, \"type\": \"scatter3d\", \"x\": [417, 36, 417, 36, 417, 36, 417, 36, 417, 36, 417, 36, 417, 36, 543, 543, 543, 543, 543, 543, 543, 543, 543, 482, 482, 482, 482, 430, 430, 430, 430, 430, 430, 430, 430, 430, 430, 473, 473, 473, 473, 410, 410, 403], \"y\": [43, 89, 43, 89, 43, 89, 43, 89, 43, 89, 43, 89, 43, 89, 31, 31, 31, 31, 31, 31, 31, 31, 31, 47, 47, 47, 47, 54, 54, 54, 54, 54, 54, 54, 54, 54, 54, 53, 53, 53, 53, 43, 43, 47], \"z\": [5, 5, 5, 5, 4, 4, 1, 1, 5, 5, 4, 4, 3, 3, 5, 1, 4, 3, 4, 4, 4, 2, 4, 3, 5, 5, 1, 5, 5, 5, 2, 5, 5, 5, 5, 1, 1, 1, 2, 3, 3, 1, 3, 2]}, {\"hovertemplate\": \"department= ECE<br>enrolled=%{x}<br>%active=%{y}<br>quality=%{z}<extra></extra>\", \"legendgroup\": \" ECE\", \"marker\": {\"color\": \"#ab63fa\", \"symbol\": \"circle\"}, \"mode\": \"markers\", \"name\": \" ECE\", \"scene\": \"scene\", \"showlegend\": true, \"type\": \"scatter3d\", \"x\": [56, 56, 56, 56, 56], \"y\": [59, 59, 59, 59, 59], \"z\": [3, 4, 4, 5, 5]}, {\"hovertemplate\": \"department= INFO<br>enrolled=%{x}<br>%active=%{y}<br>quality=%{z}<extra></extra>\", \"legendgroup\": \" INFO\", \"marker\": {\"color\": \"#FFA15A\", \"symbol\": \"circle\"}, \"mode\": \"markers\", \"name\": \" INFO\", \"scene\": \"scene\", \"showlegend\": true, \"type\": \"scatter3d\", \"x\": [201, 201, 201, 201, 201], \"y\": [68, 68, 68, 68, 68], \"z\": [4, 5, 2, 5, 4]}, {\"hovertemplate\": \"department= CHEM<br>enrolled=%{x}<br>%active=%{y}<br>quality=%{z}<extra></extra>\", \"legendgroup\": \" CHEM\", \"marker\": {\"color\": \"#19d3f3\", \"symbol\": \"circle\"}, \"mode\": \"markers\", \"name\": \" CHEM\", \"scene\": \"scene\", \"showlegend\": true, \"type\": \"scatter3d\", \"x\": [379, 379, 379, 379, 379], \"y\": [42, 42, 42, 42, 42], \"z\": [5, 3, 1, 1, 2]}],                        {\"legend\": {\"title\": {\"text\": \"department\"}, \"tracegroupgap\": 0}, \"margin\": {\"t\": 60}, \"scene\": {\"domain\": {\"x\": [0.0, 1.0], \"y\": [0.0, 1.0]}, \"xaxis\": {\"title\": {\"text\": \"enrolled\"}}, \"yaxis\": {\"title\": {\"text\": \"%active\"}}, \"zaxis\": {\"title\": {\"text\": \"quality\"}}}, \"template\": {\"data\": {\"bar\": [{\"error_x\": {\"color\": \"#2a3f5f\"}, \"error_y\": {\"color\": \"#2a3f5f\"}, \"marker\": {\"line\": {\"color\": \"#E5ECF6\", \"width\": 0.5}}, \"type\": \"bar\"}], \"barpolar\": [{\"marker\": {\"line\": {\"color\": \"#E5ECF6\", \"width\": 0.5}}, \"type\": \"barpolar\"}], \"carpet\": [{\"aaxis\": {\"endlinecolor\": \"#2a3f5f\", \"gridcolor\": \"white\", \"linecolor\": \"white\", \"minorgridcolor\": \"white\", \"startlinecolor\": \"#2a3f5f\"}, \"baxis\": {\"endlinecolor\": \"#2a3f5f\", \"gridcolor\": \"white\", \"linecolor\": \"white\", \"minorgridcolor\": \"white\", \"startlinecolor\": \"#2a3f5f\"}, \"type\": \"carpet\"}], \"choropleth\": [{\"colorbar\": {\"outlinewidth\": 0, \"ticks\": \"\"}, \"type\": \"choropleth\"}], \"contour\": [{\"colorbar\": {\"outlinewidth\": 0, \"ticks\": \"\"}, \"colorscale\": [[0.0, \"#0d0887\"], [0.1111111111111111, \"#46039f\"], [0.2222222222222222, \"#7201a8\"], [0.3333333333333333, \"#9c179e\"], [0.4444444444444444, \"#bd3786\"], [0.5555555555555556, \"#d8576b\"], [0.6666666666666666, \"#ed7953\"], [0.7777777777777778, \"#fb9f3a\"], [0.8888888888888888, \"#fdca26\"], [1.0, \"#f0f921\"]], \"type\": \"contour\"}], \"contourcarpet\": [{\"colorbar\": {\"outlinewidth\": 0, \"ticks\": \"\"}, \"type\": \"contourcarpet\"}], \"heatmap\": [{\"colorbar\": {\"outlinewidth\": 0, \"ticks\": \"\"}, \"colorscale\": [[0.0, \"#0d0887\"], [0.1111111111111111, \"#46039f\"], [0.2222222222222222, \"#7201a8\"], [0.3333333333333333, \"#9c179e\"], [0.4444444444444444, \"#bd3786\"], [0.5555555555555556, \"#d8576b\"], [0.6666666666666666, \"#ed7953\"], [0.7777777777777778, \"#fb9f3a\"], [0.8888888888888888, \"#fdca26\"], [1.0, \"#f0f921\"]], \"type\": \"heatmap\"}], \"heatmapgl\": [{\"colorbar\": {\"outlinewidth\": 0, \"ticks\": \"\"}, \"colorscale\": [[0.0, \"#0d0887\"], [0.1111111111111111, \"#46039f\"], [0.2222222222222222, \"#7201a8\"], [0.3333333333333333, \"#9c179e\"], [0.4444444444444444, \"#bd3786\"], [0.5555555555555556, \"#d8576b\"], [0.6666666666666666, \"#ed7953\"], [0.7777777777777778, \"#fb9f3a\"], [0.8888888888888888, \"#fdca26\"], [1.0, \"#f0f921\"]], \"type\": \"heatmapgl\"}], \"histogram\": [{\"marker\": {\"colorbar\": {\"outlinewidth\": 0, \"ticks\": \"\"}}, \"type\": \"histogram\"}], \"histogram2d\": [{\"colorbar\": {\"outlinewidth\": 0, \"ticks\": \"\"}, \"colorscale\": [[0.0, \"#0d0887\"], [0.1111111111111111, \"#46039f\"], [0.2222222222222222, \"#7201a8\"], [0.3333333333333333, \"#9c179e\"], [0.4444444444444444, \"#bd3786\"], [0.5555555555555556, \"#d8576b\"], [0.6666666666666666, \"#ed7953\"], [0.7777777777777778, \"#fb9f3a\"], [0.8888888888888888, \"#fdca26\"], [1.0, \"#f0f921\"]], \"type\": \"histogram2d\"}], \"histogram2dcontour\": [{\"colorbar\": {\"outlinewidth\": 0, \"ticks\": \"\"}, \"colorscale\": [[0.0, \"#0d0887\"], [0.1111111111111111, \"#46039f\"], [0.2222222222222222, \"#7201a8\"], [0.3333333333333333, \"#9c179e\"], [0.4444444444444444, \"#bd3786\"], [0.5555555555555556, \"#d8576b\"], [0.6666666666666666, \"#ed7953\"], [0.7777777777777778, \"#fb9f3a\"], [0.8888888888888888, \"#fdca26\"], [1.0, \"#f0f921\"]], \"type\": \"histogram2dcontour\"}], \"mesh3d\": [{\"colorbar\": {\"outlinewidth\": 0, \"ticks\": \"\"}, \"type\": \"mesh3d\"}], \"parcoords\": [{\"line\": {\"colorbar\": {\"outlinewidth\": 0, \"ticks\": \"\"}}, \"type\": \"parcoords\"}], \"pie\": [{\"automargin\": true, \"type\": \"pie\"}], \"scatter\": [{\"marker\": {\"colorbar\": {\"outlinewidth\": 0, \"ticks\": \"\"}}, \"type\": \"scatter\"}], \"scatter3d\": [{\"line\": {\"colorbar\": {\"outlinewidth\": 0, \"ticks\": \"\"}}, \"marker\": {\"colorbar\": {\"outlinewidth\": 0, \"ticks\": \"\"}}, \"type\": \"scatter3d\"}], \"scattercarpet\": [{\"marker\": {\"colorbar\": {\"outlinewidth\": 0, \"ticks\": \"\"}}, \"type\": \"scattercarpet\"}], \"scattergeo\": [{\"marker\": {\"colorbar\": {\"outlinewidth\": 0, \"ticks\": \"\"}}, \"type\": \"scattergeo\"}], \"scattergl\": [{\"marker\": {\"colorbar\": {\"outlinewidth\": 0, \"ticks\": \"\"}}, \"type\": \"scattergl\"}], \"scattermapbox\": [{\"marker\": {\"colorbar\": {\"outlinewidth\": 0, \"ticks\": \"\"}}, \"type\": \"scattermapbox\"}], \"scatterpolar\": [{\"marker\": {\"colorbar\": {\"outlinewidth\": 0, \"ticks\": \"\"}}, \"type\": \"scatterpolar\"}], \"scatterpolargl\": [{\"marker\": {\"colorbar\": {\"outlinewidth\": 0, \"ticks\": \"\"}}, \"type\": \"scatterpolargl\"}], \"scatterternary\": [{\"marker\": {\"colorbar\": {\"outlinewidth\": 0, \"ticks\": \"\"}}, \"type\": \"scatterternary\"}], \"surface\": [{\"colorbar\": {\"outlinewidth\": 0, \"ticks\": \"\"}, \"colorscale\": [[0.0, \"#0d0887\"], [0.1111111111111111, \"#46039f\"], [0.2222222222222222, \"#7201a8\"], [0.3333333333333333, \"#9c179e\"], [0.4444444444444444, \"#bd3786\"], [0.5555555555555556, \"#d8576b\"], [0.6666666666666666, \"#ed7953\"], [0.7777777777777778, \"#fb9f3a\"], [0.8888888888888888, \"#fdca26\"], [1.0, \"#f0f921\"]], \"type\": \"surface\"}], \"table\": [{\"cells\": {\"fill\": {\"color\": \"#EBF0F8\"}, \"line\": {\"color\": \"white\"}}, \"header\": {\"fill\": {\"color\": \"#C8D4E3\"}, \"line\": {\"color\": \"white\"}}, \"type\": \"table\"}]}, \"layout\": {\"annotationdefaults\": {\"arrowcolor\": \"#2a3f5f\", \"arrowhead\": 0, \"arrowwidth\": 1}, \"autotypenumbers\": \"strict\", \"coloraxis\": {\"colorbar\": {\"outlinewidth\": 0, \"ticks\": \"\"}}, \"colorscale\": {\"diverging\": [[0, \"#8e0152\"], [0.1, \"#c51b7d\"], [0.2, \"#de77ae\"], [0.3, \"#f1b6da\"], [0.4, \"#fde0ef\"], [0.5, \"#f7f7f7\"], [0.6, \"#e6f5d0\"], [0.7, \"#b8e186\"], [0.8, \"#7fbc41\"], [0.9, \"#4d9221\"], [1, \"#276419\"]], \"sequential\": [[0.0, \"#0d0887\"], [0.1111111111111111, \"#46039f\"], [0.2222222222222222, \"#7201a8\"], [0.3333333333333333, \"#9c179e\"], [0.4444444444444444, \"#bd3786\"], [0.5555555555555556, \"#d8576b\"], [0.6666666666666666, \"#ed7953\"], [0.7777777777777778, \"#fb9f3a\"], [0.8888888888888888, \"#fdca26\"], [1.0, \"#f0f921\"]], \"sequentialminus\": [[0.0, \"#0d0887\"], [0.1111111111111111, \"#46039f\"], [0.2222222222222222, \"#7201a8\"], [0.3333333333333333, \"#9c179e\"], [0.4444444444444444, \"#bd3786\"], [0.5555555555555556, \"#d8576b\"], [0.6666666666666666, \"#ed7953\"], [0.7777777777777778, \"#fb9f3a\"], [0.8888888888888888, \"#fdca26\"], [1.0, \"#f0f921\"]]}, \"colorway\": [\"#636efa\", \"#EF553B\", \"#00cc96\", \"#ab63fa\", \"#FFA15A\", \"#19d3f3\", \"#FF6692\", \"#B6E880\", \"#FF97FF\", \"#FECB52\"], \"font\": {\"color\": \"#2a3f5f\"}, \"geo\": {\"bgcolor\": \"white\", \"lakecolor\": \"white\", \"landcolor\": \"#E5ECF6\", \"showlakes\": true, \"showland\": true, \"subunitcolor\": \"white\"}, \"hoverlabel\": {\"align\": \"left\"}, \"hovermode\": \"closest\", \"mapbox\": {\"style\": \"light\"}, \"paper_bgcolor\": \"white\", \"plot_bgcolor\": \"#E5ECF6\", \"polar\": {\"angularaxis\": {\"gridcolor\": \"white\", \"linecolor\": \"white\", \"ticks\": \"\"}, \"bgcolor\": \"#E5ECF6\", \"radialaxis\": {\"gridcolor\": \"white\", \"linecolor\": \"white\", \"ticks\": \"\"}}, \"scene\": {\"xaxis\": {\"backgroundcolor\": \"#E5ECF6\", \"gridcolor\": \"white\", \"gridwidth\": 2, \"linecolor\": \"white\", \"showbackground\": true, \"ticks\": \"\", \"zerolinecolor\": \"white\"}, \"yaxis\": {\"backgroundcolor\": \"#E5ECF6\", \"gridcolor\": \"white\", \"gridwidth\": 2, \"linecolor\": \"white\", \"showbackground\": true, \"ticks\": \"\", \"zerolinecolor\": \"white\"}, \"zaxis\": {\"backgroundcolor\": \"#E5ECF6\", \"gridcolor\": \"white\", \"gridwidth\": 2, \"linecolor\": \"white\", \"showbackground\": true, \"ticks\": \"\", \"zerolinecolor\": \"white\"}}, \"shapedefaults\": {\"line\": {\"color\": \"#2a3f5f\"}}, \"ternary\": {\"aaxis\": {\"gridcolor\": \"white\", \"linecolor\": \"white\", \"ticks\": \"\"}, \"baxis\": {\"gridcolor\": \"white\", \"linecolor\": \"white\", \"ticks\": \"\"}, \"bgcolor\": \"#E5ECF6\", \"caxis\": {\"gridcolor\": \"white\", \"linecolor\": \"white\", \"ticks\": \"\"}}, \"title\": {\"x\": 0.05}, \"xaxis\": {\"automargin\": true, \"gridcolor\": \"white\", \"linecolor\": \"white\", \"ticks\": \"\", \"title\": {\"standoff\": 15}, \"zerolinecolor\": \"white\", \"zerolinewidth\": 2}, \"yaxis\": {\"automargin\": true, \"gridcolor\": \"white\", \"linecolor\": \"white\", \"ticks\": \"\", \"title\": {\"standoff\": 15}, \"zerolinecolor\": \"white\", \"zerolinewidth\": 2}}}},                        {\"responsive\": true}                    ).then(function(){\n",
       "                            \n",
       "var gd = document.getElementById('de426c66-e6e5-4f1f-836b-0b2e3c59282b');\n",
       "var x = new MutationObserver(function (mutations, observer) {{\n",
       "        var display = window.getComputedStyle(gd).display;\n",
       "        if (!display || display === 'none') {{\n",
       "            console.log([gd, 'removed!']);\n",
       "            Plotly.purge(gd);\n",
       "            observer.disconnect();\n",
       "        }}\n",
       "}});\n",
       "\n",
       "// Listen for the removal of the full notebook cells\n",
       "var notebookContainer = gd.closest('#notebook-container');\n",
       "if (notebookContainer) {{\n",
       "    x.observe(notebookContainer, {childList: true});\n",
       "}}\n",
       "\n",
       "// Listen for the clearing of the current output cell\n",
       "var outputEl = gd.closest('.output');\n",
       "if (outputEl) {{\n",
       "    x.observe(outputEl, {childList: true});\n",
       "}}\n",
       "\n",
       "                        })                };                });            </script>        </div>"
      ]
     },
     "metadata": {},
     "output_type": "display_data"
    }
   ],
   "source": [
    "#3d scatter plot against enrolled, %active and quality\n",
    "fig = px.scatter()\n",
    "fig = px.scatter_3d(all_data, x = 'enrolled', y = '%active', z = 'quality', color = 'department')\n",
    "fig.show()"
   ]
  },
  {
   "cell_type": "markdown",
   "metadata": {},
   "source": [
    "This is a 3d plot of the variables enrolled, %active, and ratings of the professor. There's not a lot we can say from this geaph except most MATH classes seem to have %active on the lower end as compared to CS classes for simialr quality and enrollment values"
   ]
  },
  {
   "cell_type": "markdown",
   "metadata": {},
   "source": [
    "## Evaluation of Significance\n",
    "For our linear regression models, we will run random permutation tests on our data to determine a p-value with which to judge if our results were significant or not. Permutation tests essentially shuffle the observed results with respect to the independent variables and calculate a linear regression slope for each shuffling. The p-value represents the probability of getting the linear regression slope we get from the data assuming the data had no correlation. We use the threshold 0.005 for statistical significance because it is generally viewed as the default (and because it was not covered in class how to choose a more appropriate one for our data). "
   ]
  },
  {
   "cell_type": "code",
   "execution_count": 15,
   "metadata": {},
   "outputs": [],
   "source": [
    "from sklearn.svm import SVC\n",
    "import warnings\n",
    "svm = SVC(kernel='linear')"
   ]
  },
  {
   "cell_type": "markdown",
   "metadata": {},
   "source": [
    "#### **(1)** Random permutation test on our multivariate linear regression"
   ]
  },
  {
   "cell_type": "code",
   "execution_count": 22,
   "metadata": {},
   "outputs": [
    {
     "name": "stdout",
     "output_type": "stream",
     "text": [
      "p-value of permutation test with n = 30: 1.00000\n"
     ]
    }
   ],
   "source": [
    "X = all_data[['enrolled',  '%active', '%response']]\n",
    "y = all_data[['quality']]\n",
    "with warnings.catch_warnings():\n",
    "    warnings.simplefilter(\"ignore\")\n",
    "    s, arr, p_value = sklearn.model_selection.permutation_test_score(svm, X, y, n_permutations=30)\n",
    "print(\"p-value of permutation test with n = 30: {:.5f}\".format(p_value))"
   ]
  },
  {
   "cell_type": "markdown",
   "metadata": {},
   "source": [
    "- Because our p-value is quite high, our correlation in our linear regression model is not statistically significant. So we reject the null hypothesis that there is a correlation between class size, relative piazza engagement, relative piazza answered question proportions, with respect to quality ratings of a course. This is consistent with our visualizations above, where there were no discernable relationships between the independent and dependent variables."
   ]
  },
  {
   "cell_type": "markdown",
   "metadata": {},
   "source": [
    "#### **(3)** Repeat linear regression of piazza activity vs class size, but randomized, to see if we get similar results"
   ]
  },
  {
   "cell_type": "code",
   "execution_count": 24,
   "metadata": {},
   "outputs": [
    {
     "name": "stdout",
     "output_type": "stream",
     "text": [
      "p-value of permutation test with n = 100: 0.00990\n"
     ]
    }
   ],
   "source": [
    "X = (np.array([all_data['%active']])).transpose()\n",
    "y = np.array(all_data['enrolled'])\n",
    "with warnings.catch_warnings():\n",
    "    warnings.simplefilter(\"ignore\")\n",
    "    s, arr, p_value = sklearn.model_selection.permutation_test_score(svm, X, y, n_permutations=100)\n",
    "print(\"p-value of permutation test with n = 100: {:.5f}\".format(p_value))"
   ]
  },
  {
   "cell_type": "markdown",
   "metadata": {},
   "source": [
    "- Because our p-value is higher than our threshold, our correlation in our linear regression model is not statistically significant. So we reject the null hypothesis that there is a correlation between relative piazza engagement and the size of a course. This is consistent with our visualization above, where there were no discernable relationships between the two variables."
   ]
  },
  {
   "cell_type": "markdown",
   "metadata": {},
   "source": [
    "#### **(4)** Repeat linear regression of piazza activity vs instructor response time, but randomized, to see if we get similar results"
   ]
  },
  {
   "cell_type": "code",
   "execution_count": 25,
   "metadata": {},
   "outputs": [
    {
     "name": "stdout",
     "output_type": "stream",
     "text": [
      "p-value of permutation test with n = 100: 0.00990\n"
     ]
    }
   ],
   "source": [
    "X = (np.array([all_data['%active']])).transpose()\n",
    "y = np.array(all_data['avg_response_time'])\n",
    "with warnings.catch_warnings():\n",
    "    warnings.simplefilter(\"ignore\")\n",
    "    s, arr, p_value = sklearn.model_selection.permutation_test_score(svm, X, y, n_permutations=100)\n",
    "print(\"p-value of permutation test with n = 100: {:.5f}\".format(p_value))"
   ]
  },
  {
   "cell_type": "markdown",
   "metadata": {},
   "source": [
    "- Again, because our p-value is higher than our threshold, our correlation in our linear regression model is not statistically significant. So we reject the null hypothesis that there is a correlation between relative piazza engagement and the average instructor response time of a course. This is consistent with our visualization above, where there were no discernable relationships between the two variables."
   ]
  },
  {
   "cell_type": "markdown",
   "metadata": {},
   "source": [
    "## Interpretation and Conclusions\n",
    "\n",
    "* Through significance analysis, we discovered that there were no significant patterns that we planned to look for in our preregisteration statements. While it is somewhat disappointing, it is quite understandable. The piazza data did not have much variation from class to class if you look at the raw data, so what variation there was appeared to be small and random. In addition, there are a wide range of factors that contribute to a student's rating of their experience with an instructor and in the course. Just to name a few:\n",
    "    - the student's prior experience in the subject\n",
    "    - the student's workload from other courses\n",
    "    - the number of friends the student had in the course\n",
    "    - the student's learning style (and instructor's teaching style)\n",
    "    - other impactful events or responsibilities the student has outside of academics\n",
    "    - the student's personal opinions\n",
    "    - the instructor's experience level in the course (though we should note the effect of this should be minimal because we only had a few courses who's data we have multiple semesters of, and they were consecutive semesters and it is known that they are not among the first semesters the instructor had taught said course)\n",
    "- Perhaps another reason why the results are not what we were expecting is because we are currently typing this report in a virtual learning setting. Maybe we are overestimating the effect of online engagement in student learning experiences because it plays a larger role for us right now than it did for the students who gave us their piazza data links from previous (essentially all in-person) semesters.\n",
    "- We also conclude that much more data is needed to generalize our findings. We discuss this in the next section, but the data we used is covers only a subset of courses taught at the college level.\n",
    "- In particular, it would be interesting to see this experiment redone using exclusively courses from Fall 2020 and Spring 2021, as most of these courses would be taught virtually. This suggests online interaction, particularly through piazza, would play a greater role in students' learning experiences, so we believe then instructor involvement and the general quality of online engagement would play a larger role in quality ratings. \n",
    "- In addition, it was not until after we had nearly finished the project that we learned there were other (probably better) places to source our student opinion data from instead of ratemyprofessors.com . For example, we heard that course evaluations are posted online publicly, and that there is an alternate version of ratemyprofessors.com that is for Cornell courses only (we cannot recall the name, as we heard this fleetingly mentioned in a peer review). Perhaps those sources would have given us more reliable and consistent data. However, using ratemyprofessors.com has its advantage in that it can be used for any college that has associated reviews on the site.\n",
    "\n"
   ]
  },
  {
   "cell_type": "markdown",
   "metadata": {},
   "source": [
    "## Limitations\n",
    "\n",
    "* Besides the limitations of data collection we must also note the limitations of what we can infer from the data. Often times, people tend to leave online reviews about things they have particularly strong opinions about. Also, people often have wildly different opinions on the same instructor's teaching style, based on a variety of factors such as prior relevant experience, workload from other classes, learning style, etc. Thus we can reasonably expect a mixed bag of reviews for all instructors. \n",
    "* Piazza is generally only used for STEM and technical courses. Looking forward, if we continued this project, we would love to investigate how humanities and liberal arts courses involve online engagement and participation, if not with Piazza, especially in the times of remote learning.\n",
    "* Logistically, the most difficult part of the project was gathering the data. Neither of us had experience with web scraping. On top of that, ratemyprofessors.com would rename its HTML tags every week or so, and every time they did, we had to revise our code. Learning web scraping, manually cleaning and pairing data, determining how to deal with an assortment of typos, and thinking how best to merge our datasets were some of the issues we faced, took up a significant amount of time every time we added new course data when we found it. We think this could be one of the limitations of this report, because it may be hard to reproduce with new data"
   ]
  },
  {
   "cell_type": "markdown",
   "metadata": {},
   "source": [
    "## Source Code\n"
   ]
  },
  {
   "cell_type": "markdown",
   "metadata": {},
   "source": [
    "- All source code, raw data sets, and previous project phases are available publicly on the project's Github page:\n",
    "    - https://github.com/Amina-S/2950_project\n",
    "- Data collection and cleaning code: \n",
    "    - [Appendix](Appendix.ipynb)\n",
    "- Web Scraping code: \n",
    "    - [Appendix 2](Appendix2.ipynb)"
   ]
  },
  {
   "cell_type": "markdown",
   "metadata": {},
   "source": [
    "## Acknowledgements"
   ]
  },
  {
   "cell_type": "markdown",
   "metadata": {},
   "source": [
    "We would like to recognize ratemyprofs.com and piazza.com from which we gathered our raw data through web scraping."
   ]
  },
  {
   "cell_type": "markdown",
   "metadata": {},
   "source": [
    "\n",
    "We would also like to thank our peers who helped us gather our data by sending us the links to their past piazza.com courses:\n",
    "- Amulya Khurana\n",
    "- Anissa Dallmann\n",
    "- Dakota Thomas\n",
    "- Destiny Nwafor\n",
    "- Elena Peot\n",
    "- Enya Zimecka\n",
    "- Luis Enriquez\n",
    "- Rayshard Thompson\n",
    "- Rizo Rakhmanov\n",
    "- Sanjana Namreen"
   ]
  },
  {
   "cell_type": "markdown",
   "metadata": {},
   "source": [
    "We would also like to thank Professor Mimno and the INFO 2950 course staff for helping this report come to fruition."
   ]
  }
 ],
 "metadata": {
  "kernelspec": {
   "display_name": "Python 3",
   "language": "python",
   "name": "python3"
  },
  "language_info": {
   "codemirror_mode": {
    "name": "ipython",
    "version": 3
   },
   "file_extension": ".py",
   "mimetype": "text/x-python",
   "name": "python",
   "nbconvert_exporter": "python",
   "pygments_lexer": "ipython3",
   "version": "3.8.5"
  }
 },
 "nbformat": 4,
 "nbformat_minor": 4
}
