{
 "cells": [
  {
   "cell_type": "markdown",
   "metadata": {},
   "source": [
    "# Student Opinions on Courses in Relation with Piazza.com Engagement\n",
    "## INFO 2950 Final Project\n",
    "#### Amina Shikhalieva, Gauri Pidatala"
   ]
  },
  {
   "cell_type": "markdown",
   "metadata": {},
   "source": [
    "## Introduction\n",
    "\n",
    "The purpose of this report is to utilize data publicly available on [piazza.com](https://piazza.com/) and [ratemyprofessors.com](https://www.ratemyprofessors.com/) to answer the question: \"What makes a class good?\". We use ratings for professors as a general indicator of how positive or negative the average student's experience was with the professor for a particular course for a particular semester, and look for patterns between good ratings and other observations in our data. Variables like class size (reflected by the Piazza enrollment), average percentage of the class engaging on Piazza, course level, and average instructor response time on Piazza are all analyzed. \n",
    "Maximizing learning and improving the student experience in a class should always be a prioritiy of instructors. If this investigation shows that behaviors like encouraging student engagement on piazza.com, responding to piazza questions in a timely manner, and limiting class sizes significantly correlates with higher student ratings of a class, this information can be used to improve student satisfaction and learning for a large range of courses both at Cornell and elsewhere. Especially now in the shift to online learning, resources such as piazza.com are becoming one of the only ways some students have of getting help in and engaging in a course, so it is only more important now to understand the its impact in learning.\n",
    "\n",
    "[] insert findings summary []"
   ]
  },
  {
   "cell_type": "markdown",
   "metadata": {},
   "source": [
    "## Data Description\n",
    "\n",
    "\n",
    "#### Dataset description\n",
    "- all_data:\n",
    "    - observances: each row represents one review on [ratemyprofessors.com](https://www.ratemyprofessors.com/)\n",
    "    - attributes:\n",
    "        - instructor: string, full name of the instructor who the review is about\n",
    "        - quality: int, 1-5, rating quality of the professor\n",
    "        - difficulty: int, 1-5, rating difficulty of professor's teaching style\n",
    "        - take_again: string, whether or not the reviewer would retake the course given their experience in it\t\n",
    "        - timestamp: string, date of when review was posted\n",
    "        - course_number: int, number portion of course name\n",
    "        - department: string, abbreviation of course department, from course name\n",
    "        - course_name: string, full course name (department + number)\n",
    "        - avg_quality: float, average quality rating of instructor who the review is about\n",
    "        - avg_difficulty: float, average difficulty rating of instructor who the review is about\t\n",
    "        - questions: int, total questions asked on piazza for the course taught by the professor for the course and professor the review is about\n",
    "        - %response: float, percentage of piazza questions that got a response for the course taught by the professor for the course and professor the review is about\n",
    "        - contributions: int, total number of piazza contributions for the course taught by the professor for the course and professor the review is about\n",
    "        - avg_response_time: int, number of minutes the average piazza question had been waiting for an answer for the course taught by the professor for the course and professor the review is about\t\n",
    "        - enrolled: int, total number of students signed into the piazza for the course taught by the professor for the course and professor the review is about\n",
    "        - %instructor_response: float, percentage of piazza questions answered by instructors for the course taught by the professor for the course and professor the review is about\n",
    "        - %active: float, percentage of students enrolled who contributed on piazza at least once, for the course taught by the professor for the course and professor the review is about\n",
    "        - semester: string, the semester a piazza course was taken (not necessarily the same semester as the review for the course)\n",
    "      \n",
    "\n",
    "#### Data acquisition\n",
    "*see [web scraping code appendix](Appendix2.ipynb)*\n",
    "##### **piazza.com** \n",
    "* See [piazza_data_collect.ipynb](piazza_data_collect.ipynb) \n",
    "* Every course on Piazza has a stats report accessible to anyone enrolled in the class (under the statistics tab). A few courses do not have this report because there was not enough piazza activity. \n",
    "* We compiled a list of courses (with no duplicates) from various departments taught in various semesters that used piazza.com as an interactive platform. For each of these courses, we recorded the URL for its stats page in the file \"piazza_stats.txt\". Here we also manually added the semester corresponding to each stats report. We then iterated through each of the URLs in the file and recorded in \"piazza .csv\" various attributes for each course\n",
    "* As of now, some of our piazza stats course names are irregular. Because there is only a small number of these irregularities and they don't follow any particular pattern, we chose to manually fix each one\n",
    "* We also need to get rid of the '%' following the values in columns \"% response\" and \"instructor_response\"\n",
    "* We also want to be able to group our courses by departments\n",
    "\n",
    "##### **ratemyprofessors.com** \n",
    "* See [data_collect.ipynb](data_collect.ipynb)\n",
    "* We manually associate each course element of our piazza.csv database with the name of the professor who taught it that semester. We then manually aqcuire the URLs of the associated ratemyprofessors.com page of each of these professors and record them in the file \"Rate_my_prof.txt\". We then iterate through each URL in this file and scrape the necessary attributes for each review for the course we are looking for.\n",
    "* Because a review page for a professor includes many \n",
    "* Some ratemyprofessors.com reviews are void because when they were scraped the ads on the page corrupted some of the observations\n",
    "    - So we need to remove these observations. Every review is guaranteed to have a quality rating\n",
    "    - Because the course names are listed as a single string, we need to split the department name and course number and delete reviews with typos in the course name\n",
    "    - We also need to convert columns that hold number values from string to int (eg, Difficulty)\n",
    "    \n",
    " \n",
    "\n",
    "#### Preprocessing and cleaning\n",
    "See [Data collection and cleaning appendix](Appendix.ipynb)\n",
    "* Piazza data:\n",
    "    * Some of our course names had irregularities when we scraped directly from the stats pages(eg, having the semester included in the name). Because we had relatively few of these cases in our ~50 courses, we manually adjusted these names to be of the form DEPT####.\n",
    "    * We went through the columns that were supposed to hold numerical values and converted them from strings to ints or floats, as appropriate, and removed preceding \"%\" signs as needed\n",
    "    * Because we were interested in data such as the course level and department, we created two more columns by splitting the course name into its numerical and departmental values, eg) \"CS3110\" -> \"CS\", 3110\n",
    "    \n",
    "* Ratemyprofessors data:\n",
    "    * Some entries had only the instructor name and null values for all fields. This was caused by ads on the page being picked up by our scraping code. So we deleted all entries that did not have the \"quality\" field because every review was required to have a value for the quality rating.\n",
    "    * Many reviews had typos in the course names (eg, \"CS111\" instead of \"CS1110\"). Also, there were some courses whos instructor had very few reviews. We resolved both of these issues at once my only including a review if at least 4 other reviews had the same course name. So, reviews for courses with 4 or fewer reviews were not included (to get a larger data sample and more accurate analysis) and reviews with misspelled course names were not included to minimize ambiguity (because there were far too many reviews to manually correct typos for).\n",
    "    * We went through the columns that were supposed to hold numerical values and converted them from strings to ints or floats, as appropriate\n",
    "    \n",
    " * Merging into all_data:\n",
    "     * To easily cross analyze our two sets of data, we did an inner merge of our ratings and piazza data on both the name of the instructor and the name of the course taught. We then did a little column renaming and dropping to tidy up redundencies and inconsistencies. \n",
    "\n",
    "#### Raw data\n",
    "\n",
    "* Manually entered: \n",
    "    - [piazza_links.txt](piazza_links.txt)\n",
    "    - [Rate_my_prof.txt](Rate_my_prof.txt)\n",
    "* Automatically compiled / scraped using above input:\n",
    "    - [piazza_data.csv](piazza_data.csv)\n",
    "    - [rmp.csv](rmp.csv)\n",
    "* Final dataset used in analysis:\n",
    "    - [all_data](all_data.csv)\n",
    "\n",
    "#### Potential drawbacks and limitations\n",
    "* While we did manage to get data corresponding to a wide variety of courses, including Econ, CS, and Physics, we did not have many of each kind of course. Particularly, we do not have enough to be able to look at potential trends across departments like we had hoped.\n",
    "* A couple classes had two instructors. Because we did not know how to logically deal with this, we chose the instructor who taught the most lectures, determined by asking the students who took such classes. \n",
    "\n"
   ]
  },
  {
   "cell_type": "markdown",
   "metadata": {},
   "source": [
    "## Preregistration Statement\n",
    "\n",
    "#### Analyses:\n",
    "\n",
    "- Use multi-variable linear regression to try to predict the rating of the professor teaching the course (with training values gathered from ratemyprofessors.com)\n",
    "    - Predicting variables:\n",
    "        - class size (approximated by Piazza enrollment)\n",
    "        - department (use dummy values for each group)\n",
    "        - Piazza activity (as a percent)\n",
    "    - The results will help us understand if there is a strong linear relationship between the combination of these three variables with the ratings of students' experiences with the professor teaching the class, which we will interpret as strongly correlated with the quality of the students' experience in the class \n",
    "    \n",
    "- Use k-means clustering to plot class size by professor rating, color coded by clusters\n",
    "    - Clusters: departments\n",
    "    - This may show us if certain departments correspond with larger class sizes or higher ratings\n",
    "    - The results may be useful if there is in fact such a relationship, so if we see some deparments consistently have lower ratings than others, then leaders at the heads of those departments could see if a change in class sizes or Piazza engagement may help students have a better learning experience in their department.\n",
    "    \n",
    "- Use linear regression and correlation coefficient to determine if there is a correlation between the variables class size and piazza activity for a course.\n",
    "    - A strong correlation here may suggest that students feel more confident asking questions in smaller classes than bigger classes and vice versa. \n",
    "    \n",
    "- Use linear regression and correlation coefficient to determine if there is a correlation between the variables instructor response time and piazza activity for a course.\n",
    "    - This may help us determine whether classes with higher instructer involvement result in higher student involvement for a course.\n"
   ]
  },
  {
   "cell_type": "markdown",
   "metadata": {},
   "source": [
    "## Data Analysis"
   ]
  },
  {
   "cell_type": "code",
   "execution_count": 10,
   "metadata": {},
   "outputs": [],
   "source": [
    "import numpy as np\n",
    "import pandas as pd\n",
    "from matplotlib import pyplot as plt\n",
    "from sklearn.linear_model import LinearRegression\n",
    "from scipy import stats\n",
    "\n",
    "\n",
    "piazza_data = pd.read_csv('piazza.csv')\n",
    "ratings_data = pd.read_csv('rmp.csv')\n",
    "all_data = pd.read_csv('all_data.csv')"
   ]
  },
  {
   "cell_type": "markdown",
   "metadata": {},
   "source": [
    "#### Use multi-variable linear regression to try to predict the rating of the professor teaching the course (with training values gathered from ratemyprofessors.com)\n",
    "    - Predicting variables:\n",
    "        - class size (approximated by Piazza enrollment)\n",
    "        - department (use dummy values for each group)       \n",
    "        - Piazza activity (as a percent)\n"
   ]
  },
  {
   "cell_type": "code",
   "execution_count": null,
   "metadata": {},
   "outputs": [],
   "source": []
  },
  {
   "cell_type": "markdown",
   "metadata": {},
   "source": [
    "- **Analysis**: \n"
   ]
  },
  {
   "cell_type": "markdown",
   "metadata": {},
   "source": [
    "#### Use k-means clustering to plot class size by professor rating, color coded by clusters\n",
    "    - Clusters: departments"
   ]
  },
  {
   "cell_type": "code",
   "execution_count": null,
   "metadata": {},
   "outputs": [],
   "source": []
  },
  {
   "cell_type": "markdown",
   "metadata": {},
   "source": [
    "- **Analysis**: \n"
   ]
  },
  {
   "cell_type": "markdown",
   "metadata": {},
   "source": [
    "#### Use linear regression and correlation coefficient to determine if there is a correlation between the variables class size and piazza activity for a course."
   ]
  },
  {
   "cell_type": "code",
   "execution_count": 18,
   "metadata": {},
   "outputs": [
    {
     "name": "stdout",
     "output_type": "stream",
     "text": [
      "Lin reg slope: -0.01\n",
      "r^2 0.029669164221485356\n"
     ]
    },
    {
     "data": {
      "image/png": "[encoded data removed]",
      "text/plain": [
       "<Figure size 432x288 with 1 Axes>"
      ]
     },
     "metadata": {
      "needs_background": "light"
     },
     "output_type": "display_data"
    }
   ],
   "source": [
    "plt.scatter(all_data['enrolled'], all_data['%active'])\n",
    "plt.xlabel('Avg. Response Time (minutes)')\n",
    "plt.ylabel('% of Enrolled students active')\n",
    "\n",
    "l = LinearRegression()\n",
    "model = l.fit(np.array(all_data[['enrolled']]).reshape(-1,1), all_data[['%active']])\n",
    "predictions = model.predict(all_data[['enrolled']])\n",
    "r = model.score(all_data[['enrolled']],all_data['%active'])\n",
    "print(\"Lin reg slope: {:.2f}\".format(l.coef_[0][0]))\n",
    "print('r^2', r)"
   ]
  },
  {
   "cell_type": "markdown",
   "metadata": {},
   "source": [
    "- **Analysis**: \n"
   ]
  },
  {
   "cell_type": "markdown",
   "metadata": {},
   "source": [
    "#### Use linear regression and correlation coefficient to determine if there is a correlation between the variables instructor response time and piazza activity for a course."
   ]
  },
  {
   "cell_type": "code",
   "execution_count": 17,
   "metadata": {},
   "outputs": [
    {
     "name": "stdout",
     "output_type": "stream",
     "text": [
      "Lin reg slope: -0.35\n",
      "r^2 0.1779932410278242\n"
     ]
    },
    {
     "data": {
      "image/png": "[encoded data removed]",
      "text/plain": [
       "<Figure size 432x288 with 1 Axes>"
      ]
     },
     "metadata": {
      "needs_background": "light"
     },
     "output_type": "display_data"
    }
   ],
   "source": [
    "#plot\n",
    "plt.scatter(all_data['avg_response_time'], all_data['%active'])\n",
    "plt.xlabel('Avg. Response Time (minutes)')\n",
    "plt.ylabel('% of Enrolled students active')\n",
    "\n",
    "#model\n",
    "l = LinearRegression()\n",
    "model = l.fit(np.array(all_data[['avg_response_time']]).reshape(-1,1), all_data[['%active']])\n",
    "predictions = model.predict(all_data[['avg_response_time']])\n",
    "r = model.score(all_data[['avg_response_time']],all_data['%active'])\n",
    "print(\"Lin reg slope: {:.2f}\".format(l.coef_[0][0]))\n",
    "print('r^2', r)"
   ]
  },
  {
   "cell_type": "markdown",
   "metadata": {},
   "source": [
    "    - We can see by the plot that there is an outlier where the average response time is over 80 minutes, let's see if removing it gives us a better idea of the trend in the data."
   ]
  },
  {
   "cell_type": "code",
   "execution_count": 20,
   "metadata": {},
   "outputs": [
    {
     "name": "stdout",
     "output_type": "stream",
     "text": [
      "Lin reg slope: -0.44\n",
      "r^2 0.2148244336877424\n"
     ]
    },
    {
     "data": {
      "image/png": "[encoded data removed]",
      "text/plain": [
       "<Figure size 432x288 with 1 Axes>"
      ]
     },
     "metadata": {
      "needs_background": "light"
     },
     "output_type": "display_data"
    }
   ],
   "source": [
    "#new copy of all_data with outlier removed\n",
    "all_data_copy = all_data.copy()\n",
    "all_data_copy = all_data_copy[all_data_copy.avg_response_time < 80]\n",
    "\n",
    "#previous code the same, with new version of all_data\n",
    "plt.scatter(all_data_copy['avg_response_time'], all_data_copy['%active'])\n",
    "plt.xlabel('Avg. Response Time (minutes)')\n",
    "plt.ylabel('% of Enrolled students active')\n",
    "\n",
    "l = LinearRegression()\n",
    "model = l.fit(np.array(all_data_copy[['avg_response_time']]).reshape(-1,1), all_data_copy[['%active']])\n",
    "predictions = model.predict(all_data_copy[['avg_response_time']])\n",
    "r = model.score(all_data_copy[['avg_response_time']],all_data_copy['%active'])\n",
    "print(\"Lin reg slope: {:.2f}\".format(l.coef_[0][0]))\n",
    "print('r^2', r)"
   ]
  },
  {
   "cell_type": "markdown",
   "metadata": {},
   "source": [
    "- **Analysis**: \n"
   ]
  },
  {
   "cell_type": "markdown",
   "metadata": {},
   "source": [
    "## Evaluation of Significance"
   ]
  },
  {
   "cell_type": "markdown",
   "metadata": {},
   "source": [
    "- Repeat linear regression of piazza activity vs class size, but randomized, to see if we get similar results"
   ]
  },
  {
   "cell_type": "markdown",
   "metadata": {},
   "source": [
    "- Repeat linear regression of piazza activity vs instructor response time, but randomized, to see if we get similar results"
   ]
  },
  {
   "cell_type": "markdown",
   "metadata": {},
   "source": [
    "## Interpretation and Conclusions"
   ]
  },
  {
   "cell_type": "markdown",
   "metadata": {},
   "source": [
    "## Limitations\n",
    "\n",
    "* Besides the limitations of data collection we must also note the limitations of what we can infer from the data. Often times, people tend to leave online reviews about things they have particularly strong opinions about. Also, people often have wildly different opinions on the same instructor's teaching style, based on a variety of factors such as prior relevant experience, workload from other classes, learning style, etc. Thus we can reasonably expect a mixed bag of reviews for all instructors. \n",
    "* Piazza is generally only used for STEM and technical courses. Looking forward, if we continued this project, we would love to investigate how humanities and liberal arts courses involve online engagement and participation, if not with Piazza, especially in the times of remote learning."
   ]
  },
  {
   "cell_type": "markdown",
   "metadata": {},
   "source": [
    "## Source Code\n"
   ]
  },
  {
   "cell_type": "markdown",
   "metadata": {},
   "source": [
    "- All source code, raw data sets, and previous project phases are available publicly on the project's Github page:\n",
    "    - https://github.com/Amina-S/2950_project\n",
    "- Data collection and cleaning code: \n",
    "    - [Appendix](Appendix.ipynb)\n",
    "- Web Scraping code: \n",
    "    - [Appendix 2](Appendix2.ipynb)"
   ]
  },
  {
   "cell_type": "markdown",
   "metadata": {},
   "source": [
    "## Acknowledgements"
   ]
  },
  {
   "cell_type": "markdown",
   "metadata": {},
   "source": [
    "We would like to recognize ratemyprofs.com and piazza.com from which we gathered our raw data through web scraping."
   ]
  },
  {
   "cell_type": "markdown",
   "metadata": {},
   "source": [
    "\n",
    "We would also like to thank our peers who helped us gather our data by sending us the links to their past piazza.com courses:\n",
    "- Amulya Khurana\n",
    "- Anissa Dallmann\n",
    "- Dakota Thomas\n",
    "- Destiny Nwafor\n",
    "- Elena Peot\n",
    "- Enya Zimecka\n",
    "- Luis Enriquez\n",
    "- Rayshard Thompson\n",
    "- Rizo Rakhmanov\n",
    "- Sanjana Namreen"
   ]
  },
  {
   "cell_type": "markdown",
   "metadata": {},
   "source": [
    "We would also like to thank Prof. Mimno and the INFO 2950 course staff for helping this report come to fruition."
   ]
  }
 ],
 "metadata": {
  "kernelspec": {
   "display_name": "Python 3",
   "language": "python",
   "name": "python3"
  },
  "language_info": {
   "codemirror_mode": {
    "name": "ipython",
    "version": 3
   },
   "file_extension": ".py",
   "mimetype": "text/x-python",
   "name": "python",
   "nbconvert_exporter": "python",
   "pygments_lexer": "ipython3",
   "version": "3.7.9"
  }
 },
 "nbformat": 4,
 "nbformat_minor": 4
}
