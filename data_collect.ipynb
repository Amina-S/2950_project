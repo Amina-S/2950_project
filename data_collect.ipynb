{
 "cells": [
  {
   "cell_type": "code",
   "execution_count": 183,
   "metadata": {},
   "outputs": [
    {
     "name": "stdout",
     "output_type": "stream",
     "text": [
      "https://www.ratemyprofessors.com/ShowRatings.jsp?tid=2258736\n",
      "https://www.ratemyprofessors.com/ShowRatings.jsp?tid=2258736\n",
      "https://www.ratemyprofessors.com/ShowRatings.jsp?tid=1705832\n",
      "https://www.ratemyprofessors.com/ShowRatings.jsp?tid=261710\n",
      "https://www.ratemyprofessors.com/ShowRatings.jsp?tid=2109847\n",
      "https://www.ratemyprofessors.com/ShowRatings.jsp?tid=2239807\n",
      "https://www.ratemyprofessors.com/ShowRatings.jsp?tid=2168708\n",
      "https://www.ratemyprofessors.com/ShowRatings.jsp?tid=2290792\n",
      "https://www.ratemyprofessors.com/ShowRatings.jsp?tid=2473568\n",
      "https://www.ratemyprofessors.com/ShowRatings.jsp?tid=272018\n",
      "https://www.ratemyprofessors.com/ShowRatings.jsp?tid=1582680\n",
      "https://www.ratemyprofessors.com/ShowRatings.jsp?tid=620736\n",
      "https://www.ratemyprofessors.com/ShowRatings.jsp?tid=560515\n",
      "https://www.ratemyprofessors.com/search/teachers?query=yudong%20chen\n",
      "https://www.ratemyprofessors.com/ShowRatings.jsp?tid=187593\n",
      "https://www.ratemyprofessors.com/ShowRatings.jsp?tid=1708584\n",
      "https://www.ratemyprofessors.com/ShowRatings.jsp?tid=2361357\n",
      "https://www.ratemyprofessors.com/ShowRatings.jsp?tid=650286\n"
     ]
    }
   ],
   "source": [
    "import sys\n",
    "import requests\n",
    "import bs4 \n",
    "import numpy as np\n",
    "import pandas as pd\n",
    "import os\n",
    "import time\n",
    "import csv\n",
    "\n",
    "myfile = open(\"Rate_my_prof.txt\") \n",
    "lst = []\n",
    "with open(\"rmp.csv\", \"w\", newline = '') as csvfile:\n",
    "    writer = csv.writer(csvfile)\n",
    "    columns = [(\"Name\", \"Quality\", \"Difficulty\", \"Would Take Again\", \"Date\")]\n",
    "    for data in columns:\n",
    "            writer.writerow(data)\n",
    "    for line in myfile:\n",
    "        url = line\n",
    "        url = url.rstrip(\"\\n\")\n",
    "        page = requests.get(url)\n",
    "        \n",
    "\n",
    "        soup = bs4.BeautifulSoup(page.text, \"html.parser\")\n",
    "        \n",
    "        dataset = []\n",
    "        \n",
    "        ul      = soup.find('ul', {'class': 'RatingsList__RatingsUL-hn9one-1 kHITzZ'})\n",
    "        print(url)\n",
    "        if ul is not None:\n",
    "            for item in ul.findAll('li', recursive = False):\n",
    "\n",
    "                if item is not None:\n",
    "                    \n",
    "                    date = \"None\"\n",
    "                    quality = \"None\"\n",
    "                    difficulty = \"None\"\n",
    "                    would_take_again = \"None\"\n",
    "                    \n",
    "                    \n",
    "                    name_class = soup.find(\"div\", {\"class\": 'NameTitle__Name-dowf0z-0 jeLOXk'})\n",
    "                    first_name = name_class.span.text\n",
    "                    #last_name_first_name = last_name_class.select('div[class*=\"NameTitle\"]')\n",
    "                    last_name_class = name_class.find(\"span\", {\"class\": 'NameTitle__LastNameWrapper-dowf0z-2 glXOHH'})\n",
    "                    #print(last_name_first_name)\n",
    "                    last_name = last_name_class.text\n",
    "                    name = first_name + \" \" + last_name\n",
    "                    #print(first_name + \" \" + last_name)\n",
    "                  \n",
    "                    q_d_up_class = item.find(\"div\", {\"class\": 'RatingValues__StyledRatingValues-sc-6dc747-0 bJSTHc'})                    \n",
    "                    if q_d_up_class is not None:\n",
    "                        #print(q_d_up_class.text)\n",
    "                        #q_up_class = q_d_up_class.find(\"div\", {\"class\": 'RatingValues__RatingContainer-sc-6dc747-1 DObVa'})                                                    \n",
    "                        quality_and_difficulty = q_d_up_class.select('div[class*=\"RatingValues__RatingValue-sc\"]')\n",
    "                        q = str(quality_and_difficulty[0])\n",
    "                        quality = float(q[-9:-6])\n",
    "                        d = str(quality_and_difficulty[1])\n",
    "                        difficulty = float(d[-9:-6])\n",
    "                        #print(quality, difficulty)\n",
    "                    \n",
    "                    would_take_again_up = item.find(\"div\", {\"class\": 'CourseMeta__StyledCourseMeta-x344ms-0 dgqjDO'})                    \n",
    "                    if would_take_again_up is not None:\n",
    "                        would_take_again_list = would_take_again_up.select('div[class*=\"MetaItem__StyledMetaItem-\"]')\n",
    "                        if len(would_take_again_list) >2:\n",
    "                            would_take_again = would_take_again_list[2].span.text\n",
    "                        #print(would_take_again)\n",
    "                    \n",
    "                    time_up_class = item.find(\"div\", {\"class\": 'RatingHeader__StyledHeader-sc-1dlkqw1-0 kiSEdA'})\n",
    "                    if time_up_class is not None:\n",
    "                        time_up_list = time_up_class.select('div[class*=\"TimeStamp__StyledTimeStamp-sc-9q2r30-\"]')\n",
    "                        #print(time_up_list)\n",
    "                        date = time_up_list[0].text\n",
    "\n",
    "                    dataset.append((name, quality, difficulty, would_take_again, date))\n",
    "\n",
    "                    for data in dataset:\n",
    "                        writer.writerow(data)\n",
    "\n",
    "            time.sleep(0.01)\n",
    "\n",
    "\n",
    "    \n",
    "myfile.close()\n",
    "\n",
    "\n"
   ]
  },
  {
   "cell_type": "code",
   "execution_count": 72,
   "metadata": {},
   "outputs": [
    {
     "name": "stdout",
     "output_type": "stream",
     "text": [
      "[]\n"
     ]
    }
   ],
   "source": [
    "print(lst)"
   ]
  },
  {
   "cell_type": "code",
   "execution_count": 126,
   "metadata": {},
   "outputs": [
    {
     "name": "stdout",
     "output_type": "stream",
     "text": [
      "None\n"
     ]
    }
   ],
   "source": [
    "print (q_up_class.find(\"div\", {\"class\": 'RatingValues__RatingValue-sc-6dc747-3 ieQwTJ'}))"
   ]
  },
  {
   "cell_type": "code",
   "execution_count": 50,
   "metadata": {},
   "outputs": [],
   "source": [
    "CourseMeta__StyledCourseMeta-x344ms-0 dgqjDO\n",
    "CourseMeta__StyledCourseMeta-x344ms-0 dgqjDO\n",
    "TimeStamp__StyledTimeStamp-sc-9q2r30-0 bXQmMr RatingHeader__RatingTimeStamp-sc-1dlkqw1-3 BlaCV\n",
    "TimeStamp__StyledTimeStamp-sc-9q2r30-0 bXQmMr RatingHeader__RatingTimeStamp-sc-1dlkqw1-3 BlaCV\n",
    "    "
   ]
  },
  {
   "cell_type": "code",
   "execution_count": 52,
   "metadata": {},
   "outputs": [
    {
     "name": "stdout",
     "output_type": "stream",
     "text": [
      "[]\n"
     ]
    }
   ],
   "source": []
  },
  {
   "cell_type": "code",
   "execution_count": null,
   "metadata": {},
   "outputs": [],
   "source": []
  }
 ],
 "metadata": {
  "kernelspec": {
   "display_name": "Python 3",
   "language": "python",
   "name": "python3"
  },
  "language_info": {
   "codemirror_mode": {
    "name": "ipython",
    "version": 3
   },
   "file_extension": ".py",
   "mimetype": "text/x-python",
   "name": "python",
   "nbconvert_exporter": "python",
   "pygments_lexer": "ipython3",
   "version": "3.8.5"
  }
 },
 "nbformat": 4,
 "nbformat_minor": 4
}
