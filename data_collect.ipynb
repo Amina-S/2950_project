{
 "cells": [
  {
   "cell_type": "code",
   "execution_count": 124,
   "metadata": {},
   "outputs": [
    {
     "name": "stdout",
     "output_type": "stream",
     "text": [
      "https://www.ratemyprofessors.com/ShowRatings.jsp?tid=2258736\n",
      "<div class=\"RatingHeader__StyledHeader-sc-1dlkqw1-0 kiSEdA\"><div class=\"RatingHeader__ClassInfoWrapper-sc-1dlkqw1-1 jxOApy\"><div class=\"RatingHeader__StyledClass-sc-1dlkqw1-2 cElrQc\"> <!-- -->CS4700</div><div class=\"EmotionLabel__StyledEmotionLabel-sc-1u525uj-0 hRJbNl\"><span aria-label=\"Sunglasses\" role=\"img\">😎</span>awesome</div></div><div class=\"TimeStamp__StyledTimeStamp-sc-9q2r30-0 bXQmMr RatingHeader__RatingTimeStamp-sc-1dlkqw1-3 BlaCV\">May 11th, 2020</div></div>\n"
     ]
    },
    {
     "ename": "AttributeError",
     "evalue": "'NoneType' object has no attribute 'text'",
     "output_type": "error",
     "traceback": [
      "\u001b[0;31m---------------------------------------------------------------------------\u001b[0m",
      "\u001b[0;31mAttributeError\u001b[0m                            Traceback (most recent call last)",
      "\u001b[0;32m<ipython-input-124-56c4304fd2d3>\u001b[0m in \u001b[0;36m<module>\u001b[0;34m\u001b[0m\n\u001b[1;32m     54\u001b[0m                         \u001b[0mq_up_class\u001b[0m \u001b[0;34m=\u001b[0m \u001b[0mq_d_up_class\u001b[0m\u001b[0;34m.\u001b[0m\u001b[0mfind\u001b[0m\u001b[0;34m(\u001b[0m\u001b[0;34m\"div\"\u001b[0m\u001b[0;34m,\u001b[0m \u001b[0;34m{\u001b[0m\u001b[0;34m\"class\"\u001b[0m\u001b[0;34m:\u001b[0m \u001b[0;34m'RatingValues__RatingContainer-sc-6dc747-1 DObVa'\u001b[0m\u001b[0;34m}\u001b[0m\u001b[0;34m)\u001b[0m\u001b[0;34m\u001b[0m\u001b[0;34m\u001b[0m\u001b[0m\n\u001b[1;32m     55\u001b[0m                         \u001b[0mquality\u001b[0m \u001b[0;34m=\u001b[0m \u001b[0;34m(\u001b[0m\u001b[0mq_up_class\u001b[0m\u001b[0;34m.\u001b[0m\u001b[0mfind\u001b[0m\u001b[0;34m(\u001b[0m\u001b[0;34m\"div\"\u001b[0m\u001b[0;34m,\u001b[0m \u001b[0;34m{\u001b[0m\u001b[0;34m\"class\"\u001b[0m\u001b[0;34m:\u001b[0m \u001b[0;34m'RatingValues__RatingValue-sc-6dc747-3 iZENup'\u001b[0m\u001b[0;34m}\u001b[0m\u001b[0;34m)\u001b[0m\u001b[0;34m)\u001b[0m\u001b[0;34m.\u001b[0m\u001b[0mtext\u001b[0m\u001b[0;34m\u001b[0m\u001b[0;34m\u001b[0m\u001b[0m\n\u001b[0;32m---> 56\u001b[0;31m                         \u001b[0mdifficulty\u001b[0m \u001b[0;34m=\u001b[0m \u001b[0;34m(\u001b[0m\u001b[0mq_up_class\u001b[0m\u001b[0;34m.\u001b[0m\u001b[0mfind\u001b[0m\u001b[0;34m(\u001b[0m\u001b[0;34m\"div\"\u001b[0m\u001b[0;34m,\u001b[0m \u001b[0;34m{\u001b[0m\u001b[0;34m\"class\"\u001b[0m\u001b[0;34m:\u001b[0m \u001b[0;34m'RatingValues__RatingValue-sc-6dc747-3 ieQwTJ'\u001b[0m\u001b[0;34m}\u001b[0m\u001b[0;34m)\u001b[0m\u001b[0;34m)\u001b[0m\u001b[0;34m.\u001b[0m\u001b[0mtext\u001b[0m\u001b[0;34m\u001b[0m\u001b[0;34m\u001b[0m\u001b[0m\n\u001b[0m\u001b[1;32m     57\u001b[0m                     \u001b[0mwould_take_again\u001b[0m \u001b[0;34m=\u001b[0m \u001b[0msoup\u001b[0m\u001b[0;34m.\u001b[0m\u001b[0mfindAll\u001b[0m\u001b[0;34m(\u001b[0m\u001b[0;34m\"div\"\u001b[0m\u001b[0;34m,\u001b[0m \u001b[0;34m{\u001b[0m\u001b[0;34m\"class\"\u001b[0m\u001b[0;34m:\u001b[0m \u001b[0;34m\"MetaItem__StyledMetaItem-y0ixml-0 ezVUqy\"\u001b[0m\u001b[0;34m}\u001b[0m\u001b[0;34m)\u001b[0m\u001b[0;34m\u001b[0m\u001b[0;34m\u001b[0m\u001b[0m\n\u001b[1;32m     58\u001b[0m                     \u001b[0;32mif\u001b[0m \u001b[0mtime_up_class\u001b[0m \u001b[0;32mis\u001b[0m \u001b[0;32mnot\u001b[0m \u001b[0;32mNone\u001b[0m\u001b[0;34m:\u001b[0m\u001b[0;34m\u001b[0m\u001b[0;34m\u001b[0m\u001b[0m\n",
      "\u001b[0;31mAttributeError\u001b[0m: 'NoneType' object has no attribute 'text'"
     ]
    }
   ],
   "source": [
    "import sys\n",
    "import requests\n",
    "import bs4 \n",
    "import numpy as np\n",
    "import pandas as pd\n",
    "import os\n",
    "import time\n",
    "import csv\n",
    "\n",
    "# directory = r'C:\\Users\\amshi\\Cornell\\CS\\INFO 2950\\2950_project'\n",
    "# for file in os.scandir(directory):\n",
    "#     if (file.path.endswith('.html')):\n",
    "#         soup = bs4.BeautifulSoup(wikiResponse.text, 'html.parser')\n",
    "\n",
    "# \n",
    "\n",
    "#url = \"https://www.ratemyprofessors.com/ShowRatings.jsp?tid=1705832\"\n",
    "myfile = open(\"Rate_my_prof.txt\") \n",
    "lst = []\n",
    "with open(\"rmp.csv\", \"w\", newline = '') as csvfile:\n",
    "    writer = csv.writer(csvfile)\n",
    "    columns = [(\"Name\", \"Quality\", \"Difficulty\", \"Would Take Again\", \"Date\")]\n",
    "    for data in columns:\n",
    "            writer.writerow(data)\n",
    "    for line in myfile:\n",
    "        url = line\n",
    "        url = url.rstrip(\"\\n\")\n",
    "        page = requests.get(url)\n",
    "        #print(url)\n",
    "\n",
    "        soup = bs4.BeautifulSoup(page.text, \"html.parser\")\n",
    "        \n",
    "        dataset = []\n",
    "        \n",
    "        ul      = soup.find('ul', {'class': 'RatingsList__RatingsUL-hn9one-1 kHITzZ'})\n",
    "        #html_list = soup.find_element_by_id(\"ratingsList\")\n",
    "        #tems = html_list.find_elements_by_tag_name(\"li\")\n",
    "        print(url)\n",
    "        if ul is not None:\n",
    "            for item in ul.findAll('li', recursive = False):\n",
    "\n",
    "                if item is not None:\n",
    "                    time_up_class = item.find(\"div\", {\"class\": 'RatingHeader__StyledHeader-sc-1dlkqw1-0 kiSEdA'})\n",
    "                    print(time_up_class)\n",
    "                    #print(time_up_class)\n",
    "                    date = \"None\"\n",
    "                    quality = \"None\"\n",
    "                    difficulty = \"None\"\n",
    "                    \n",
    "                    last_name = soup.findAll(\"div\", {\"class\": 'NameTitle__Name-dowf0z-0 jeLOXk'})\n",
    "                    q_d_up_class = item.find(\"div\", {\"class\": 'RatingValues__StyledRatingValues-sc-6dc747-0 bJSTHc'})\n",
    "                    #print(q_d_up_class.text)\n",
    "                    if q_d_up_class is not None:\n",
    "                        q_up_class = q_d_up_class.find(\"div\", {\"class\": 'RatingValues__RatingContainer-sc-6dc747-1 DObVa'})\n",
    "                        quality = (q_up_class.find(\"div\", {\"class\": 'RatingValues__RatingValue-sc-6dc747-3 iZENup'})).text\n",
    "                        difficulty = (q_up_class.find(\"div\", {\"class\": 'RatingValues__RatingValue-sc-6dc747-3 ieQwTJ'})).text\n",
    "                    would_take_again = soup.findAll(\"div\", {\"class\": \"MetaItem__StyledMetaItem-y0ixml-0 ezVUqy\"})\n",
    "                    if time_up_class is not None:\n",
    "                        date = time_up_class.find(\"div\", {\"class\": 'TimeStamp__StyledTimeStamp-sc-9q2r30-0 bXQmMr RatingHeader__RatingTimeStamp-sc-1dlkqw1-3 BlaCV'}).text()\n",
    "                    #print(date.text)\n",
    "                    t = item.get_text()\n",
    "                    print(t)\n",
    "                    #tuple = \n",
    "                    #dataset.append()\n",
    "\n",
    "                    dataset.append(( l, x, y, z, a) for l,x,y,z,a in zip(last_name, quality, difficulty, would_take_again, date))\n",
    "            #         print(dataset)\n",
    "\n",
    "                    for data in dataset:\n",
    "                        writer.writerow(data)\n",
    "\n",
    "            time.sleep(0.01)\n",
    "\n",
    "\n",
    "    \n",
    "myfile.close()\n",
    "\n",
    "\n"
   ]
  },
  {
   "cell_type": "code",
   "execution_count": 72,
   "metadata": {},
   "outputs": [
    {
     "name": "stdout",
     "output_type": "stream",
     "text": [
      "[]\n"
     ]
    }
   ],
   "source": [
    "print(lst)"
   ]
  },
  {
   "cell_type": "code",
   "execution_count": 49,
   "metadata": {},
   "outputs": [
    {
     "data": {
      "text/plain": [
       "[]"
      ]
     },
     "execution_count": 49,
     "metadata": {},
     "output_type": "execute_result"
    }
   ],
   "source": []
  },
  {
   "cell_type": "code",
   "execution_count": 50,
   "metadata": {},
   "outputs": [],
   "source": [
    "\n",
    "    "
   ]
  },
  {
   "cell_type": "code",
   "execution_count": 52,
   "metadata": {},
   "outputs": [
    {
     "name": "stdout",
     "output_type": "stream",
     "text": [
      "[]\n"
     ]
    }
   ],
   "source": []
  },
  {
   "cell_type": "code",
   "execution_count": null,
   "metadata": {},
   "outputs": [],
   "source": []
  }
 ],
 "metadata": {
  "kernelspec": {
   "display_name": "Python 3",
   "language": "python",
   "name": "python3"
  },
  "language_info": {
   "codemirror_mode": {
    "name": "ipython",
    "version": 3
   },
   "file_extension": ".py",
   "mimetype": "text/x-python",
   "name": "python",
   "nbconvert_exporter": "python",
   "pygments_lexer": "ipython3",
   "version": "3.8.5"
  }
 },
 "nbformat": 4,
 "nbformat_minor": 4
}
