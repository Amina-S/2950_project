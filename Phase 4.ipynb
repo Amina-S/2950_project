{
 "cells": [
  {
   "cell_type": "markdown",
   "metadata": {},
   "source": [
    "# P4"
   ]
  },
  {
   "cell_type": "markdown",
   "metadata": {},
   "source": [
    "## Introduction\n",
    "\n",
    "The purpose of this report is to utilize data publicly available on Piazza.com and ratemyprofessors.com to answer the question: \"What makes a class good?\". We use ratings for professors as a general indicator of how positive or negative the average student's experience was with the professor for a particular course for a particular semester, and look for patterns between good ratings and other observations in our data. Variables like class size (reflected by the Piazza enrollment), average percentage of the class engaging on Piazza, course level, and average instructor response time on Piazza are all analyzed. "
   ]
  },
  {
   "cell_type": "markdown",
   "metadata": {},
   "source": [
    "## Data Description\n",
    "\n",
    "We primarily use web scraping to acquire data and store it in two tables.\n",
    "#### Data acquisition and cleaning: \n",
    "\n",
    "**piazza.com** \n",
    "* See \"piazza_data_collect.ipynb\"\n",
    "* Every course on Piazza has a stats report accessible to anyone enrolled in the class (under the statistics tab). A few courses do not have this report because there was not enough piazza activity. \n",
    "* We compiled a list of courses (with no duplicates) from various departments taught in various semesters that used piazza.com as an interactive platform. For each of these courses, we recorded the URL for its stats page in the file \"piazza_stats.txt\". Here we also manually added the semester corresponding to each stats report. We then iterated through each of the URLs in the file and recorded in [ piazza .csv ] various attributes for each course\n",
    "* As of now, some of our piazza stats course names are irregular. Because there is only a small number of these irregularities and they don't follow any particular pattern, we chose to manually fix each one\n",
    "* We also need to get rid of the '%' following the values in columns \"% response\" and \"instructor_response\"\n",
    "* We also want to be able to group our courses by departments\n",
    "\n",
    "**ratemyprofessors.com** \n",
    "* See \"data_collect.ipymb\"\n",
    "* We manually associate each course element of our piazza.csv database with the name of the professor who taught it that semester. We then manually aqcuire the URLs of the associated ratemyprofessors.com page of each of these professors and record them in the file \"Rate_my_prof.txt\". We then iterate through each URL in this file and scrape the necessary attributes for each review for the course we are looking for.\n",
    "* Because a review page for a professor includes many \n",
    "* Some ratemyprofessors.com reviews are void because when they were scraped the ads on the page corrupted some of the observations\n",
    "    - So we need to remove these observations. Every review is guaranteed to have a quality rating\n",
    "    - Because the course names are listed as a single string, we need to split the department name and course number and delete reviews with typos in the course name\n",
    "    - We also need to convert columns that hold number values from string to int (eg, Difficulty)\n",
    "    \n",
    "#### Tables: \n",
    "* piazza_data\n",
    "    - Stores data collected from the statistics reports of each piazza course\n",
    "    - Observations: a course (courses can be repeated but not from the same semester, in other words, CS2110 is repeated three times, but each time the data is from a different semester\n",
    "    - Attributes: \n",
    "        + Course#: A string value of the department abbreviation and course number (eg, \"PHYS 2213\")\n",
    "        + Total_Q: \n",
    "        + %Response: percentage of questions that received a response\n",
    "        + #Contributions: total number of questions, answers, notes, and posts by all members\n",
    "        + Avg_Response_Time: average number of minutes it takes for a question to be answered\n",
    "        + Enrolled: number of students signed up to the course piazza\n",
    "        + instructor_response: percentage of questions answered by an instructor (the professor/lecturer or TA's) \n",
    "        + %Active: percentage of students enrolled who contributed on piazza\n",
    "        + Semester: A string containing the semester abbreviation and year abbreviation (eg, \"SP19\")\n",
    "        + department: a string value of the department of the course (eg, \"PHYS\")\n",
    "        + course_num: an integer value of the course number (eg, 2213)\n",
    "        \n",
    "\n",
    "* ratings_data\n",
    "    - Stores data collected from the review pages of professors who have taught the courses that we collected piazza data for\n",
    "    - Observations: a professor \n",
    "    - Attributes: \n",
    "        + Name: the name of the professor as a string\n",
    "        + Quality: an integer rating from 1-5 of the quality of the professor's teaching\n",
    "        + Difficulty: an integer rating from 1-5 of the difficulty of the professor's course\n",
    "        + Would take again: a string value \"Yes\" or \"No\" based on whether the reviewer would take the course from that professor again\n",
    "        + Date: String timestamp of the review\n",
    "        + Class taught: a string value of the course the reviewer is basing their experience on with said professor (eg, \"CS4700\")\n",
    "        + course_number: integer value of the course number (eg, 4700)\n",
    "        + department: a string value of the department of the course (eg, \"CS\")\n",
    "        + Course #: string course name consistent with 'Course #' column in piazza_data"
   ]
  },
  {
   "cell_type": "markdown",
   "metadata": {},
   "source": [
    "## Preregistration Statement\n",
    "\n",
    "#### Analyses:\n",
    "\n",
    "- Use multi-variable linear regression to try to predict the rating of the professor teaching the course (with training values gathered from ratemyprofessors.com)\n",
    "    - Predicting variables:\n",
    "        - class size (approximated by Piazza enrollment)\n",
    "        - department (use dummy values for each group)\n",
    "        - Piazza activity (as a percent)\n",
    "    - The results will help us understand if there is a strong linear relationship between the combination of these three variables with the ratings of students' experiences with the professor teaching the class, which we will interpret as strongly correlated with the quality of the students' experience in the class \n",
    "    \n",
    "- Use k-means clustering to plot class size by professor rating, color coded by clusters\n",
    "    - Clusters: departments\n",
    "    - This may show us if certain departments correspond with larger class sizes or higher ratings\n",
    "    - The results may be useful if there is in fact such a relationship, so if we see some deparments consistently have lower ratings than others, then leaders at the heads of those departments could see if a change in class sizes or Piazza engagement may help students have a better learning experience in their department.\n",
    "    \n",
    "- Use linear regression and correlation coefficient to determine if there is a correlation between the variables class size and piazza activity for a course.\n",
    "    - A strong correlation here may suggest that students feel more confident asking questions in smaller classes than bigger classes and vice versa. \n",
    "    \n",
    "- Use linear regression and correlation coefficient to determine if there is a correlation between the variables instructor response time and piazza activity for a course.\n",
    "    - This may help us determine whether classes with higher instructer involvement result in higher student involvement for a course.\n"
   ]
  },
  {
   "cell_type": "markdown",
   "metadata": {},
   "source": [
    "## Data Analysis"
   ]
  },
  {
   "cell_type": "code",
   "execution_count": 3,
   "metadata": {},
   "outputs": [],
   "source": [
    "import numpy as np\n",
    "import pandas as pd\n",
    "from matplotlib import pyplot as plt\n",
    "from sklearn.linear_model import LinearRegression\n",
    "from scipy import stats"
   ]
  },
  {
   "cell_type": "code",
   "execution_count": null,
   "metadata": {},
   "outputs": [],
   "source": []
  },
  {
   "cell_type": "markdown",
   "metadata": {},
   "source": [
    "- Use multi-variable linear regression to try to predict the rating of the professor teaching the course (with training values gathered from ratemyprofessors.com)\n",
    "    - Predicting variables:\n",
    "        - class size (approximated by Piazza enrollment)\n",
    "        - department (use dummy values for each group)       \n",
    "        - Piazza activity (as a percent)\n"
   ]
  },
  {
   "cell_type": "markdown",
   "metadata": {},
   "source": [
    "- Use k-means clustering to plot class size by professor rating, color coded by clusters\n",
    "    - Clusters: departments"
   ]
  },
  {
   "cell_type": "markdown",
   "metadata": {},
   "source": [
    "- Use linear regression and correlation coefficient to determine if there is a correlation between the variables class size and piazza activity for a course."
   ]
  },
  {
   "cell_type": "markdown",
   "metadata": {},
   "source": [
    "- Use linear regression and correlation coefficient to determine if there is a correlation between the variables instructor response time and piazza activity for a course."
   ]
  },
  {
   "cell_type": "markdown",
   "metadata": {},
   "source": [
    "## Evaluation of Significance"
   ]
  },
  {
   "cell_type": "markdown",
   "metadata": {},
   "source": [
    "- Repeat linear regression of piazza activity vs class size, but randomized, to see if we get similar results"
   ]
  },
  {
   "cell_type": "markdown",
   "metadata": {},
   "source": [
    "- Repeat linear regression of piazza activity vs instructor response time, but randomized, to see if we get similar results"
   ]
  },
  {
   "cell_type": "markdown",
   "metadata": {},
   "source": [
    "## Interpretation and Conclusions"
   ]
  },
  {
   "cell_type": "markdown",
   "metadata": {},
   "source": [
    "## Limitations"
   ]
  },
  {
   "cell_type": "markdown",
   "metadata": {},
   "source": [
    "## Source Code\n"
   ]
  },
  {
   "cell_type": "markdown",
   "metadata": {},
   "source": [
    "# Acknowledgements"
   ]
  },
  {
   "cell_type": "code",
   "execution_count": null,
   "metadata": {},
   "outputs": [],
   "source": []
  }
 ],
 "metadata": {
  "kernelspec": {
   "display_name": "Python 3",
   "language": "python",
   "name": "python3"
  },
  "language_info": {
   "codemirror_mode": {
    "name": "ipython",
    "version": 3
   },
   "file_extension": ".py",
   "mimetype": "text/x-python",
   "name": "python",
   "nbconvert_exporter": "python",
   "pygments_lexer": "ipython3",
   "version": "3.7.9"
  }
 },
 "nbformat": 4,
 "nbformat_minor": 4
}
